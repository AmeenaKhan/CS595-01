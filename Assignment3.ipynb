{
 "cells": [
  {
   "cell_type": "markdown",
   "metadata": {},
   "source": [
    "# Assignment 3\n",
    "### Ameena Khan\n",
    "### CS595 : Transparent and Interactive ML"
   ]
  },
  {
   "cell_type": "code",
   "execution_count": 1,
   "metadata": {
    "collapsed": true
   },
   "outputs": [],
   "source": [
    "import pandas as pd\n",
    "from sklearn.model_selection import train_test_split\n",
    "from sklearn import tree\n",
    "from sklearn.metrics import accuracy_score\n",
    "from sklearn import tree\n",
    "from graphviz import Source"
   ]
  },
  {
   "cell_type": "markdown",
   "metadata": {},
   "source": [
    "## The Data\n",
    "This dataset is from [Kaggle: Diagnose Specific Language Impairment in Children](https://www.kaggle.com/dgokeeffe/specific-language-impairment/data). It is a collection of three separate datasets which all consist of narratives from a child (adolescent and younger) attempting to complete a wordless picture task. Based on the narratives, features have been given to describe the fluency of their response. The goal is to be able to automate the diagnosis of \"Specific Language Impairment\" given these features. Specific Language Impairment (SLI) is a condition that effects 7% of 5-year-old children and is characterized by a lack of language ability in comparison to peers but with no obvious mental or physical disability\n",
    "\n",
    "The dataset contains 1163 instances and 64 features (60 numerical, 4 categorical). A decription of these features can be found [here](https://www.kaggle.com/dgokeeffe/specific-language-impairment)."
   ]
  },
  {
   "cell_type": "code",
   "execution_count": 2,
   "metadata": {
    "collapsed": true
   },
   "outputs": [],
   "source": [
    "df = pd.read_csv(\"~/Downloads/all_data_R.csv\")"
   ]
  },
  {
   "cell_type": "markdown",
   "metadata": {},
   "source": [
    "## Preprocessing \n",
    "The *group* is perfectly matched to the *Y* feature. The only difference if that *group* contains the categorical label for classification (i.e. whether or not the child has SLI) which *Y* uses a numerical representation. As the decision tree classifier works primarily on float-typed data, the feature *group* was removed without the loss of information. \n",
    "\n",
    "The *corpus* feature was also removed as it indicated which of the three sub-datasets the instance belonged to. As the following experiment considers the dataset as a whole, these feature is also unnecessary. \n",
    "\n",
    "The *filename* feature is also irrelavent to the diagnosis of SLI in clidren and simply states where the child's narative is stored. Thus, it was also removed. \n",
    "\n",
    "The *sex* feature, not obviously insignificant or redundant, was kept in the data set but changed from a string-type value to a numerical representation to be used by the decision tree classifier. "
   ]
  },
  {
   "cell_type": "code",
   "execution_count": 3,
   "metadata": {},
   "outputs": [
    {
     "name": "stdout",
     "output_type": "stream",
     "text": [
      "<class 'pandas.core.frame.DataFrame'>\n",
      "RangeIndex: 1163 entries, 0 to 1162\n",
      "Columns: 64 entries, Y to total_error\n",
      "dtypes: float64(23), int64(37), object(4)\n",
      "memory usage: 581.6+ KB\n",
      "None\n"
     ]
    },
    {
     "data": {
      "text/html": [
       "<div>\n",
       "<style>\n",
       "    .dataframe thead tr:only-child th {\n",
       "        text-align: right;\n",
       "    }\n",
       "\n",
       "    .dataframe thead th {\n",
       "        text-align: left;\n",
       "    }\n",
       "\n",
       "    .dataframe tbody tr th {\n",
       "        vertical-align: top;\n",
       "    }\n",
       "</style>\n",
       "<table border=\"1\" class=\"dataframe\">\n",
       "  <thead>\n",
       "    <tr style=\"text-align: right;\">\n",
       "      <th></th>\n",
       "      <th>Y</th>\n",
       "      <th>sex</th>\n",
       "      <th>age</th>\n",
       "      <th>age(years)</th>\n",
       "      <th>child_TNW</th>\n",
       "      <th>child_TNS</th>\n",
       "      <th>examiner_TNW</th>\n",
       "      <th>freq_ttr</th>\n",
       "      <th>r_2_i_verbs</th>\n",
       "      <th>mor_words</th>\n",
       "      <th>...</th>\n",
       "      <th>word_errors</th>\n",
       "      <th>f_k</th>\n",
       "      <th>n_v</th>\n",
       "      <th>n_aux</th>\n",
       "      <th>n_3s_v</th>\n",
       "      <th>det_n_pl</th>\n",
       "      <th>det_pl_n</th>\n",
       "      <th>pro_aux</th>\n",
       "      <th>pro_3s_v</th>\n",
       "      <th>total_error</th>\n",
       "    </tr>\n",
       "  </thead>\n",
       "  <tbody>\n",
       "    <tr>\n",
       "      <th>0</th>\n",
       "      <td>1</td>\n",
       "      <td>0.0</td>\n",
       "      <td>165</td>\n",
       "      <td>13.750000</td>\n",
       "      <td>287</td>\n",
       "      <td>36</td>\n",
       "      <td>4</td>\n",
       "      <td>0.333</td>\n",
       "      <td>0.108108</td>\n",
       "      <td>252</td>\n",
       "      <td>...</td>\n",
       "      <td>8</td>\n",
       "      <td>1.210456</td>\n",
       "      <td>0</td>\n",
       "      <td>2</td>\n",
       "      <td>2</td>\n",
       "      <td>7</td>\n",
       "      <td>0</td>\n",
       "      <td>0</td>\n",
       "      <td>1</td>\n",
       "      <td>12</td>\n",
       "    </tr>\n",
       "    <tr>\n",
       "      <th>1</th>\n",
       "      <td>1</td>\n",
       "      <td>0.0</td>\n",
       "      <td>172</td>\n",
       "      <td>14.333333</td>\n",
       "      <td>368</td>\n",
       "      <td>42</td>\n",
       "      <td>27</td>\n",
       "      <td>0.274</td>\n",
       "      <td>0.050000</td>\n",
       "      <td>361</td>\n",
       "      <td>...</td>\n",
       "      <td>16</td>\n",
       "      <td>1.871708</td>\n",
       "      <td>0</td>\n",
       "      <td>4</td>\n",
       "      <td>0</td>\n",
       "      <td>5</td>\n",
       "      <td>0</td>\n",
       "      <td>0</td>\n",
       "      <td>0</td>\n",
       "      <td>9</td>\n",
       "    </tr>\n",
       "    <tr>\n",
       "      <th>2</th>\n",
       "      <td>1</td>\n",
       "      <td>0.0</td>\n",
       "      <td>160</td>\n",
       "      <td>13.333333</td>\n",
       "      <td>266</td>\n",
       "      <td>26</td>\n",
       "      <td>2</td>\n",
       "      <td>0.411</td>\n",
       "      <td>0.105263</td>\n",
       "      <td>246</td>\n",
       "      <td>...</td>\n",
       "      <td>0</td>\n",
       "      <td>2.240602</td>\n",
       "      <td>0</td>\n",
       "      <td>1</td>\n",
       "      <td>0</td>\n",
       "      <td>5</td>\n",
       "      <td>0</td>\n",
       "      <td>0</td>\n",
       "      <td>0</td>\n",
       "      <td>6</td>\n",
       "    </tr>\n",
       "    <tr>\n",
       "      <th>3</th>\n",
       "      <td>1</td>\n",
       "      <td>0.0</td>\n",
       "      <td>184</td>\n",
       "      <td>15.333333</td>\n",
       "      <td>405</td>\n",
       "      <td>40</td>\n",
       "      <td>21</td>\n",
       "      <td>0.359</td>\n",
       "      <td>0.148936</td>\n",
       "      <td>348</td>\n",
       "      <td>...</td>\n",
       "      <td>4</td>\n",
       "      <td>1.877762</td>\n",
       "      <td>1</td>\n",
       "      <td>0</td>\n",
       "      <td>0</td>\n",
       "      <td>11</td>\n",
       "      <td>0</td>\n",
       "      <td>0</td>\n",
       "      <td>0</td>\n",
       "      <td>12</td>\n",
       "    </tr>\n",
       "    <tr>\n",
       "      <th>4</th>\n",
       "      <td>1</td>\n",
       "      <td>0.0</td>\n",
       "      <td>176</td>\n",
       "      <td>14.666667</td>\n",
       "      <td>300</td>\n",
       "      <td>35</td>\n",
       "      <td>20</td>\n",
       "      <td>0.279</td>\n",
       "      <td>0.150000</td>\n",
       "      <td>294</td>\n",
       "      <td>...</td>\n",
       "      <td>8</td>\n",
       "      <td>0.339524</td>\n",
       "      <td>0</td>\n",
       "      <td>1</td>\n",
       "      <td>1</td>\n",
       "      <td>5</td>\n",
       "      <td>0</td>\n",
       "      <td>0</td>\n",
       "      <td>0</td>\n",
       "      <td>7</td>\n",
       "    </tr>\n",
       "  </tbody>\n",
       "</table>\n",
       "<p>5 rows × 61 columns</p>\n",
       "</div>"
      ],
      "text/plain": [
       "   Y  sex  age  age(years)  child_TNW  child_TNS  examiner_TNW  freq_ttr  \\\n",
       "0  1  0.0  165   13.750000        287         36             4     0.333   \n",
       "1  1  0.0  172   14.333333        368         42            27     0.274   \n",
       "2  1  0.0  160   13.333333        266         26             2     0.411   \n",
       "3  1  0.0  184   15.333333        405         40            21     0.359   \n",
       "4  1  0.0  176   14.666667        300         35            20     0.279   \n",
       "\n",
       "   r_2_i_verbs  mor_words     ...       word_errors       f_k  n_v  n_aux  \\\n",
       "0     0.108108        252     ...                 8  1.210456    0      2   \n",
       "1     0.050000        361     ...                16  1.871708    0      4   \n",
       "2     0.105263        246     ...                 0  2.240602    0      1   \n",
       "3     0.148936        348     ...                 4  1.877762    1      0   \n",
       "4     0.150000        294     ...                 8  0.339524    0      1   \n",
       "\n",
       "   n_3s_v  det_n_pl  det_pl_n  pro_aux  pro_3s_v  total_error  \n",
       "0       2         7         0        0         1           12  \n",
       "1       0         5         0        0         0            9  \n",
       "2       0         5         0        0         0            6  \n",
       "3       0        11         0        0         0           12  \n",
       "4       1         5         0        0         0            7  \n",
       "\n",
       "[5 rows x 61 columns]"
      ]
     },
     "execution_count": 3,
     "metadata": {},
     "output_type": "execute_result"
    }
   ],
   "source": [
    "print(df.info(verbose=False))\n",
    "\n",
    "df = df.drop('group', axis=1)\n",
    "df = df.drop('corpus', axis=1)\n",
    "df = df.drop('filename', axis=1)\n",
    "gender = df[\"sex\"].unique()\n",
    "gender_to_int = {\"male\":1, \"female\":2}\n",
    "df[\"sex\"] =df[\"sex\"].replace(gender_to_int)\n",
    "df[\"sex\"].fillna(0,inplace=True)\n",
    "                 \n",
    "df.head(n=5)"
   ]
  },
  {
   "cell_type": "markdown",
   "metadata": {},
   "source": [
    "## Test-Train Split "
   ]
  },
  {
   "cell_type": "code",
   "execution_count": 4,
   "metadata": {},
   "outputs": [
    {
     "name": "stdout",
     "output_type": "stream",
     "text": [
      "TRAINING SET\n",
      "\n",
      "<class 'pandas.core.frame.DataFrame'>\n",
      "Int64Index: 779 entries, 53 to 669\n",
      "Columns: 61 entries, Y to total_error\n",
      "dtypes: float64(24), int64(37)\n",
      "memory usage: 377.3 KB\n",
      "None \n",
      "\n",
      "\n",
      "TESTING SET\n",
      "\n",
      "<class 'pandas.core.frame.DataFrame'>\n",
      "Int64Index: 384 entries, 429 to 49\n",
      "Columns: 61 entries, Y to total_error\n",
      "dtypes: float64(24), int64(37)\n",
      "memory usage: 186.0 KB\n",
      "None\n"
     ]
    }
   ],
   "source": [
    "train, test = train_test_split(df, test_size = 0.33)\n",
    "print(\"TRAINING SET\\n\")\n",
    "print(train.info(verbose=False), \"\\n\\n\")\n",
    "print(\"TESTING SET\\n\")\n",
    "print(test.info(verbose=False))"
   ]
  },
  {
   "cell_type": "markdown",
   "metadata": {},
   "source": [
    "## DT Depth = 1"
   ]
  },
  {
   "cell_type": "code",
   "execution_count": 5,
   "metadata": {},
   "outputs": [
    {
     "data": {
      "image/svg+xml": [
       "<?xml version=\"1.0\" encoding=\"UTF-8\" standalone=\"no\"?>\n",
       "<!DOCTYPE svg PUBLIC \"-//W3C//DTD SVG 1.1//EN\"\n",
       " \"http://www.w3.org/Graphics/SVG/1.1/DTD/svg11.dtd\">\n",
       "<!-- Generated by graphviz version 2.38.0 (20140413.2041)\n",
       " -->\n",
       "<!-- Title: Tree Pages: 1 -->\n",
       "<svg width=\"244pt\" height=\"186pt\"\n",
       " viewBox=\"0.00 0.00 244.04 186.00\" xmlns=\"http://www.w3.org/2000/svg\" xmlns:xlink=\"http://www.w3.org/1999/xlink\">\n",
       "<g id=\"graph0\" class=\"graph\" transform=\"scale(1 1) rotate(0) translate(4 182)\">\n",
       "<title>Tree</title>\n",
       "<polygon fill=\"white\" stroke=\"none\" points=\"-4,4 -4,-182 240.037,-182 240.037,4 -4,4\"/>\n",
       "<!-- 0 -->\n",
       "<g id=\"node1\" class=\"node\"><title>0</title>\n",
       "<polygon fill=\"none\" stroke=\"black\" points=\"198.157,-178 33.3804,-178 33.3804,-100 198.157,-100 198.157,-178\"/>\n",
       "<text text-anchor=\"middle\" x=\"115.769\" y=\"-162.8\" font-family=\"Times,serif\" font-size=\"14.00\">mlu_morphemes &lt;= 6.948</text>\n",
       "<text text-anchor=\"middle\" x=\"115.769\" y=\"-148.8\" font-family=\"Times,serif\" font-size=\"14.00\">gini = 0.35</text>\n",
       "<text text-anchor=\"middle\" x=\"115.769\" y=\"-134.8\" font-family=\"Times,serif\" font-size=\"14.00\">samples = 779</text>\n",
       "<text text-anchor=\"middle\" x=\"115.769\" y=\"-120.8\" font-family=\"Times,serif\" font-size=\"14.00\">value = [603, 176]</text>\n",
       "<text text-anchor=\"middle\" x=\"115.769\" y=\"-106.8\" font-family=\"Times,serif\" font-size=\"14.00\">class = TD</text>\n",
       "</g>\n",
       "<!-- 1 -->\n",
       "<g id=\"node2\" class=\"node\"><title>1</title>\n",
       "<polygon fill=\"none\" stroke=\"black\" points=\"105.307,-64 0.230435,-64 0.230435,-0 105.307,-0 105.307,-64\"/>\n",
       "<text text-anchor=\"middle\" x=\"52.7686\" y=\"-48.8\" font-family=\"Times,serif\" font-size=\"14.00\">gini = 0.496</text>\n",
       "<text text-anchor=\"middle\" x=\"52.7686\" y=\"-34.8\" font-family=\"Times,serif\" font-size=\"14.00\">samples = 160</text>\n",
       "<text text-anchor=\"middle\" x=\"52.7686\" y=\"-20.8\" font-family=\"Times,serif\" font-size=\"14.00\">value = [73, 87]</text>\n",
       "<text text-anchor=\"middle\" x=\"52.7686\" y=\"-6.8\" font-family=\"Times,serif\" font-size=\"14.00\">class = SLI</text>\n",
       "</g>\n",
       "<!-- 0&#45;&gt;1 -->\n",
       "<g id=\"edge1\" class=\"edge\"><title>0&#45;&gt;1</title>\n",
       "<path fill=\"none\" stroke=\"black\" d=\"M92.8459,-99.7956C87.5686,-91 81.9436,-81.625 76.6276,-72.765\"/>\n",
       "<polygon fill=\"black\" stroke=\"black\" points=\"79.5851,-70.8914 71.4389,-64.1172 73.5826,-74.4929 79.5851,-70.8914\"/>\n",
       "<text text-anchor=\"middle\" x=\"65.3755\" y=\"-84.1707\" font-family=\"Times,serif\" font-size=\"14.00\">True</text>\n",
       "</g>\n",
       "<!-- 2 -->\n",
       "<g id=\"node3\" class=\"node\"><title>2</title>\n",
       "<polygon fill=\"none\" stroke=\"black\" points=\"235.807,-64 123.73,-64 123.73,-0 235.807,-0 235.807,-64\"/>\n",
       "<text text-anchor=\"middle\" x=\"179.769\" y=\"-48.8\" font-family=\"Times,serif\" font-size=\"14.00\">gini = 0.246</text>\n",
       "<text text-anchor=\"middle\" x=\"179.769\" y=\"-34.8\" font-family=\"Times,serif\" font-size=\"14.00\">samples = 619</text>\n",
       "<text text-anchor=\"middle\" x=\"179.769\" y=\"-20.8\" font-family=\"Times,serif\" font-size=\"14.00\">value = [530, 89]</text>\n",
       "<text text-anchor=\"middle\" x=\"179.769\" y=\"-6.8\" font-family=\"Times,serif\" font-size=\"14.00\">class = TD</text>\n",
       "</g>\n",
       "<!-- 0&#45;&gt;2 -->\n",
       "<g id=\"edge2\" class=\"edge\"><title>0&#45;&gt;2</title>\n",
       "<path fill=\"none\" stroke=\"black\" d=\"M139.055,-99.7956C144.416,-91 150.13,-81.625 155.531,-72.765\"/>\n",
       "<polygon fill=\"black\" stroke=\"black\" points=\"158.586,-74.4777 160.802,-64.1172 152.609,-70.8344 158.586,-74.4777\"/>\n",
       "<text text-anchor=\"middle\" x=\"166.696\" y=\"-84.2124\" font-family=\"Times,serif\" font-size=\"14.00\">False</text>\n",
       "</g>\n",
       "</g>\n",
       "</svg>\n"
      ],
      "text/plain": [
       "<graphviz.files.Source at 0x1192bf828>"
      ]
     },
     "execution_count": 5,
     "metadata": {},
     "output_type": "execute_result"
    }
   ],
   "source": [
    "features = list(train)\n",
    "features = features[1:]\n",
    "targets = train[\"Y\"]\n",
    "\n",
    "train_with_label = train\n",
    "train = train.drop('Y', axis=1)\n",
    "test_with_label = test\n",
    "test = test.drop('Y', axis=1)\n",
    "\n",
    "clf1 = tree.DecisionTreeClassifier(max_depth=1, random_state = 0)\n",
    "clf1 = clf1.fit(train[features],targets)\n",
    "Source(tree.export_graphviz(clf1, out_file=None,feature_names =features, class_names=[\"TD\",\"SLI\"]))"
   ]
  },
  {
   "cell_type": "code",
   "execution_count": 6,
   "metadata": {},
   "outputs": [
    {
     "name": "stdout",
     "output_type": "stream",
     "text": [
      "Depth = 1, Accuracy on training set: 79.2041078306\n",
      "Depth = 1, Accuracy on training set: 78.6458333333\n"
     ]
    }
   ],
   "source": [
    "trainer = clf1.predict(train)\n",
    "print(\"Depth = 1, Accuracy on training set:\", accuracy_score(train_with_label['Y'],trainer)*100)\n",
    "tester = clf1.predict(test)\n",
    "print(\"Depth = 1, Accuracy on training set:\", accuracy_score(test_with_label[\"Y\"],tester)*100)"
   ]
  },
  {
   "cell_type": "markdown",
   "metadata": {},
   "source": [
    "**mlu_morphemes** is the mean length of utterance of morphemes. It shows how many morphemes the child used in his/her average utterance (speaking without break) length. Morphemes are defined as \"smallest meaningful unit in the grammar of a language.\"[Reference](http://www.glossary.sil.org/term/morpheme) Thus, it is logical that a child with fewing meaningful units in an utterance is more likely to have SLI. \n",
    "\n",
    "## DT Depth = 2"
   ]
  },
  {
   "cell_type": "code",
   "execution_count": 7,
   "metadata": {},
   "outputs": [
    {
     "data": {
      "image/svg+xml": [
       "<?xml version=\"1.0\" encoding=\"UTF-8\" standalone=\"no\"?>\n",
       "<!DOCTYPE svg PUBLIC \"-//W3C//DTD SVG 1.1//EN\"\n",
       " \"http://www.w3.org/Graphics/SVG/1.1/DTD/svg11.dtd\">\n",
       "<!-- Generated by graphviz version 2.38.0 (20140413.2041)\n",
       " -->\n",
       "<!-- Title: Tree Pages: 1 -->\n",
       "<svg width=\"489pt\" height=\"300pt\"\n",
       " viewBox=\"0.00 0.00 488.54 300.00\" xmlns=\"http://www.w3.org/2000/svg\" xmlns:xlink=\"http://www.w3.org/1999/xlink\">\n",
       "<g id=\"graph0\" class=\"graph\" transform=\"scale(1 1) rotate(0) translate(4 296)\">\n",
       "<title>Tree</title>\n",
       "<polygon fill=\"white\" stroke=\"none\" points=\"-4,4 -4,-296 484.537,-296 484.537,4 -4,4\"/>\n",
       "<!-- 0 -->\n",
       "<g id=\"node1\" class=\"node\"><title>0</title>\n",
       "<polygon fill=\"none\" stroke=\"black\" points=\"327.157,-292 162.38,-292 162.38,-214 327.157,-214 327.157,-292\"/>\n",
       "<text text-anchor=\"middle\" x=\"244.769\" y=\"-276.8\" font-family=\"Times,serif\" font-size=\"14.00\">mlu_morphemes &lt;= 6.948</text>\n",
       "<text text-anchor=\"middle\" x=\"244.769\" y=\"-262.8\" font-family=\"Times,serif\" font-size=\"14.00\">gini = 0.35</text>\n",
       "<text text-anchor=\"middle\" x=\"244.769\" y=\"-248.8\" font-family=\"Times,serif\" font-size=\"14.00\">samples = 779</text>\n",
       "<text text-anchor=\"middle\" x=\"244.769\" y=\"-234.8\" font-family=\"Times,serif\" font-size=\"14.00\">value = [603, 176]</text>\n",
       "<text text-anchor=\"middle\" x=\"244.769\" y=\"-220.8\" font-family=\"Times,serif\" font-size=\"14.00\">class = TD</text>\n",
       "</g>\n",
       "<!-- 1 -->\n",
       "<g id=\"node2\" class=\"node\"><title>1</title>\n",
       "<polygon fill=\"none\" stroke=\"black\" points=\"239.436,-178 102.101,-178 102.101,-100 239.436,-100 239.436,-178\"/>\n",
       "<text text-anchor=\"middle\" x=\"170.769\" y=\"-162.8\" font-family=\"Times,serif\" font-size=\"14.00\">r_2_i_verbs &lt;= 0.544</text>\n",
       "<text text-anchor=\"middle\" x=\"170.769\" y=\"-148.8\" font-family=\"Times,serif\" font-size=\"14.00\">gini = 0.496</text>\n",
       "<text text-anchor=\"middle\" x=\"170.769\" y=\"-134.8\" font-family=\"Times,serif\" font-size=\"14.00\">samples = 160</text>\n",
       "<text text-anchor=\"middle\" x=\"170.769\" y=\"-120.8\" font-family=\"Times,serif\" font-size=\"14.00\">value = [73, 87]</text>\n",
       "<text text-anchor=\"middle\" x=\"170.769\" y=\"-106.8\" font-family=\"Times,serif\" font-size=\"14.00\">class = SLI</text>\n",
       "</g>\n",
       "<!-- 0&#45;&gt;1 -->\n",
       "<g id=\"edge1\" class=\"edge\"><title>0&#45;&gt;1</title>\n",
       "<path fill=\"none\" stroke=\"black\" d=\"M219.509,-213.769C213.734,-205.029 207.534,-195.645 201.556,-186.597\"/>\n",
       "<polygon fill=\"black\" stroke=\"black\" points=\"204.347,-184.472 195.914,-178.058 198.507,-188.331 204.347,-184.472\"/>\n",
       "<text text-anchor=\"middle\" x=\"190.91\" y=\"-198.353\" font-family=\"Times,serif\" font-size=\"14.00\">True</text>\n",
       "</g>\n",
       "<!-- 4 -->\n",
       "<g id=\"node5\" class=\"node\"><title>4</title>\n",
       "<polygon fill=\"none\" stroke=\"black\" points=\"382.274,-178 257.263,-178 257.263,-100 382.274,-100 382.274,-178\"/>\n",
       "<text text-anchor=\"middle\" x=\"319.769\" y=\"-162.8\" font-family=\"Times,serif\" font-size=\"14.00\">z_ndw_td &lt;= 8.053</text>\n",
       "<text text-anchor=\"middle\" x=\"319.769\" y=\"-148.8\" font-family=\"Times,serif\" font-size=\"14.00\">gini = 0.246</text>\n",
       "<text text-anchor=\"middle\" x=\"319.769\" y=\"-134.8\" font-family=\"Times,serif\" font-size=\"14.00\">samples = 619</text>\n",
       "<text text-anchor=\"middle\" x=\"319.769\" y=\"-120.8\" font-family=\"Times,serif\" font-size=\"14.00\">value = [530, 89]</text>\n",
       "<text text-anchor=\"middle\" x=\"319.769\" y=\"-106.8\" font-family=\"Times,serif\" font-size=\"14.00\">class = TD</text>\n",
       "</g>\n",
       "<!-- 0&#45;&gt;4 -->\n",
       "<g id=\"edge4\" class=\"edge\"><title>0&#45;&gt;4</title>\n",
       "<path fill=\"none\" stroke=\"black\" d=\"M270.37,-213.769C276.222,-205.029 282.506,-195.645 288.565,-186.597\"/>\n",
       "<polygon fill=\"black\" stroke=\"black\" points=\"291.627,-188.315 294.283,-178.058 285.811,-184.42 291.627,-188.315\"/>\n",
       "<text text-anchor=\"middle\" x=\"299.135\" y=\"-198.383\" font-family=\"Times,serif\" font-size=\"14.00\">False</text>\n",
       "</g>\n",
       "<!-- 2 -->\n",
       "<g id=\"node3\" class=\"node\"><title>2</title>\n",
       "<polygon fill=\"none\" stroke=\"black\" points=\"105.307,-64 0.230435,-64 0.230435,-0 105.307,-0 105.307,-64\"/>\n",
       "<text text-anchor=\"middle\" x=\"52.7686\" y=\"-48.8\" font-family=\"Times,serif\" font-size=\"14.00\">gini = 0.472</text>\n",
       "<text text-anchor=\"middle\" x=\"52.7686\" y=\"-34.8\" font-family=\"Times,serif\" font-size=\"14.00\">samples = 89</text>\n",
       "<text text-anchor=\"middle\" x=\"52.7686\" y=\"-20.8\" font-family=\"Times,serif\" font-size=\"14.00\">value = [55, 34]</text>\n",
       "<text text-anchor=\"middle\" x=\"52.7686\" y=\"-6.8\" font-family=\"Times,serif\" font-size=\"14.00\">class = TD</text>\n",
       "</g>\n",
       "<!-- 1&#45;&gt;2 -->\n",
       "<g id=\"edge2\" class=\"edge\"><title>1&#45;&gt;2</title>\n",
       "<path fill=\"none\" stroke=\"black\" d=\"M127.834,-99.7956C117.229,-90.3587 105.874,-80.2547 95.2885,-70.8355\"/>\n",
       "<polygon fill=\"black\" stroke=\"black\" points=\"97.5356,-68.1501 87.7383,-64.1172 92.8823,-73.3795 97.5356,-68.1501\"/>\n",
       "</g>\n",
       "<!-- 3 -->\n",
       "<g id=\"node4\" class=\"node\"><title>3</title>\n",
       "<polygon fill=\"none\" stroke=\"black\" points=\"229.307,-64 124.23,-64 124.23,-0 229.307,-0 229.307,-64\"/>\n",
       "<text text-anchor=\"middle\" x=\"176.769\" y=\"-48.8\" font-family=\"Times,serif\" font-size=\"14.00\">gini = 0.378</text>\n",
       "<text text-anchor=\"middle\" x=\"176.769\" y=\"-34.8\" font-family=\"Times,serif\" font-size=\"14.00\">samples = 71</text>\n",
       "<text text-anchor=\"middle\" x=\"176.769\" y=\"-20.8\" font-family=\"Times,serif\" font-size=\"14.00\">value = [18, 53]</text>\n",
       "<text text-anchor=\"middle\" x=\"176.769\" y=\"-6.8\" font-family=\"Times,serif\" font-size=\"14.00\">class = SLI</text>\n",
       "</g>\n",
       "<!-- 1&#45;&gt;3 -->\n",
       "<g id=\"edge3\" class=\"edge\"><title>1&#45;&gt;3</title>\n",
       "<path fill=\"none\" stroke=\"black\" d=\"M172.952,-99.7956C173.428,-91.4581 173.934,-82.6 174.417,-74.1534\"/>\n",
       "<polygon fill=\"black\" stroke=\"black\" points=\"177.914,-74.3006 174.99,-64.1172 170.926,-73.9012 177.914,-74.3006\"/>\n",
       "</g>\n",
       "<!-- 5 -->\n",
       "<g id=\"node6\" class=\"node\"><title>5</title>\n",
       "<polygon fill=\"none\" stroke=\"black\" points=\"370.807,-64 258.73,-64 258.73,-0 370.807,-0 370.807,-64\"/>\n",
       "<text text-anchor=\"middle\" x=\"314.769\" y=\"-48.8\" font-family=\"Times,serif\" font-size=\"14.00\">gini = 0.234</text>\n",
       "<text text-anchor=\"middle\" x=\"314.769\" y=\"-34.8\" font-family=\"Times,serif\" font-size=\"14.00\">samples = 613</text>\n",
       "<text text-anchor=\"middle\" x=\"314.769\" y=\"-20.8\" font-family=\"Times,serif\" font-size=\"14.00\">value = [530, 83]</text>\n",
       "<text text-anchor=\"middle\" x=\"314.769\" y=\"-6.8\" font-family=\"Times,serif\" font-size=\"14.00\">class = TD</text>\n",
       "</g>\n",
       "<!-- 4&#45;&gt;5 -->\n",
       "<g id=\"edge5\" class=\"edge\"><title>4&#45;&gt;5</title>\n",
       "<path fill=\"none\" stroke=\"black\" d=\"M317.949,-99.7956C317.552,-91.4581 317.13,-82.6 316.728,-74.1534\"/>\n",
       "<polygon fill=\"black\" stroke=\"black\" points=\"320.222,-73.9393 316.25,-64.1172 313.23,-74.2724 320.222,-73.9393\"/>\n",
       "</g>\n",
       "<!-- 6 -->\n",
       "<g id=\"node7\" class=\"node\"><title>6</title>\n",
       "<polygon fill=\"none\" stroke=\"black\" points=\"480.307,-64 389.23,-64 389.23,-0 480.307,-0 480.307,-64\"/>\n",
       "<text text-anchor=\"middle\" x=\"434.769\" y=\"-48.8\" font-family=\"Times,serif\" font-size=\"14.00\">gini = 0.0</text>\n",
       "<text text-anchor=\"middle\" x=\"434.769\" y=\"-34.8\" font-family=\"Times,serif\" font-size=\"14.00\">samples = 6</text>\n",
       "<text text-anchor=\"middle\" x=\"434.769\" y=\"-20.8\" font-family=\"Times,serif\" font-size=\"14.00\">value = [0, 6]</text>\n",
       "<text text-anchor=\"middle\" x=\"434.769\" y=\"-6.8\" font-family=\"Times,serif\" font-size=\"14.00\">class = SLI</text>\n",
       "</g>\n",
       "<!-- 4&#45;&gt;6 -->\n",
       "<g id=\"edge6\" class=\"edge\"><title>4&#45;&gt;6</title>\n",
       "<path fill=\"none\" stroke=\"black\" d=\"M361.612,-99.7956C371.847,-90.4503 382.799,-80.4509 393.029,-71.11\"/>\n",
       "<polygon fill=\"black\" stroke=\"black\" points=\"395.663,-73.4446 400.688,-64.1172 390.943,-68.2752 395.663,-73.4446\"/>\n",
       "</g>\n",
       "</g>\n",
       "</svg>\n"
      ],
      "text/plain": [
       "<graphviz.files.Source at 0x118a11358>"
      ]
     },
     "execution_count": 7,
     "metadata": {},
     "output_type": "execute_result"
    }
   ],
   "source": [
    "clf2 = tree.DecisionTreeClassifier(max_depth=2, random_state=0)\n",
    "clf2 = clf2.fit(train[features],targets)\n",
    "Source(tree.export_graphviz(clf2, out_file=None,feature_names =features, class_names=[\"TD\",\"SLI\"]))"
   ]
  },
  {
   "cell_type": "code",
   "execution_count": 8,
   "metadata": {},
   "outputs": [
    {
     "name": "stdout",
     "output_type": "stream",
     "text": [
      "Depth = 2, Accuracy on training set: 82.6700898588\n",
      "Depth = 2, Accuracy on training set: 81.5104166667\n"
     ]
    }
   ],
   "source": [
    "trainer = clf2.predict(train)\n",
    "tester = clf2.predict(test)\n",
    "print(\"Depth = 2, Accuracy on training set:\", accuracy_score(train_with_label['Y'],trainer)*100)\n",
    "print(\"Depth = 2, Accuracy on training set:\", accuracy_score(test_with_label[\"Y\"],tester)*100)"
   ]
  },
  {
   "cell_type": "markdown",
   "metadata": {},
   "source": [
    "**r_2_i_verbs** is the ratio of raw to inflected verbs (i.e. non-conjugated to conjugated). Thus, it is logical that if a child uses fewer \"raw\" verbs, he is less likely to have SLI. \n",
    "**z_ndw_td** is the Sample-Z-score of the TD group's raw:inflected verb ratio. Again, if the sample is many standard deviations away from the average r_2_i_verbs score for children without SDL, it is more likely that that instance describes a child with SDL.\n",
    "\n",
    "\n",
    "## DT Depth = 3"
   ]
  },
  {
   "cell_type": "code",
   "execution_count": 9,
   "metadata": {},
   "outputs": [
    {
     "data": {
      "image/svg+xml": [
       "<?xml version=\"1.0\" encoding=\"UTF-8\" standalone=\"no\"?>\n",
       "<!DOCTYPE svg PUBLIC \"-//W3C//DTD SVG 1.1//EN\"\n",
       " \"http://www.w3.org/Graphics/SVG/1.1/DTD/svg11.dtd\">\n",
       "<!-- Generated by graphviz version 2.38.0 (20140413.2041)\n",
       " -->\n",
       "<!-- Title: Tree Pages: 1 -->\n",
       "<svg width=\"742pt\" height=\"414pt\"\n",
       " viewBox=\"0.00 0.00 742.28 414.00\" xmlns=\"http://www.w3.org/2000/svg\" xmlns:xlink=\"http://www.w3.org/1999/xlink\">\n",
       "<g id=\"graph0\" class=\"graph\" transform=\"scale(1 1) rotate(0) translate(4 410)\">\n",
       "<title>Tree</title>\n",
       "<polygon fill=\"white\" stroke=\"none\" points=\"-4,4 -4,-410 738.281,-410 738.281,4 -4,4\"/>\n",
       "<!-- 0 -->\n",
       "<g id=\"node1\" class=\"node\"><title>0</title>\n",
       "<polygon fill=\"none\" stroke=\"black\" points=\"525.9,-406 361.124,-406 361.124,-328 525.9,-328 525.9,-406\"/>\n",
       "<text text-anchor=\"middle\" x=\"443.512\" y=\"-390.8\" font-family=\"Times,serif\" font-size=\"14.00\">mlu_morphemes &lt;= 6.948</text>\n",
       "<text text-anchor=\"middle\" x=\"443.512\" y=\"-376.8\" font-family=\"Times,serif\" font-size=\"14.00\">gini = 0.35</text>\n",
       "<text text-anchor=\"middle\" x=\"443.512\" y=\"-362.8\" font-family=\"Times,serif\" font-size=\"14.00\">samples = 779</text>\n",
       "<text text-anchor=\"middle\" x=\"443.512\" y=\"-348.8\" font-family=\"Times,serif\" font-size=\"14.00\">value = [603, 176]</text>\n",
       "<text text-anchor=\"middle\" x=\"443.512\" y=\"-334.8\" font-family=\"Times,serif\" font-size=\"14.00\">class = TD</text>\n",
       "</g>\n",
       "<!-- 1 -->\n",
       "<g id=\"node2\" class=\"node\"><title>1</title>\n",
       "<polygon fill=\"none\" stroke=\"black\" points=\"413.179,-292 275.845,-292 275.845,-214 413.179,-214 413.179,-292\"/>\n",
       "<text text-anchor=\"middle\" x=\"344.512\" y=\"-276.8\" font-family=\"Times,serif\" font-size=\"14.00\">r_2_i_verbs &lt;= 0.544</text>\n",
       "<text text-anchor=\"middle\" x=\"344.512\" y=\"-262.8\" font-family=\"Times,serif\" font-size=\"14.00\">gini = 0.496</text>\n",
       "<text text-anchor=\"middle\" x=\"344.512\" y=\"-248.8\" font-family=\"Times,serif\" font-size=\"14.00\">samples = 160</text>\n",
       "<text text-anchor=\"middle\" x=\"344.512\" y=\"-234.8\" font-family=\"Times,serif\" font-size=\"14.00\">value = [73, 87]</text>\n",
       "<text text-anchor=\"middle\" x=\"344.512\" y=\"-220.8\" font-family=\"Times,serif\" font-size=\"14.00\">class = SLI</text>\n",
       "</g>\n",
       "<!-- 0&#45;&gt;1 -->\n",
       "<g id=\"edge1\" class=\"edge\"><title>0&#45;&gt;1</title>\n",
       "<path fill=\"none\" stroke=\"black\" d=\"M409.719,-327.769C401.754,-318.759 393.184,-309.064 384.96,-299.759\"/>\n",
       "<polygon fill=\"black\" stroke=\"black\" points=\"387.398,-297.233 378.153,-292.058 382.154,-301.869 387.398,-297.233\"/>\n",
       "<text text-anchor=\"middle\" x=\"376.616\" y=\"-312.811\" font-family=\"Times,serif\" font-size=\"14.00\">True</text>\n",
       "</g>\n",
       "<!-- 8 -->\n",
       "<g id=\"node9\" class=\"node\"><title>8</title>\n",
       "<polygon fill=\"none\" stroke=\"black\" points=\"604.724,-292 480.3,-292 480.3,-214 604.724,-214 604.724,-292\"/>\n",
       "<text text-anchor=\"middle\" x=\"542.512\" y=\"-276.8\" font-family=\"Times,serif\" font-size=\"14.00\">word_errors &lt;= 7.0</text>\n",
       "<text text-anchor=\"middle\" x=\"542.512\" y=\"-262.8\" font-family=\"Times,serif\" font-size=\"14.00\">gini = 0.246</text>\n",
       "<text text-anchor=\"middle\" x=\"542.512\" y=\"-248.8\" font-family=\"Times,serif\" font-size=\"14.00\">samples = 619</text>\n",
       "<text text-anchor=\"middle\" x=\"542.512\" y=\"-234.8\" font-family=\"Times,serif\" font-size=\"14.00\">value = [530, 89]</text>\n",
       "<text text-anchor=\"middle\" x=\"542.512\" y=\"-220.8\" font-family=\"Times,serif\" font-size=\"14.00\">class = TD</text>\n",
       "</g>\n",
       "<!-- 0&#45;&gt;8 -->\n",
       "<g id=\"edge8\" class=\"edge\"><title>0&#45;&gt;8</title>\n",
       "<path fill=\"none\" stroke=\"black\" d=\"M477.305,-327.769C485.27,-318.759 493.84,-309.064 502.065,-299.759\"/>\n",
       "<polygon fill=\"black\" stroke=\"black\" points=\"504.871,-301.869 508.871,-292.058 499.626,-297.233 504.871,-301.869\"/>\n",
       "<text text-anchor=\"middle\" x=\"510.409\" y=\"-312.811\" font-family=\"Times,serif\" font-size=\"14.00\">False</text>\n",
       "</g>\n",
       "<!-- 2 -->\n",
       "<g id=\"node3\" class=\"node\"><title>2</title>\n",
       "<polygon fill=\"none\" stroke=\"black\" points=\"228.05,-178 122.974,-178 122.974,-100 228.05,-100 228.05,-178\"/>\n",
       "<text text-anchor=\"middle\" x=\"175.512\" y=\"-162.8\" font-family=\"Times,serif\" font-size=\"14.00\">age &lt;= 81.5</text>\n",
       "<text text-anchor=\"middle\" x=\"175.512\" y=\"-148.8\" font-family=\"Times,serif\" font-size=\"14.00\">gini = 0.472</text>\n",
       "<text text-anchor=\"middle\" x=\"175.512\" y=\"-134.8\" font-family=\"Times,serif\" font-size=\"14.00\">samples = 89</text>\n",
       "<text text-anchor=\"middle\" x=\"175.512\" y=\"-120.8\" font-family=\"Times,serif\" font-size=\"14.00\">value = [55, 34]</text>\n",
       "<text text-anchor=\"middle\" x=\"175.512\" y=\"-106.8\" font-family=\"Times,serif\" font-size=\"14.00\">class = TD</text>\n",
       "</g>\n",
       "<!-- 1&#45;&gt;2 -->\n",
       "<g id=\"edge2\" class=\"edge\"><title>1&#45;&gt;2</title>\n",
       "<path fill=\"none\" stroke=\"black\" d=\"M286.825,-213.769C270.621,-203.03 252.949,-191.319 236.556,-180.455\"/>\n",
       "<polygon fill=\"black\" stroke=\"black\" points=\"238.385,-177.468 228.115,-174.861 234.518,-183.303 238.385,-177.468\"/>\n",
       "</g>\n",
       "<!-- 5 -->\n",
       "<g id=\"node6\" class=\"node\"><title>5</title>\n",
       "<polygon fill=\"none\" stroke=\"black\" points=\"408.642,-178 280.383,-178 280.383,-100 408.642,-100 408.642,-178\"/>\n",
       "<text text-anchor=\"middle\" x=\"344.512\" y=\"-162.8\" font-family=\"Times,serif\" font-size=\"14.00\">s_2g_ppl &lt;= 13.461</text>\n",
       "<text text-anchor=\"middle\" x=\"344.512\" y=\"-148.8\" font-family=\"Times,serif\" font-size=\"14.00\">gini = 0.378</text>\n",
       "<text text-anchor=\"middle\" x=\"344.512\" y=\"-134.8\" font-family=\"Times,serif\" font-size=\"14.00\">samples = 71</text>\n",
       "<text text-anchor=\"middle\" x=\"344.512\" y=\"-120.8\" font-family=\"Times,serif\" font-size=\"14.00\">value = [18, 53]</text>\n",
       "<text text-anchor=\"middle\" x=\"344.512\" y=\"-106.8\" font-family=\"Times,serif\" font-size=\"14.00\">class = SLI</text>\n",
       "</g>\n",
       "<!-- 1&#45;&gt;5 -->\n",
       "<g id=\"edge5\" class=\"edge\"><title>1&#45;&gt;5</title>\n",
       "<path fill=\"none\" stroke=\"black\" d=\"M344.512,-213.769C344.512,-205.57 344.512,-196.803 344.512,-188.28\"/>\n",
       "<polygon fill=\"black\" stroke=\"black\" points=\"348.012,-188.058 344.512,-178.058 341.012,-188.059 348.012,-188.058\"/>\n",
       "</g>\n",
       "<!-- 3 -->\n",
       "<g id=\"node4\" class=\"node\"><title>3</title>\n",
       "<polygon fill=\"none\" stroke=\"black\" points=\"105.037,-64 -0.0122099,-64 -0.0122099,-0 105.037,-0 105.037,-64\"/>\n",
       "<text text-anchor=\"middle\" x=\"52.5122\" y=\"-48.8\" font-family=\"Times,serif\" font-size=\"14.00\">gini = 0.32</text>\n",
       "<text text-anchor=\"middle\" x=\"52.5122\" y=\"-34.8\" font-family=\"Times,serif\" font-size=\"14.00\">samples = 55</text>\n",
       "<text text-anchor=\"middle\" x=\"52.5122\" y=\"-20.8\" font-family=\"Times,serif\" font-size=\"14.00\">value = [44, 11]</text>\n",
       "<text text-anchor=\"middle\" x=\"52.5122\" y=\"-6.8\" font-family=\"Times,serif\" font-size=\"14.00\">class = TD</text>\n",
       "</g>\n",
       "<!-- 2&#45;&gt;3 -->\n",
       "<g id=\"edge3\" class=\"edge\"><title>2&#45;&gt;3</title>\n",
       "<path fill=\"none\" stroke=\"black\" d=\"M130.758,-99.7956C119.704,-90.3587 107.868,-80.2547 96.8338,-70.8355\"/>\n",
       "<polygon fill=\"black\" stroke=\"black\" points=\"98.8418,-67.9478 88.9638,-64.1172 94.297,-73.2718 98.8418,-67.9478\"/>\n",
       "</g>\n",
       "<!-- 4 -->\n",
       "<g id=\"node5\" class=\"node\"><title>4</title>\n",
       "<polygon fill=\"none\" stroke=\"black\" points=\"228.037,-64 122.988,-64 122.988,-0 228.037,-0 228.037,-64\"/>\n",
       "<text text-anchor=\"middle\" x=\"175.512\" y=\"-48.8\" font-family=\"Times,serif\" font-size=\"14.00\">gini = 0.438</text>\n",
       "<text text-anchor=\"middle\" x=\"175.512\" y=\"-34.8\" font-family=\"Times,serif\" font-size=\"14.00\">samples = 34</text>\n",
       "<text text-anchor=\"middle\" x=\"175.512\" y=\"-20.8\" font-family=\"Times,serif\" font-size=\"14.00\">value = [11, 23]</text>\n",
       "<text text-anchor=\"middle\" x=\"175.512\" y=\"-6.8\" font-family=\"Times,serif\" font-size=\"14.00\">class = SLI</text>\n",
       "</g>\n",
       "<!-- 2&#45;&gt;4 -->\n",
       "<g id=\"edge4\" class=\"edge\"><title>2&#45;&gt;4</title>\n",
       "<path fill=\"none\" stroke=\"black\" d=\"M175.512,-99.7956C175.512,-91.4581 175.512,-82.6 175.512,-74.1534\"/>\n",
       "<polygon fill=\"black\" stroke=\"black\" points=\"179.012,-74.1171 175.512,-64.1172 172.012,-74.1172 179.012,-74.1171\"/>\n",
       "</g>\n",
       "<!-- 6 -->\n",
       "<g id=\"node7\" class=\"node\"><title>6</title>\n",
       "<polygon fill=\"none\" stroke=\"black\" points=\"344.55,-64 246.474,-64 246.474,-0 344.55,-0 344.55,-64\"/>\n",
       "<text text-anchor=\"middle\" x=\"295.512\" y=\"-48.8\" font-family=\"Times,serif\" font-size=\"14.00\">gini = 0.254</text>\n",
       "<text text-anchor=\"middle\" x=\"295.512\" y=\"-34.8\" font-family=\"Times,serif\" font-size=\"14.00\">samples = 47</text>\n",
       "<text text-anchor=\"middle\" x=\"295.512\" y=\"-20.8\" font-family=\"Times,serif\" font-size=\"14.00\">value = [7, 40]</text>\n",
       "<text text-anchor=\"middle\" x=\"295.512\" y=\"-6.8\" font-family=\"Times,serif\" font-size=\"14.00\">class = SLI</text>\n",
       "</g>\n",
       "<!-- 5&#45;&gt;6 -->\n",
       "<g id=\"edge6\" class=\"edge\"><title>5&#45;&gt;6</title>\n",
       "<path fill=\"none\" stroke=\"black\" d=\"M326.683,-99.7956C322.664,-91.1833 318.386,-82.0154 314.328,-73.3194\"/>\n",
       "<polygon fill=\"black\" stroke=\"black\" points=\"317.434,-71.6989 310.034,-64.1172 311.091,-74.6591 317.434,-71.6989\"/>\n",
       "</g>\n",
       "<!-- 7 -->\n",
       "<g id=\"node8\" class=\"node\"><title>7</title>\n",
       "<polygon fill=\"none\" stroke=\"black\" points=\"468.037,-64 362.988,-64 362.988,-0 468.037,-0 468.037,-64\"/>\n",
       "<text text-anchor=\"middle\" x=\"415.512\" y=\"-48.8\" font-family=\"Times,serif\" font-size=\"14.00\">gini = 0.497</text>\n",
       "<text text-anchor=\"middle\" x=\"415.512\" y=\"-34.8\" font-family=\"Times,serif\" font-size=\"14.00\">samples = 24</text>\n",
       "<text text-anchor=\"middle\" x=\"415.512\" y=\"-20.8\" font-family=\"Times,serif\" font-size=\"14.00\">value = [11, 13]</text>\n",
       "<text text-anchor=\"middle\" x=\"415.512\" y=\"-6.8\" font-family=\"Times,serif\" font-size=\"14.00\">class = SLI</text>\n",
       "</g>\n",
       "<!-- 5&#45;&gt;7 -->\n",
       "<g id=\"edge7\" class=\"edge\"><title>5&#45;&gt;7</title>\n",
       "<path fill=\"none\" stroke=\"black\" d=\"M370.346,-99.7956C376.355,-90.9084 382.765,-81.4296 388.811,-72.4883\"/>\n",
       "<polygon fill=\"black\" stroke=\"black\" points=\"391.769,-74.3616 394.471,-64.1172 385.97,-70.4406 391.769,-74.3616\"/>\n",
       "</g>\n",
       "<!-- 9 -->\n",
       "<g id=\"node10\" class=\"node\"><title>9</title>\n",
       "<polygon fill=\"none\" stroke=\"black\" points=\"624.9,-178 460.124,-178 460.124,-100 624.9,-100 624.9,-178\"/>\n",
       "<text text-anchor=\"middle\" x=\"542.512\" y=\"-162.8\" font-family=\"Times,serif\" font-size=\"14.00\">mlu_morphemes &lt;= 8.754</text>\n",
       "<text text-anchor=\"middle\" x=\"542.512\" y=\"-148.8\" font-family=\"Times,serif\" font-size=\"14.00\">gini = 0.234</text>\n",
       "<text text-anchor=\"middle\" x=\"542.512\" y=\"-134.8\" font-family=\"Times,serif\" font-size=\"14.00\">samples = 613</text>\n",
       "<text text-anchor=\"middle\" x=\"542.512\" y=\"-120.8\" font-family=\"Times,serif\" font-size=\"14.00\">value = [530, 83]</text>\n",
       "<text text-anchor=\"middle\" x=\"542.512\" y=\"-106.8\" font-family=\"Times,serif\" font-size=\"14.00\">class = TD</text>\n",
       "</g>\n",
       "<!-- 8&#45;&gt;9 -->\n",
       "<g id=\"edge9\" class=\"edge\"><title>8&#45;&gt;9</title>\n",
       "<path fill=\"none\" stroke=\"black\" d=\"M542.512,-213.769C542.512,-205.57 542.512,-196.803 542.512,-188.28\"/>\n",
       "<polygon fill=\"black\" stroke=\"black\" points=\"546.012,-188.058 542.512,-178.058 539.012,-188.059 546.012,-188.058\"/>\n",
       "</g>\n",
       "<!-- 12 -->\n",
       "<g id=\"node13\" class=\"node\"><title>12</title>\n",
       "<polygon fill=\"none\" stroke=\"black\" points=\"734.05,-171 642.974,-171 642.974,-107 734.05,-107 734.05,-171\"/>\n",
       "<text text-anchor=\"middle\" x=\"688.512\" y=\"-155.8\" font-family=\"Times,serif\" font-size=\"14.00\">gini = 0.0</text>\n",
       "<text text-anchor=\"middle\" x=\"688.512\" y=\"-141.8\" font-family=\"Times,serif\" font-size=\"14.00\">samples = 6</text>\n",
       "<text text-anchor=\"middle\" x=\"688.512\" y=\"-127.8\" font-family=\"Times,serif\" font-size=\"14.00\">value = [0, 6]</text>\n",
       "<text text-anchor=\"middle\" x=\"688.512\" y=\"-113.8\" font-family=\"Times,serif\" font-size=\"14.00\">class = SLI</text>\n",
       "</g>\n",
       "<!-- 8&#45;&gt;12 -->\n",
       "<g id=\"edge12\" class=\"edge\"><title>8&#45;&gt;12</title>\n",
       "<path fill=\"none\" stroke=\"black\" d=\"M592.349,-213.769C607.683,-202.006 624.538,-189.076 639.796,-177.371\"/>\n",
       "<polygon fill=\"black\" stroke=\"black\" points=\"642.284,-179.874 648.088,-171.01 638.024,-174.32 642.284,-179.874\"/>\n",
       "</g>\n",
       "<!-- 10 -->\n",
       "<g id=\"node11\" class=\"node\"><title>10</title>\n",
       "<polygon fill=\"none\" stroke=\"black\" points=\"598.55,-64 486.474,-64 486.474,-0 598.55,-0 598.55,-64\"/>\n",
       "<text text-anchor=\"middle\" x=\"542.512\" y=\"-48.8\" font-family=\"Times,serif\" font-size=\"14.00\">gini = 0.335</text>\n",
       "<text text-anchor=\"middle\" x=\"542.512\" y=\"-34.8\" font-family=\"Times,serif\" font-size=\"14.00\">samples = 273</text>\n",
       "<text text-anchor=\"middle\" x=\"542.512\" y=\"-20.8\" font-family=\"Times,serif\" font-size=\"14.00\">value = [215, 58]</text>\n",
       "<text text-anchor=\"middle\" x=\"542.512\" y=\"-6.8\" font-family=\"Times,serif\" font-size=\"14.00\">class = TD</text>\n",
       "</g>\n",
       "<!-- 9&#45;&gt;10 -->\n",
       "<g id=\"edge10\" class=\"edge\"><title>9&#45;&gt;10</title>\n",
       "<path fill=\"none\" stroke=\"black\" d=\"M542.512,-99.7956C542.512,-91.4581 542.512,-82.6 542.512,-74.1534\"/>\n",
       "<polygon fill=\"black\" stroke=\"black\" points=\"546.012,-74.1171 542.512,-64.1172 539.012,-74.1172 546.012,-74.1171\"/>\n",
       "</g>\n",
       "<!-- 11 -->\n",
       "<g id=\"node12\" class=\"node\"><title>11</title>\n",
       "<polygon fill=\"none\" stroke=\"black\" points=\"729.55,-64 617.474,-64 617.474,-0 729.55,-0 729.55,-64\"/>\n",
       "<text text-anchor=\"middle\" x=\"673.512\" y=\"-48.8\" font-family=\"Times,serif\" font-size=\"14.00\">gini = 0.136</text>\n",
       "<text text-anchor=\"middle\" x=\"673.512\" y=\"-34.8\" font-family=\"Times,serif\" font-size=\"14.00\">samples = 340</text>\n",
       "<text text-anchor=\"middle\" x=\"673.512\" y=\"-20.8\" font-family=\"Times,serif\" font-size=\"14.00\">value = [315, 25]</text>\n",
       "<text text-anchor=\"middle\" x=\"673.512\" y=\"-6.8\" font-family=\"Times,serif\" font-size=\"14.00\">class = TD</text>\n",
       "</g>\n",
       "<!-- 9&#45;&gt;11 -->\n",
       "<g id=\"edge11\" class=\"edge\"><title>9&#45;&gt;11</title>\n",
       "<path fill=\"none\" stroke=\"black\" d=\"M590.177,-99.7956C602.065,-90.2671 614.801,-80.0585 626.65,-70.5614\"/>\n",
       "<polygon fill=\"black\" stroke=\"black\" points=\"629.076,-73.1024 634.69,-64.1172 624.698,-67.6404 629.076,-73.1024\"/>\n",
       "</g>\n",
       "</g>\n",
       "</svg>\n"
      ],
      "text/plain": [
       "<graphviz.files.Source at 0x1192bf048>"
      ]
     },
     "execution_count": 9,
     "metadata": {},
     "output_type": "execute_result"
    }
   ],
   "source": [
    "clf3 = tree.DecisionTreeClassifier(max_depth=3, random_state=0)\n",
    "clf3 = clf3.fit(train[features],targets)\n",
    "Source(tree.export_graphviz(clf3, out_file=None,feature_names =features, class_names=[\"TD\",\"SLI\"]))"
   ]
  },
  {
   "cell_type": "code",
   "execution_count": 10,
   "metadata": {},
   "outputs": [
    {
     "name": "stdout",
     "output_type": "stream",
     "text": [
      "Depth = 3, Accuracy on training set: 84.2105263158\n",
      "Depth = 3, Accuracy on training set: 82.5520833333\n"
     ]
    }
   ],
   "source": [
    "trainer = clf3.predict(train)\n",
    "tester = clf3.predict(test)\n",
    "\n",
    "print(\"Depth = 3, Accuracy on training set:\", accuracy_score(train_with_label['Y'],trainer)*100)\n",
    "print(\"Depth = 3, Accuracy on training set:\", accuracy_score(test_with_label[\"Y\"],tester)*100)"
   ]
  },
  {
   "cell_type": "markdown",
   "metadata": {},
   "source": [
    "**word_errors** are considered as defined in the Child Language Data Exchange System (CHILDES). As expected, fewer word errors are more liekly indicative of a child without SLI.\n",
    "**s_2g_ppl** captures the perplexity of the instance when compared to a language model all SLI instances (not including the current instance if applicable). Perplexity is a way of evaluating language models by bits per word. The result of this selection is unexpected as both of its resulting leaves are classified as SLI, implying that it does not effect the classification.  \n",
    "It is important to the note that **age** is given in number of months in the dataset. Thus, this result is expected as a child less that 81 months(6years) is less likely to have SLI as it is usually begins to effect children at 5 years of age. Thus, it is possible that its effects are more clearly seen in children 6+ years of age.\n",
    "\n",
    "\n",
    "## DT Depth = 4"
   ]
  },
  {
   "cell_type": "code",
   "execution_count": 11,
   "metadata": {},
   "outputs": [
    {
     "name": "stdout",
     "output_type": "stream",
     "text": [
      "Depth = 4, Accuracy on training set: 85.8793324775\n",
      "Depth = 4, Accuracy on training set: 82.03125\n"
     ]
    }
   ],
   "source": [
    "clf4 = tree.DecisionTreeClassifier(max_depth=4, random_state=0)\n",
    "clf4 = clf4.fit(train[features],targets)\n",
    "\n",
    "trainer = clf4.predict(train)\n",
    "tester = clf4.predict(test)\n",
    "\n",
    "print(\"Depth = 4, Accuracy on training set:\", accuracy_score(train_with_label['Y'],trainer)*100)\n",
    "print(\"Depth = 4, Accuracy on training set:\", accuracy_score(test_with_label[\"Y\"],tester)*100)"
   ]
  },
  {
   "cell_type": "markdown",
   "metadata": {},
   "source": [
    "## DT Depth = 5"
   ]
  },
  {
   "cell_type": "code",
   "execution_count": 12,
   "metadata": {},
   "outputs": [
    {
     "name": "stdout",
     "output_type": "stream",
     "text": [
      "Depth = 5, Accuracy on training set: 89.4736842105\n",
      "Depth = 5, Accuracy on training set: 80.46875\n"
     ]
    }
   ],
   "source": [
    "clf5 = tree.DecisionTreeClassifier(max_depth=5, random_state=0)\n",
    "clf5 = clf5.fit(train[features],targets)\n",
    "\n",
    "trainer = clf5.predict(train)\n",
    "tester = clf5.predict(test)\n",
    "\n",
    "print(\"Depth = 5, Accuracy on training set:\", accuracy_score(train_with_label['Y'],trainer)*100)\n",
    "print(\"Depth = 5, Accuracy on training set:\", accuracy_score(test_with_label[\"Y\"],tester)*100)"
   ]
  },
  {
   "cell_type": "markdown",
   "metadata": {},
   "source": [
    "## DT Depth = 6"
   ]
  },
  {
   "cell_type": "code",
   "execution_count": 13,
   "metadata": {},
   "outputs": [
    {
     "name": "stdout",
     "output_type": "stream",
     "text": [
      "Depth = 6, Accuracy on training set: 91.3992297818\n",
      "Depth = 6, Accuracy on training set: 82.03125\n"
     ]
    }
   ],
   "source": [
    "clf6 = tree.DecisionTreeClassifier(max_depth=6, random_state=0)\n",
    "clf6 = clf6.fit(train[features],targets)\n",
    "\n",
    "trainer = clf6.predict(train)\n",
    "tester = clf6.predict(test)\n",
    "\n",
    "print(\"Depth = 6, Accuracy on training set:\", accuracy_score(train_with_label['Y'],trainer)*100)\n",
    "print(\"Depth = 6, Accuracy on training set:\", accuracy_score(test_with_label[\"Y\"],tester)*100)"
   ]
  },
  {
   "cell_type": "markdown",
   "metadata": {},
   "source": [
    "## Results and Analysis"
   ]
  },
  {
   "cell_type": "markdown",
   "metadata": {},
   "source": [
    "The accuracies of the training data were as follows: \n",
    "[79.20, 82.67, 84.21, 85.88, 89.47, 91.40].\n",
    "Tha accuracies of the testing data were as follows: \n",
    "[78.64, 81,51, 82.55, 82.03, 80.47, 80.08].\n",
    "\n",
    "As expected, the performance of the decision tree improved for the training set in each round where as it generally peaked and then began to fall for the testing sets. As the depth of the decision tree increases, it becomes more fitted to the training set as seen with the increase in accuracy. But this overfitting does not result in a better classifier as can be seen by the fall in accuracy for the training sets. The accuracies in the training set show that the ideal depth of the decision tree when may be 3 levels as this is where the first peak occurs. The second peak in the test sets, occuring the the 6-level depth, is likely due to noise in weak features that are being forced into the classifier and are skewing the results as, at this level, all features are included,  \n",
    "\n",
    "The graphs also helped to highlight the most important features:\n",
    "**mlu_morphemes** consistenly appeared as the first node in all three decision tree graphs and its partition value of 6.948 was also consistent. This provides the researcher insight that this is a significant feature and value to consider in the diagnosis of the children. Similarly, **r_2_i_verbs** also appeared in the the second level on all three graphs unlike **z_nwd_td** and **word_errors** which shows that it is likely a stronger feature that those two."
   ]
  },
  {
   "cell_type": "code",
   "execution_count": null,
   "metadata": {
    "collapsed": true
   },
   "outputs": [],
   "source": []
  }
 ],
 "metadata": {
  "kernelspec": {
   "display_name": "Python 3",
   "language": "python",
   "name": "python3"
  },
  "language_info": {
   "codemirror_mode": {
    "name": "ipython",
    "version": 3
   },
   "file_extension": ".py",
   "mimetype": "text/x-python",
   "name": "python",
   "nbconvert_exporter": "python",
   "pygments_lexer": "ipython3",
   "version": "3.6.1"
  }
 },
 "nbformat": 4,
 "nbformat_minor": 2
}
