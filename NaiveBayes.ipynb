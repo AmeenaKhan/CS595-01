{
 "cells": [
  {
   "cell_type": "code",
   "execution_count": 1,
   "metadata": {
    "collapsed": true
   },
   "outputs": [],
   "source": [
    "import pandas as pd\n",
    "from sklearn.model_selection import train_test_split\n",
    "from sklearn.metrics import accuracy_score"
   ]
  },
  {
   "cell_type": "code",
   "execution_count": 2,
   "metadata": {
    "collapsed": true
   },
   "outputs": [],
   "source": [
    "import numpy as np"
   ]
  },
  {
   "cell_type": "code",
   "execution_count": 3,
   "metadata": {
    "collapsed": true
   },
   "outputs": [],
   "source": [
    "from sklearn.naive_bayes import BernoulliNB"
   ]
  },
  {
   "cell_type": "code",
   "execution_count": 4,
   "metadata": {
    "collapsed": true
   },
   "outputs": [],
   "source": [
    "from math import exp"
   ]
  },
  {
   "cell_type": "markdown",
   "metadata": {},
   "source": [
    "## The Data\n",
    "This dataset is from [Kaggle: Diagnose Specific Language Impairment in Children](https://www.kaggle.com/dgokeeffe/specific-language-impairment/data). It is a collection of three separate datasets which all consist of narratives from a child (adolescent and younger) attempting to complete a wordless picture task. Based on the narratives, features have been given to describe the fluency of their response. The goal is to be able to automate the diagnosis of \"Specific Language Impairment\" given these features. Specific Language Impairment (SLI) is a condition that effects 7% of 5-year-old children and is characterized by a lack of language ability in comparison to peers but with no obvious mental or physical disability\n",
    "\n",
    "The dataset contains 1163 instances and 64 features (60 numerical, 4 categorical). A decription of these features can be found [here](https://www.kaggle.com/dgokeeffe/specific-language-impairment).\n",
    "\n",
    "Class Lables:\n",
    "0 = No/Subject does not have SLI\n",
    "1 = Yes/Subject has SLI"
   ]
  },
  {
   "cell_type": "code",
   "execution_count": 5,
   "metadata": {
    "collapsed": true
   },
   "outputs": [],
   "source": [
    "df = pd.read_csv(\"~/Downloads/all_data_R.csv\")"
   ]
  },
  {
   "cell_type": "code",
   "execution_count": 6,
   "metadata": {},
   "outputs": [],
   "source": [
    "df = df.drop('group', axis=1)\n",
    "df = df.drop('corpus', axis=1)\n",
    "df = df.drop('filename', axis=1)\n",
    "df = df.drop('age', axis=1)"
   ]
  },
  {
   "cell_type": "markdown",
   "metadata": {},
   "source": [
    "### Binarizing dataset"
   ]
  },
  {
   "cell_type": "code",
   "execution_count": 7,
   "metadata": {},
   "outputs": [],
   "source": [
    "gender_to_int = {\"male\":0, \"female\":1}\n",
    "df[\"sex\"] =df[\"sex\"].replace(gender_to_int)"
   ]
  },
  {
   "cell_type": "code",
   "execution_count": 8,
   "metadata": {},
   "outputs": [],
   "source": [
    "for i in list(df)[1:]:\n",
    "    mean = df[i].mean()\n",
    "    df[i] = np.where(df[i]> mean, 1, 0)"
   ]
  },
  {
   "cell_type": "code",
   "execution_count": 9,
   "metadata": {},
   "outputs": [
    {
     "name": "stdout",
     "output_type": "stream",
     "text": [
      "TRAINING SET\n",
      "\n",
      "<class 'pandas.core.frame.DataFrame'>\n",
      "Int64Index: 779 entries, 676 to 329\n",
      "Columns: 60 entries, Y to total_error\n",
      "dtypes: int64(60)\n",
      "memory usage: 371.2 KB\n",
      "None \n",
      "\n",
      "\n",
      "TESTING SET\n",
      "\n",
      "<class 'pandas.core.frame.DataFrame'>\n",
      "Int64Index: 384 entries, 804 to 868\n",
      "Columns: 60 entries, Y to total_error\n",
      "dtypes: int64(60)\n",
      "memory usage: 183.0 KB\n",
      "None\n"
     ]
    }
   ],
   "source": [
    "targets = df['Y']\n",
    "df.drop('Y',axis=1)\n",
    "train_x, test_x, train_y, test_y = train_test_split(df, targets, test_size = 0.33)\n",
    "print(\"TRAINING SET\\n\")\n",
    "print(train_x.info(verbose=False), \"\\n\\n\")\n",
    "print(\"TESTING SET\\n\")\n",
    "print(test_x.info(verbose=False))"
   ]
  },
  {
   "cell_type": "code",
   "execution_count": 10,
   "metadata": {},
   "outputs": [],
   "source": [
    "clf1 = BernoulliNB()"
   ]
  },
  {
   "cell_type": "code",
   "execution_count": 11,
   "metadata": {
    "collapsed": true
   },
   "outputs": [],
   "source": [
    "clf1 = clf1.fit(train_x,train_y)"
   ]
  },
  {
   "cell_type": "code",
   "execution_count": 12,
   "metadata": {},
   "outputs": [
    {
     "name": "stdout",
     "output_type": "stream",
     "text": [
      "Accuracy on training set: 85.9375\n"
     ]
    }
   ],
   "source": [
    "tester = clf1.predict(test_x)\n",
    "print(\"Accuracy on training set:\", accuracy_score(test_y,tester)*100)\n"
   ]
  },
  {
   "cell_type": "code",
   "execution_count": 13,
   "metadata": {},
   "outputs": [],
   "source": [
    "mostPosNeg = clf1.predict_proba(test_x)"
   ]
  },
  {
   "cell_type": "code",
   "execution_count": 14,
   "metadata": {},
   "outputs": [
    {
     "name": "stdout",
     "output_type": "stream",
     "text": [
      "The most positive object is  274\n",
      "The most negative object is  102\n"
     ]
    }
   ],
   "source": [
    "mostPos = 0\n",
    "mostPosIndx = 0 \n",
    "mostNeg = 0\n",
    "mostNegIndx = 0\n",
    "for i in range(len(mostPosNeg)):\n",
    "    if mostPosNeg[i][1] > mostPos:\n",
    "        mostPos = mostPosNeg[i][1]\n",
    "        mostPosIndx = i        \n",
    "    elif mostPosNeg[i][0] > mostNeg:\n",
    "        mostNeg = mostPosNeg[i][0]\n",
    "        mostNegIndx = i \n",
    "\n",
    "print(\"The most positive object is \",mostPosIndx)\n",
    "print(\"The most negative object is \",mostNegIndx)"
   ]
  },
  {
   "cell_type": "code",
   "execution_count": 15,
   "metadata": {},
   "outputs": [],
   "source": [
    "xTyT = []\n",
    "xTyF = []\n",
    "xFyT = []\n",
    "xFyF = []\n",
    "for i in range(len(clf1.feature_log_prob_[1])):\n",
    "    xTyT.append((exp(clf1.feature_log_prob_[1][i])))\n",
    "for i in range(len(clf1.feature_log_prob_[0])):\n",
    "    xTyF.append((exp(clf1.feature_log_prob_[0][i])))\n",
    "for i in range(len(xTyT)):\n",
    "    xFyT.append(1 - xTyT[i])\n",
    "for i in range(len(xTyT)):\n",
    "    xFyF.append(1 - xTyF[i])\n",
    "\n",
    "pos_class_ratio = []\n",
    "for i in range(len(xTyT)):\n",
    "    pos_class_ratio.append(np.log(xTyT[i]/xFyT[i]))\n",
    "neg_class_ratio = []\n",
    "for i in range(len(xTyF)):\n",
    "    neg_class_ratio.append(np.log(xFyT[i]/xFyF[i]))\n",
    "total_ratio = [neg_class_ratio,pos_class_ratio]"
   ]
  },
  {
   "cell_type": "markdown",
   "metadata": {},
   "source": [
    "## 1. The most positive object with respect to the probabilities.\n",
    "\n",
    "#### a) the total positive log evidence\n",
    "\n",
    "#### b) the total negative log evidence"
   ]
  },
  {
   "cell_type": "code",
   "execution_count": 16,
   "metadata": {},
   "outputs": [],
   "source": [
    "positive_log_evidence_1 = 0\n",
    "positive_evidence_1 = []\n",
    "negative_log_evidence_1 = 0\n",
    "negative_evidence_1 = []\n",
    "for i, objFeatureValue in enumerate(df.loc[mostPosIndx]):\n",
    "    if (total_ratio[objFeatureValue][i] > 0):\n",
    "        positive_log_evidence_1 =+ total_ratio[objFeatureValue][i]\n",
    "        positive_evidence_1.append((i,total_ratio[objFeatureValue][i]))\n",
    "    else:\n",
    "        negative_log_evidence_1 =+ total_ratio[objFeatureValue][i]\n",
    "        negative_evidence_1.append((i,total_ratio[objFeatureValue][i]))\n",
    "    "
   ]
  },
  {
   "cell_type": "code",
   "execution_count": 17,
   "metadata": {},
   "outputs": [
    {
     "name": "stdout",
     "output_type": "stream",
     "text": [
      "Total positive log evidence for the most positive object is 0.286197519209\n",
      "Total negative log evidence for the most positive object is -1.01554568997\n"
     ]
    }
   ],
   "source": [
    "print(\"Total positive log evidence for the most positive object is\", positive_log_evidence_1) \n",
    "print(\"Total negative log evidence for the most positive object is\", negative_log_evidence_1)"
   ]
  },
  {
   "cell_type": "markdown",
   "metadata": {},
   "source": [
    "#### c) probabilty distribution"
   ]
  },
  {
   "cell_type": "code",
   "execution_count": 18,
   "metadata": {},
   "outputs": [
    {
     "name": "stdout",
     "output_type": "stream",
     "text": [
      "Probability distribution is [  4.76717253e-10   1.00000000e+00]\n"
     ]
    }
   ],
   "source": [
    "print(\"Probability distribution is\", mostPosNeg[mostPosIndx])"
   ]
  },
  {
   "cell_type": "markdown",
   "metadata": {},
   "source": [
    "#### d) top 3 features values that contribute most to the positive evidence"
   ]
  },
  {
   "cell_type": "code",
   "execution_count": 19,
   "metadata": {},
   "outputs": [
    {
     "name": "stdout",
     "output_type": "stream",
     "text": [
      "First top feature for positive evidence: mlu_morphemes\n",
      "Second top feature for positive evidence: verb_utt\n",
      "Third top feature for positive evidence: dss\n"
     ]
    }
   ],
   "source": [
    "indx1 = 0\n",
    "indx2 = 0\n",
    "indx3 = 0\n",
    "first = 0\n",
    "second = 0\n",
    "third = 0\n",
    "\n",
    "for i in range(len(positive_evidence_1)):\n",
    "    if (positive_evidence_1[i][1] > third and positive_evidence_1[i][1] > second and positive_evidence_1[i][1] > first):\n",
    "        third = second \n",
    "        indx3 = indx2\n",
    "        second = first\n",
    "        indx2 = indx1\n",
    "        first = positive_evidence_1[i][1]\n",
    "        indx1 = positive_evidence_1[i][0]\n",
    "    elif (positive_evidence_1[i][1] > third and positive_evidence_1[i][1] > second):\n",
    "        third = second \n",
    "        indx3 = indx2\n",
    "        second = positive_evidence_1[i][1]\n",
    "        indx2 = positive_evidence_1[i][0]\n",
    "    elif(positive_evidence_1[i][1] > third):\n",
    "        third = positive_evidence_1[i][1]\n",
    "        indx3 = positive_evidence_1[i][0]\n",
    "        \n",
    "print(\"First top feature for positive evidence:\" ,list(df)[indx1])\n",
    "print(\"Second top feature for positive evidence:\" ,list(df)[indx2])\n",
    "print(\"Third top feature for positive evidence:\" ,list(df)[indx3])"
   ]
  },
  {
   "cell_type": "markdown",
   "metadata": {},
   "source": [
    "#### e) top 3 feature values that contribute the most to the negative evidence."
   ]
  },
  {
   "cell_type": "code",
   "execution_count": 20,
   "metadata": {},
   "outputs": [
    {
     "name": "stdout",
     "output_type": "stream",
     "text": [
      "First top feature for negative evidence: total_error\n",
      "Second top feature for negative evidence: pro_aux\n",
      "Third top feature for negative evidence: det_pl_n\n"
     ]
    }
   ],
   "source": [
    "indx1 = 0\n",
    "indx2 = 0\n",
    "indx3 = 0\n",
    "first = 0\n",
    "second = 0\n",
    "third = 0\n",
    "\n",
    "for i in range(len(negative_evidence_1)):\n",
    "    if (abs(negative_evidence_1[i][1]) > third and abs(negative_evidence_1[i][1]) > second and abs(negative_evidence_1[i][1]) > first):\n",
    "        third = second \n",
    "        indx3 = indx2\n",
    "        second = first\n",
    "        indx2 = indx1\n",
    "        first = negative_evidence_1[i][1]\n",
    "        indx1 = negative_evidence_1[i][0]\n",
    "    elif (abs(negative_evidence_1[i][1]) > third and abs(negative_evidence_1[i][1]) > second):\n",
    "        third = second \n",
    "        indx3 = indx2\n",
    "        second = negative_evidence_1[i][1]\n",
    "        indx2 = negative_evidence_1[i][0]\n",
    "    elif(abs(negative_evidence_1[i][1]) > third):\n",
    "        third = negative_evidence_1[i][1]\n",
    "        indx3 = negative_evidence_1[i][0]\n",
    "\n",
    "print(\"First top feature for negative evidence:\" ,list(df)[indx1])\n",
    "print(\"Second top feature for negative evidence:\" ,list(df)[indx2])\n",
    "print(\"Third top feature for negative evidence:\" ,list(df)[indx3])"
   ]
  },
  {
   "cell_type": "markdown",
   "metadata": {},
   "source": [
    "## 2. The most negative object with respect to the probabilities.\n",
    "\n",
    "#### a) the total positive log evidence\n",
    "\n",
    "#### b) the total negative log evidence"
   ]
  },
  {
   "cell_type": "code",
   "execution_count": 21,
   "metadata": {},
   "outputs": [],
   "source": [
    "positive_log_evidence_2 = 0\n",
    "positive_evidence_2 = []\n",
    "negative_log_evidence_2 = 0\n",
    "negative_evidence_2 = []\n",
    "for i, objFeatureValue in enumerate(df.loc[mostNegIndx]):\n",
    "    if (total_ratio[objFeatureValue][i] > 0):\n",
    "        positive_log_evidence_2 =+ total_ratio[objFeatureValue][i]\n",
    "        positive_evidence_2.append((i,total_ratio[objFeatureValue][i]))\n",
    "    else:\n",
    "        negative_log_evidence_2 =+ total_ratio[objFeatureValue][i]\n",
    "        negative_evidence_2.append((i,total_ratio[objFeatureValue][i]))"
   ]
  },
  {
   "cell_type": "code",
   "execution_count": 22,
   "metadata": {},
   "outputs": [
    {
     "name": "stdout",
     "output_type": "stream",
     "text": [
      "Total positive log evidence for the most negative object is 0.215476490795\n",
      "Total negative log evidence for the most negative object is -0.00196136181343\n"
     ]
    }
   ],
   "source": [
    "print(\"Total positive log evidence for the most negative object is\", positive_log_evidence_2) \n",
    "print(\"Total negative log evidence for the most negative object is\", negative_log_evidence_2)"
   ]
  },
  {
   "cell_type": "markdown",
   "metadata": {},
   "source": [
    "#### c) probabilty distribution"
   ]
  },
  {
   "cell_type": "code",
   "execution_count": 23,
   "metadata": {},
   "outputs": [
    {
     "name": "stdout",
     "output_type": "stream",
     "text": [
      "Probability distribution is [  1.00000000e+00   4.31237495e-12]\n"
     ]
    }
   ],
   "source": [
    "print(\"Probability distribution is\", mostPosNeg[mostNegIndx])"
   ]
  },
  {
   "cell_type": "markdown",
   "metadata": {},
   "source": [
    "#### d) top 3 features values that contribute most to the positive evidence"
   ]
  },
  {
   "cell_type": "code",
   "execution_count": 24,
   "metadata": {},
   "outputs": [
    {
     "name": "stdout",
     "output_type": "stream",
     "text": [
      "First top feature for positive evidence: ipsyn_total\n",
      "Second top feature for positive evidence: dss\n",
      "Third top feature for positive evidence: f_k\n"
     ]
    }
   ],
   "source": [
    "indx1 = 0\n",
    "indx2 = 0\n",
    "indx3 = 0\n",
    "first = 0\n",
    "second = 0\n",
    "third = 0\n",
    "\n",
    "for i in range(len(positive_evidence_2)):\n",
    "    if (positive_evidence_2[i][1] > third and positive_evidence_2[i][1] > second and positive_evidence_2[i][1] > first):\n",
    "        third = second \n",
    "        indx3 = indx2\n",
    "        second = first\n",
    "        indx2 = indx1\n",
    "        first = positive_evidence_2[i][1]\n",
    "        indx1 = positive_evidence_2[i][0]\n",
    "    elif (positive_evidence_2[i][1] > third and positive_evidence_2[i][1] > second):\n",
    "        third = second \n",
    "        indx3 = indx2\n",
    "        second = positive_evidence_2[i][1]\n",
    "        indx2 = positive_evidence_2[i][0]\n",
    "    elif(positive_evidence_2[i][1] > third):\n",
    "        third = positive_evidence_2[i][1]\n",
    "        indx3 = positive_evidence_2[i][0]\n",
    "        \n",
    "print(\"First top feature for positive evidence:\" ,list(df)[indx1])\n",
    "print(\"Second top feature for positive evidence:\" ,list(df)[indx2])\n",
    "print(\"Third top feature for positive evidence:\" ,list(df)[indx3])"
   ]
  },
  {
   "cell_type": "markdown",
   "metadata": {},
   "source": [
    "#### e) top 3 feature values that contribute the most to the negative evidence."
   ]
  },
  {
   "cell_type": "code",
   "execution_count": 25,
   "metadata": {},
   "outputs": [
    {
     "name": "stdout",
     "output_type": "stream",
     "text": [
      "First top feature for negative evidence: pro_aux\n",
      "Second top feature for negative evidence: det_pl_n\n",
      "Third top feature for negative evidence: det_n_pl\n"
     ]
    }
   ],
   "source": [
    "indx1 = 0\n",
    "indx2 = 0\n",
    "indx3 = 0\n",
    "first = 0\n",
    "second = 0\n",
    "third = 0\n",
    "\n",
    "for i in range(len(negative_evidence_2)):\n",
    "    if (abs(negative_evidence_2[i][1]) > third and abs(negative_evidence_2[i][1]) > second and abs(negative_evidence_2[i][1]) > first):\n",
    "        third = second \n",
    "        indx3 = indx2\n",
    "        second = first\n",
    "        indx2 = indx1\n",
    "        first = negative_evidence_2[i][1]\n",
    "        indx1 = negative_evidence_2[i][0]\n",
    "    elif (abs(negative_evidence_2[i][1]) > third and abs(negative_evidence_2[i][1]) > second):\n",
    "        third = second \n",
    "        indx3 = indx2\n",
    "        second = negative_evidence_2[i][1]\n",
    "        indx2 = negative_evidence_2[i][0]\n",
    "    elif(abs(negative_evidence_2[i][1]) > third):\n",
    "        third = negative_evidence_2[i][1]\n",
    "        indx3 = negative_evidence_2[i][0]\n",
    "\n",
    "print(\"First top feature for negative evidence:\" ,list(df)[indx1])\n",
    "print(\"Second top feature for negative evidence:\" ,list(df)[indx2])\n",
    "print(\"Third top feature for negative evidence:\" ,list(df)[indx3])"
   ]
  },
  {
   "cell_type": "markdown",
   "metadata": {},
   "source": [
    "## 3. The object that has the largest positive evidence."
   ]
  },
  {
   "cell_type": "code",
   "execution_count": 26,
   "metadata": {},
   "outputs": [
    {
     "name": "stdout",
     "output_type": "stream",
     "text": [
      "Object with most positive log evidence is  64\n",
      "Object with most negative log evidence is  110\n"
     ]
    }
   ],
   "source": [
    "positive_log_evidence_tot = []\n",
    "negative_log_evidence_tot = []\n",
    "positive_log_evidence_t = 0\n",
    "negative_log_evidence_t = 0\n",
    "\n",
    "test = pd.DataFrame(test_x)\n",
    "for obj in test_x.iterrows():\n",
    "    for i, objFeatureValue in enumerate(df.loc[obj[0]]):\n",
    "        if (total_ratio[objFeatureValue][i] > 0):\n",
    "            positive_log_evidence_t =+ total_ratio[objFeatureValue][i]\n",
    "        else:\n",
    "            negative_log_evidence_t =+ total_ratio[objFeatureValue][i]\n",
    "    positive_log_evidence_tot.append((obj[0],positive_log_evidence_t))\n",
    "    negative_log_evidence_tot.append((obj[0],negative_log_evidence_t))\n",
    "    positive_log_evidence_t = 0\n",
    "    negative_log_evidence_t = 0\n",
    "\n",
    "most_pos_evidence = 0\n",
    "most_pos_evidence_indx = 0\n",
    "most_neg_evidence = 0\n",
    "most_neg_evidence_indx = 0\n",
    "\n",
    "index=0\n",
    "for i in positive_log_evidence_tot:\n",
    "    index =+1\n",
    "    if i[1] > most_pos_evidence:\n",
    "        most_pos_evidence_indx = test.index.get_loc(i[0])\n",
    "        most_pos_evidence = i[1]\n",
    "\n",
    "index=0\n",
    "for i in negative_log_evidence_tot:\n",
    "    index =+1\n",
    "    if i[1] < most_neg_evidence:\n",
    "        most_neg_evidence_indx = test.index.get_loc(i[0])\n",
    "        most_neg_evidence = i[1]\n",
    "\n",
    "print(\"Object with most positive log evidence is \",most_pos_evidence_indx)\n",
    "print(\"Object with most negative log evidence is \",most_neg_evidence_indx)"
   ]
  },
  {
   "cell_type": "markdown",
   "metadata": {},
   "source": [
    "#### a) the total positive log evidence\n",
    "\n",
    "#### b) the total negative log evidence"
   ]
  },
  {
   "cell_type": "code",
   "execution_count": 27,
   "metadata": {},
   "outputs": [],
   "source": [
    "positive_log_evidence_3 = 0\n",
    "positive_evidence_3 = []\n",
    "negative_log_evidence_3 = 0\n",
    "negative_evidence_3 = []\n",
    "for i, objFeatureValue in enumerate(df.loc[most_pos_evidence_indx]):\n",
    "    if (total_ratio[objFeatureValue][i] > 0):\n",
    "        positive_log_evidence_3 =+ total_ratio[objFeatureValue][i]\n",
    "        positive_evidence_3.append((i,total_ratio[objFeatureValue][i]))\n",
    "    else:\n",
    "        negative_log_evidence_3 =+ total_ratio[objFeatureValue][i]\n",
    "        negative_evidence_3.append((i,total_ratio[objFeatureValue][i]))\n",
    "    "
   ]
  },
  {
   "cell_type": "code",
   "execution_count": 28,
   "metadata": {},
   "outputs": [
    {
     "name": "stdout",
     "output_type": "stream",
     "text": [
      "Total positive log evidence for the most negative object is 0.215476490795\n",
      "Total negative log evidence for the most negative object is -0.00196136181343\n"
     ]
    }
   ],
   "source": [
    "print(\"Total positive log evidence for the most negative object is\", positive_log_evidence_3) \n",
    "print(\"Total negative log evidence for the most negative object is\", negative_log_evidence_3)"
   ]
  },
  {
   "cell_type": "markdown",
   "metadata": {},
   "source": [
    "#### c) probabilty distribution"
   ]
  },
  {
   "cell_type": "code",
   "execution_count": 29,
   "metadata": {},
   "outputs": [
    {
     "name": "stdout",
     "output_type": "stream",
     "text": [
      "Probability distribution is [  9.99999320e-01   6.79714297e-07]\n"
     ]
    }
   ],
   "source": [
    "print(\"Probability distribution is\", mostPosNeg[most_pos_evidence_indx])"
   ]
  },
  {
   "cell_type": "markdown",
   "metadata": {},
   "source": [
    "#### d) top 3 features values that contribute most to the positive evidence"
   ]
  },
  {
   "cell_type": "code",
   "execution_count": 30,
   "metadata": {},
   "outputs": [
    {
     "name": "stdout",
     "output_type": "stream",
     "text": [
      "First top feature for positive evidence: ipsyn_total\n",
      "Second top feature for positive evidence: regular_past_ed\n",
      "Third top feature for positive evidence: num_pos_tags\n"
     ]
    }
   ],
   "source": [
    "indx1 = 0\n",
    "indx2 = 0\n",
    "indx3 = 0\n",
    "first = 0\n",
    "second = 0\n",
    "third = 0\n",
    "\n",
    "for i in range(len(positive_evidence_3)):\n",
    "    if (positive_evidence_3[i][1] > third and positive_evidence_3[i][1] > second and positive_evidence_3[i][1] > first):\n",
    "        third = second \n",
    "        indx3 = indx2\n",
    "        second = first\n",
    "        indx2 = indx1\n",
    "        first = positive_evidence_3[i][1]\n",
    "        indx1 = positive_evidence_3[i][0]\n",
    "    elif (positive_evidence_3[i][1] > third and positive_evidence_3[i][1] > second):\n",
    "        third = second \n",
    "        indx3 = indx2\n",
    "        second = positive_evidence_3[i][1]\n",
    "        indx2 = positive_evidence_3[i][0]\n",
    "    elif(positive_evidence_3[i][1] > third):\n",
    "        third = positive_evidence_3[i][1]\n",
    "        indx3 = positive_evidence_3[i][0]\n",
    "        \n",
    "print(\"First top feature for positive evidence:\" ,list(df)[indx1])\n",
    "print(\"Second top feature for positive evidence:\" ,list(df)[indx2])\n",
    "print(\"Third top feature for positive evidence:\" ,list(df)[indx3])"
   ]
  },
  {
   "cell_type": "markdown",
   "metadata": {},
   "source": [
    "#### e) top 3 feature values that contribute the most to the negative evidence."
   ]
  },
  {
   "cell_type": "code",
   "execution_count": 31,
   "metadata": {},
   "outputs": [
    {
     "name": "stdout",
     "output_type": "stream",
     "text": [
      "First top feature for negative evidence: pro_aux\n",
      "Second top feature for negative evidence: det_pl_n\n",
      "Third top feature for negative evidence: n_v\n"
     ]
    }
   ],
   "source": [
    "indx1 = 0\n",
    "indx2 = 0\n",
    "indx3 = 0\n",
    "first = 0\n",
    "second = 0\n",
    "third = 0\n",
    "\n",
    "for i in range(len(negative_evidence_3)):\n",
    "    if (abs(negative_evidence_3[i][1]) > third and abs(negative_evidence_3[i][1]) > second and abs(negative_evidence_3[i][1]) > first):\n",
    "        third = second \n",
    "        indx3 = indx2\n",
    "        second = first\n",
    "        indx2 = indx1\n",
    "        first = negative_evidence_3[i][1]\n",
    "        indx1 = negative_evidence_3[i][0]\n",
    "    elif (abs(negative_evidence_3[i][1]) > third and abs(negative_evidence_3[i][1]) > second):\n",
    "        third = second \n",
    "        indx3 = indx2\n",
    "        second = negative_evidence_3[i][1]\n",
    "        indx2 = negative_evidence_3[i][0]\n",
    "    elif(abs(negative_evidence_3[i][1]) > third):\n",
    "        third = negative_evidence_3[i][1]\n",
    "        indx3 = negative_evidence_3[i][0]\n",
    "\n",
    "print(\"First top feature for negative evidence:\" ,list(df)[indx1])\n",
    "print(\"Second top feature for negative evidence:\" ,list(df)[indx2])\n",
    "print(\"Third top feature for negative evidence:\" ,list(df)[indx3])"
   ]
  },
  {
   "cell_type": "markdown",
   "metadata": {},
   "source": [
    "## 4. The object that has the largest (in magnitude) negative evidence."
   ]
  },
  {
   "cell_type": "markdown",
   "metadata": {},
   "source": [
    "#### a) the total positive log evidence\n",
    "\n",
    "#### b) the total negative log evidence"
   ]
  },
  {
   "cell_type": "code",
   "execution_count": 32,
   "metadata": {
    "collapsed": true
   },
   "outputs": [],
   "source": [
    "positive_log_evidence_4 = 0\n",
    "positive_evidence_4 = []\n",
    "negative_log_evidence_4 = 0\n",
    "negative_evidence_4 = []\n",
    "for i, objFeatureValue in enumerate(df.loc[most_neg_evidence_indx]):\n",
    "    if (total_ratio[objFeatureValue][i] > 0):\n",
    "        positive_log_evidence_4 =+ total_ratio[objFeatureValue][i]\n",
    "        positive_evidence_4.append((i,total_ratio[objFeatureValue][i]))\n",
    "    else:\n",
    "        negative_log_evidence_4 =+ total_ratio[objFeatureValue][i]\n",
    "        negative_evidence_4.append((i,total_ratio[objFeatureValue][i]))\n",
    "    "
   ]
  },
  {
   "cell_type": "code",
   "execution_count": 33,
   "metadata": {},
   "outputs": [
    {
     "name": "stdout",
     "output_type": "stream",
     "text": [
      "Total positive log evidence for the most negative object is 0.215476490795\n",
      "Total negative log evidence for the most negative object is -0.00196136181343\n"
     ]
    }
   ],
   "source": [
    "print(\"Total positive log evidence for the most negative object is\", positive_log_evidence_4) \n",
    "print(\"Total negative log evidence for the most negative object is\", negative_log_evidence_4)"
   ]
  },
  {
   "cell_type": "markdown",
   "metadata": {},
   "source": [
    "#### c) probabilty distribution"
   ]
  },
  {
   "cell_type": "code",
   "execution_count": 34,
   "metadata": {},
   "outputs": [
    {
     "name": "stdout",
     "output_type": "stream",
     "text": [
      "Probability distribution is [  9.99998620e-01   1.38041818e-06]\n"
     ]
    }
   ],
   "source": [
    "print(\"Probability distribution is\", mostPosNeg[most_neg_evidence_indx])"
   ]
  },
  {
   "cell_type": "markdown",
   "metadata": {},
   "source": [
    "#### d) top 3 features values that contribute most to the positive evidence"
   ]
  },
  {
   "cell_type": "code",
   "execution_count": 35,
   "metadata": {},
   "outputs": [
    {
     "name": "stdout",
     "output_type": "stream",
     "text": [
      "First top feature for positive evidence: ipsyn_total\n",
      "Second top feature for positive evidence: dss\n",
      "Third top feature for positive evidence: regular_past_ed\n"
     ]
    }
   ],
   "source": [
    "indx1 = 0\n",
    "indx2 = 0\n",
    "indx3 = 0\n",
    "first = 0\n",
    "second = 0\n",
    "third = 0\n",
    "\n",
    "for i in range(len(positive_evidence_4)):\n",
    "    if (positive_evidence_4[i][1] > third and positive_evidence_4[i][1] > second and positive_evidence_4[i][1] > first):\n",
    "        third = second \n",
    "        indx3 = indx2\n",
    "        second = first\n",
    "        indx2 = indx1\n",
    "        first = positive_evidence_4[i][1]\n",
    "        indx1 = positive_evidence_4[i][0]\n",
    "    elif (positive_evidence_4[i][1] > third and positive_evidence_4[i][1] > second):\n",
    "        third = second \n",
    "        indx3 = indx2\n",
    "        second = positive_evidence_4[i][1]\n",
    "        indx2 = positive_evidence_4[i][0]\n",
    "    elif(positive_evidence_4[i][1] > third):\n",
    "        third = positive_evidence_4[i][1]\n",
    "        indx3 = positive_evidence_4[i][0]\n",
    "        \n",
    "print(\"First top feature for positive evidence:\" ,list(df)[indx1])\n",
    "print(\"Second top feature for positive evidence:\" ,list(df)[indx2])\n",
    "print(\"Third top feature for positive evidence:\" ,list(df)[indx3])"
   ]
  },
  {
   "cell_type": "markdown",
   "metadata": {},
   "source": [
    "#### e) top 3 feature values that contribute the most to the negative evidence."
   ]
  },
  {
   "cell_type": "code",
   "execution_count": 36,
   "metadata": {},
   "outputs": [
    {
     "name": "stdout",
     "output_type": "stream",
     "text": [
      "First top feature for negative evidence: pro_aux\n",
      "Second top feature for negative evidence: det_pl_n\n",
      "Third top feature for negative evidence: n_v\n"
     ]
    }
   ],
   "source": [
    "indx1 = 0\n",
    "indx2 = 0\n",
    "indx3 = 0\n",
    "first = 0\n",
    "second = 0\n",
    "third = 0\n",
    "\n",
    "for i in range(len(negative_evidence_4)):\n",
    "    if (abs(negative_evidence_4[i][1]) > third and abs(negative_evidence_4[i][1]) > second and abs(negative_evidence_4[i][1]) > first):\n",
    "        third = second \n",
    "        indx3 = indx2\n",
    "        second = first\n",
    "        indx2 = indx1\n",
    "        first = negative_evidence_4[i][1]\n",
    "        indx1 = negative_evidence_4[i][0]\n",
    "    elif (abs(negative_evidence_4[i][1]) > third and abs(negative_evidence_4[i][1]) > second):\n",
    "        third = second \n",
    "        indx3 = indx2\n",
    "        second = negative_evidence_4[i][1]\n",
    "        indx2 = negative_evidence_4[i][0]\n",
    "    elif(abs(negative_evidence_4[i][1]) > third):\n",
    "        third = negative_evidence_4[i][1]\n",
    "        indx3 = negative_evidence_4[i][0]\n",
    "\n",
    "print(\"First top feature for negative evidence:\" ,list(df)[indx1])\n",
    "print(\"Second top feature for negative evidence:\" ,list(df)[indx2])\n",
    "print(\"Third top feature for negative evidence:\" ,list(df)[indx3])"
   ]
  },
  {
   "cell_type": "markdown",
   "metadata": {},
   "source": [
    "### 5. The most uncertain object (the probabilities are closest to 0.5)"
   ]
  },
  {
   "cell_type": "code",
   "execution_count": 37,
   "metadata": {},
   "outputs": [
    {
     "name": "stdout",
     "output_type": "stream",
     "text": [
      "The most uncertain object is  185\n"
     ]
    }
   ],
   "source": [
    "mostUncertain = 1\n",
    "mostUncertainIndx = 0 \n",
    "for i in range(len(mostPosNeg)):\n",
    "    if abs(mostPosNeg[i][1] - mostPosNeg[i][0]) < abs(mostUncertain):\n",
    "        mostUncertain = mostPosNeg[i][1] - mostPosNeg[i][0]\n",
    "        mostUncertainIndx = i        \n",
    "\n",
    "print(\"The most uncertain object is \",mostUncertainIndx)"
   ]
  },
  {
   "cell_type": "markdown",
   "metadata": {},
   "source": [
    "#### a) the total positive log evidence\n",
    "\n",
    "#### b) the total negative log evidence"
   ]
  },
  {
   "cell_type": "code",
   "execution_count": 38,
   "metadata": {
    "collapsed": true
   },
   "outputs": [],
   "source": [
    "positive_log_evidence_5 = 0\n",
    "positive_evidence_5 = []\n",
    "negative_log_evidence_5 = 0\n",
    "negative_evidence_5 = []\n",
    "for i, objFeatureValue in enumerate(df.loc[mostUncertainIndx]):\n",
    "    if (total_ratio[objFeatureValue][i] > 0):\n",
    "        positive_log_evidence_5 =+ total_ratio[objFeatureValue][i]\n",
    "        positive_evidence_5.append((i,total_ratio[objFeatureValue][i]))\n",
    "    else:\n",
    "        negative_log_evidence_5 =+ total_ratio[objFeatureValue][i]\n",
    "        negative_evidence_5.append((i,total_ratio[objFeatureValue][i]))\n",
    "    "
   ]
  },
  {
   "cell_type": "code",
   "execution_count": 39,
   "metadata": {},
   "outputs": [
    {
     "name": "stdout",
     "output_type": "stream",
     "text": [
      "Total positive log evidence for the most negative object is 0.286197519209\n",
      "Total negative log evidence for the most negative object is -1.01554568997\n"
     ]
    }
   ],
   "source": [
    "print(\"Total positive log evidence for the most negative object is\", positive_log_evidence_5) \n",
    "print(\"Total negative log evidence for the most negative object is\", negative_log_evidence_5)"
   ]
  },
  {
   "cell_type": "markdown",
   "metadata": {},
   "source": [
    "#### c) probabilty distribution"
   ]
  },
  {
   "cell_type": "code",
   "execution_count": 40,
   "metadata": {},
   "outputs": [
    {
     "name": "stdout",
     "output_type": "stream",
     "text": [
      "Probability distribution is [ 0.50186898  0.49813102]\n"
     ]
    }
   ],
   "source": [
    "print(\"Probability distribution is\", mostPosNeg[mostUncertainIndx])"
   ]
  },
  {
   "cell_type": "markdown",
   "metadata": {},
   "source": [
    "#### d) top 3 features values that contribute most to the positive evidence"
   ]
  },
  {
   "cell_type": "code",
   "execution_count": 41,
   "metadata": {},
   "outputs": [
    {
     "name": "stdout",
     "output_type": "stream",
     "text": [
      "First top feature for positive evidence: Y\n",
      "Second top feature for positive evidence: z_mlu_sli\n",
      "Third top feature for positive evidence: z_mlu_td\n"
     ]
    }
   ],
   "source": [
    "indx1 = 0\n",
    "indx2 = 0\n",
    "indx3 = 0\n",
    "first = 0\n",
    "second = 0\n",
    "third = 0\n",
    "\n",
    "for i in range(len(positive_evidence_5)):\n",
    "    if (positive_evidence_5[i][1] > third and positive_evidence_5[i][1] > second and positive_evidence_5[i][1] > first):\n",
    "        third = second \n",
    "        indx3 = indx2\n",
    "        second = first\n",
    "        indx2 = indx1\n",
    "        first = positive_evidence_5[i][1]\n",
    "        indx1 = positive_evidence_5[i][0]\n",
    "    elif (positive_evidence_5[i][1] > third and positive_evidence_5[i][1] > second):\n",
    "        third = second \n",
    "        indx3 = indx2\n",
    "        second = positive_evidence_5[i][1]\n",
    "        indx2 = positive_evidence_5[i][0]\n",
    "    elif(positive_evidence_5[i][1] > third):\n",
    "        third = positive_evidence_5[i][1]\n",
    "        indx3 = positive_evidence_5[i][0]\n",
    "        \n",
    "print(\"First top feature for positive evidence:\" ,list(df)[indx1])\n",
    "print(\"Second top feature for positive evidence:\" ,list(df)[indx2])\n",
    "print(\"Third top feature for positive evidence:\" ,list(df)[indx3])"
   ]
  },
  {
   "cell_type": "code",
   "execution_count": 42,
   "metadata": {},
   "outputs": [
    {
     "name": "stdout",
     "output_type": "stream",
     "text": [
      "First top feature for negative evidence: total_error\n",
      "Second top feature for negative evidence: pro_aux\n",
      "Third top feature for negative evidence: det_pl_n\n"
     ]
    }
   ],
   "source": [
    "indx1 = 0\n",
    "indx2 = 0\n",
    "indx3 = 0\n",
    "first = 0\n",
    "second = 0\n",
    "third = 0\n",
    "\n",
    "for i in range(len(negative_evidence_5)):\n",
    "    if (abs(negative_evidence_5[i][1]) > third and abs(negative_evidence_5[i][1]) > second and abs(negative_evidence_5[i][1]) > first):\n",
    "        third = second \n",
    "        indx3 = indx2\n",
    "        second = first\n",
    "        indx2 = indx1\n",
    "        first = negative_evidence_5[i][1]\n",
    "        indx1 = negative_evidence_5[i][0]\n",
    "    elif (abs(negative_evidence_5[i][1]) > third and abs(negative_evidence_5[i][1]) > second):\n",
    "        third = second \n",
    "        indx3 = indx2\n",
    "        second = negative_evidence_5[i][1]\n",
    "        indx2 = negative_evidence_5[i][0]\n",
    "    elif(abs(negative_evidence_5[i][1]) > third):\n",
    "        third = negative_evidence_5[i][1]\n",
    "        indx3 = negative_evidence_5[i][0]\n",
    "\n",
    "print(\"First top feature for negative evidence:\" ,list(df)[indx1])\n",
    "print(\"Second top feature for negative evidence:\" ,list(df)[indx2])\n",
    "print(\"Third top feature for negative evidence:\" ,list(df)[indx3])"
   ]
  },
  {
   "cell_type": "code",
   "execution_count": null,
   "metadata": {
    "collapsed": true
   },
   "outputs": [],
   "source": []
  }
 ],
 "metadata": {
  "kernelspec": {
   "display_name": "Python 3",
   "language": "python",
   "name": "python3"
  },
  "language_info": {
   "codemirror_mode": {
    "name": "ipython",
    "version": 3
   },
   "file_extension": ".py",
   "mimetype": "text/x-python",
   "name": "python",
   "nbconvert_exporter": "python",
   "pygments_lexer": "ipython3",
   "version": "3.6.1"
  }
 },
 "nbformat": 4,
 "nbformat_minor": 2
}
