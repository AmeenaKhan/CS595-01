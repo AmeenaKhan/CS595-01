{
 "cells": [
  {
   "cell_type": "markdown",
   "metadata": {},
   "source": [
    "## The Data\n",
    "This dataset is from [Kaggle: Diagnose Specific Language Impairment in Children](https://www.kaggle.com/dgokeeffe/specific-language-impairment/data). It is a collection of three separate datasets which all consist of narratives from a child (adolescent and younger) attempting to complete a wordless picture task. Based on the narratives, features have been given to describe the fluency of their response. The goal is to be able to automate the diagnosis of \"Specific Language Impairment\" given these features. Specific Language Impairment (SLI) is a condition that effects 7% of 5-year-old children and is characterized by a lack of language ability in comparison to peers but with no obvious mental or physical disability\n",
    "\n",
    "The dataset contains 1163 instances and 63 features (59 numerical, 4 categorical). A decription of these features can be found [here](https://www.kaggle.com/dgokeeffe/specific-language-impairment).\n",
    "\n",
    "Class Lables:\n",
    "0 = No/Subject does not have SLI\n",
    "1 = Yes/Subject has SLI"
   ]
  },
  {
   "cell_type": "code",
   "execution_count": 1,
   "metadata": {
    "collapsed": true
   },
   "outputs": [],
   "source": [
    "import pandas as pd\n",
    "from sklearn.model_selection import train_test_split\n",
    "import numpy as np"
   ]
  },
  {
   "cell_type": "code",
   "execution_count": 2,
   "metadata": {
    "collapsed": true
   },
   "outputs": [],
   "source": [
    "from sklearn.linear_model import LogisticRegression"
   ]
  },
  {
   "cell_type": "code",
   "execution_count": 3,
   "metadata": {
    "collapsed": true
   },
   "outputs": [],
   "source": [
    "from sklearn.naive_bayes import BernoulliNB"
   ]
  },
  {
   "cell_type": "code",
   "execution_count": 4,
   "metadata": {
    "collapsed": true
   },
   "outputs": [],
   "source": [
    "from sklearn import tree\n",
    "from graphviz import Source"
   ]
  },
  {
   "cell_type": "code",
   "execution_count": 5,
   "metadata": {
    "collapsed": true
   },
   "outputs": [],
   "source": [
    "from sklearn.preprocessing import StandardScaler"
   ]
  },
  {
   "cell_type": "code",
   "execution_count": 6,
   "metadata": {
    "collapsed": true
   },
   "outputs": [],
   "source": [
    "df = pd.read_csv(\"~/Downloads/all_data_R.csv\")"
   ]
  },
  {
   "cell_type": "markdown",
   "metadata": {},
   "source": [
    "## Preprocessing and Binarizing Data"
   ]
  },
  {
   "cell_type": "code",
   "execution_count": 7,
   "metadata": {
    "collapsed": true
   },
   "outputs": [],
   "source": [
    "df = df.drop('group', axis=1)\n",
    "df = df.drop('corpus', axis=1)\n",
    "df = df.drop('filename', axis=1)\n",
    "df = df.drop('age', axis=1)"
   ]
  },
  {
   "cell_type": "code",
   "execution_count": 8,
   "metadata": {
    "collapsed": true
   },
   "outputs": [],
   "source": [
    "gender_to_int = {\"male\":0, \"female\":1}\n",
    "df[\"sex\"] =df[\"sex\"].replace(gender_to_int)"
   ]
  },
  {
   "cell_type": "code",
   "execution_count": 9,
   "metadata": {},
   "outputs": [
    {
     "name": "stdout",
     "output_type": "stream",
     "text": [
      "Mode of gender in data is 0    0.0\n",
      "dtype: float64\n"
     ]
    }
   ],
   "source": [
    "gender_mode = df['sex'].mode()\n",
    "print(\"Mode of gender in data is\", gender_mode)\n",
    "df['sex'] = df['sex'].fillna(0.0)"
   ]
  },
  {
   "cell_type": "markdown",
   "metadata": {},
   "source": [
    "### Test-Train Split"
   ]
  },
  {
   "cell_type": "code",
   "execution_count": 10,
   "metadata": {
    "collapsed": true
   },
   "outputs": [],
   "source": [
    "targets = df['Y']\n",
    "df = df.drop('Y',axis=1)"
   ]
  },
  {
   "cell_type": "code",
   "execution_count": 11,
   "metadata": {},
   "outputs": [
    {
     "name": "stdout",
     "output_type": "stream",
     "text": [
      "TRAINING SET\n",
      "\n",
      "<class 'pandas.core.frame.DataFrame'>\n",
      "Int64Index: 779 entries, 0 to 778\n",
      "Columns: 59 entries, sex to total_error\n",
      "dtypes: float64(24), int64(35)\n",
      "memory usage: 365.2 KB\n",
      "None \n",
      "\n",
      "\n",
      "TESTING SET\n",
      "\n",
      "<class 'pandas.core.frame.DataFrame'>\n",
      "Int64Index: 384 entries, 779 to 1162\n",
      "Columns: 59 entries, sex to total_error\n",
      "dtypes: float64(24), int64(35)\n",
      "memory usage: 180.0 KB\n",
      "None\n"
     ]
    }
   ],
   "source": [
    "train_x, test_x, train_y, test_y = train_test_split(df, targets, test_size = 0.33, random_state=42, shuffle=False)\n",
    "print(\"TRAINING SET\\n\")\n",
    "print(train_x.info(verbose=False), \"\\n\\n\")\n",
    "print(\"TESTING SET\\n\")\n",
    "print(test_x.info(verbose=False))"
   ]
  },
  {
   "cell_type": "code",
   "execution_count": 12,
   "metadata": {
    "collapsed": true
   },
   "outputs": [],
   "source": [
    "clf2 = LogisticRegression(fit_intercept=False, penalty='l2', C=1)"
   ]
  },
  {
   "cell_type": "code",
   "execution_count": 13,
   "metadata": {
    "collapsed": true
   },
   "outputs": [],
   "source": [
    "clf2 = clf2.fit(train_x,train_y)"
   ]
  },
  {
   "cell_type": "code",
   "execution_count": 14,
   "metadata": {},
   "outputs": [
    {
     "name": "stdout",
     "output_type": "stream",
     "text": [
      "Top 10 Features w/ L2:\n",
      "1 word_errors\n",
      "2 propositions_in\n",
      "3 d_3g_ppl\n",
      "4 z_mlu_sli\n",
      "5 r_2_i_verbs\n",
      "6 mlu_morphemes\n",
      "7 mlu_words\n",
      "8 repetition\n",
      "9 z_mlu_td\n",
      "10 dss\n"
     ]
    }
   ],
   "source": [
    "sort = [None]*10\n",
    "for i, value in enumerate(np.argsort(abs(clf2.coef_[0]))):\n",
    "    if (value <= 9):\n",
    "        sort[value] = i\n",
    "\n",
    "print(\"Top 10 Features w/ L2:\")\n",
    "n = 1\n",
    "for i in sort:\n",
    "    print(n, list(df)[i])\n",
    "    n += 1"
   ]
  },
  {
   "cell_type": "code",
   "execution_count": 15,
   "metadata": {
    "collapsed": true
   },
   "outputs": [],
   "source": [
    "clf1 = LogisticRegression(fit_intercept=False, penalty='l1', C=1)\n",
    "clf1 = clf1.fit(train_x,train_y)"
   ]
  },
  {
   "cell_type": "code",
   "execution_count": 16,
   "metadata": {},
   "outputs": [
    {
     "name": "stdout",
     "output_type": "stream",
     "text": [
      "Top 10 Features w/ L1:\n",
      "1 n_v\n",
      "2 uncontractible_copula\n",
      "3 average_syl\n",
      "4 verb_utt\n",
      "5 z_mlu_td\n",
      "6 fillers\n",
      "7 s_1g_ppl\n",
      "8 z_ipsyn_td\n",
      "9 mlu_morphemes\n",
      "10 irregular_past_tense\n"
     ]
    }
   ],
   "source": [
    "sort = [None]*10\n",
    "for i, value in enumerate(np.argsort(abs(clf1.coef_)[0])):\n",
    "    if value <= 9:\n",
    "        sort[value] = i\n",
    "\n",
    "print(\"Top 10 Features w/ L1:\")\n",
    "n = 1\n",
    "for i in sort:\n",
    "    print(n, list(df)[i])\n",
    "    n += 1"
   ]
  },
  {
   "cell_type": "code",
   "execution_count": 17,
   "metadata": {},
   "outputs": [
    {
     "data": {
      "image/svg+xml": [
       "<?xml version=\"1.0\" encoding=\"UTF-8\" standalone=\"no\"?>\n",
       "<!DOCTYPE svg PUBLIC \"-//W3C//DTD SVG 1.1//EN\"\n",
       " \"http://www.w3.org/Graphics/SVG/1.1/DTD/svg11.dtd\">\n",
       "<!-- Generated by graphviz version 2.38.0 (20140413.2041)\n",
       " -->\n",
       "<!-- Title: Tree Pages: 1 -->\n",
       "<svg width=\"1306pt\" height=\"642pt\"\n",
       " viewBox=\"0.00 0.00 1306.04 642.00\" xmlns=\"http://www.w3.org/2000/svg\" xmlns:xlink=\"http://www.w3.org/1999/xlink\">\n",
       "<g id=\"graph0\" class=\"graph\" transform=\"scale(1 1) rotate(0) translate(4 638)\">\n",
       "<title>Tree</title>\n",
       "<polygon fill=\"white\" stroke=\"none\" points=\"-4,4 -4,-638 1302.04,-638 1302.04,4 -4,4\"/>\n",
       "<!-- 0 -->\n",
       "<g id=\"node1\" class=\"node\"><title>0</title>\n",
       "<polygon fill=\"none\" stroke=\"black\" points=\"846.781,-634 721.756,-634 721.756,-556 846.781,-556 846.781,-634\"/>\n",
       "<text text-anchor=\"middle\" x=\"784.269\" y=\"-618.8\" font-family=\"Times,serif\" font-size=\"14.00\">z_mlu_sli &lt;= 0.343</text>\n",
       "<text text-anchor=\"middle\" x=\"784.269\" y=\"-604.8\" font-family=\"Times,serif\" font-size=\"14.00\">gini = 0.451</text>\n",
       "<text text-anchor=\"middle\" x=\"784.269\" y=\"-590.8\" font-family=\"Times,serif\" font-size=\"14.00\">samples = 779</text>\n",
       "<text text-anchor=\"middle\" x=\"784.269\" y=\"-576.8\" font-family=\"Times,serif\" font-size=\"14.00\">value = [512, 267]</text>\n",
       "<text text-anchor=\"middle\" x=\"784.269\" y=\"-562.8\" font-family=\"Times,serif\" font-size=\"14.00\">class = TD</text>\n",
       "</g>\n",
       "<!-- 1 -->\n",
       "<g id=\"node2\" class=\"node\"><title>1</title>\n",
       "<polygon fill=\"none\" stroke=\"black\" points=\"736.807,-520 617.731,-520 617.731,-442 736.807,-442 736.807,-520\"/>\n",
       "<text text-anchor=\"middle\" x=\"677.269\" y=\"-504.8\" font-family=\"Times,serif\" font-size=\"14.00\">articles &lt;= 18.5</text>\n",
       "<text text-anchor=\"middle\" x=\"677.269\" y=\"-490.8\" font-family=\"Times,serif\" font-size=\"14.00\">gini = 0.483</text>\n",
       "<text text-anchor=\"middle\" x=\"677.269\" y=\"-476.8\" font-family=\"Times,serif\" font-size=\"14.00\">samples = 307</text>\n",
       "<text text-anchor=\"middle\" x=\"677.269\" y=\"-462.8\" font-family=\"Times,serif\" font-size=\"14.00\">value = [125, 182]</text>\n",
       "<text text-anchor=\"middle\" x=\"677.269\" y=\"-448.8\" font-family=\"Times,serif\" font-size=\"14.00\">class = SLI</text>\n",
       "</g>\n",
       "<!-- 0&#45;&gt;1 -->\n",
       "<g id=\"edge1\" class=\"edge\"><title>0&#45;&gt;1</title>\n",
       "<path fill=\"none\" stroke=\"black\" d=\"M747.744,-555.769C739.05,-546.669 729.689,-536.87 720.718,-527.48\"/>\n",
       "<polygon fill=\"black\" stroke=\"black\" points=\"723.067,-524.871 713.628,-520.058 718.005,-529.707 723.067,-524.871\"/>\n",
       "<text text-anchor=\"middle\" x=\"713.057\" y=\"-540.852\" font-family=\"Times,serif\" font-size=\"14.00\">True</text>\n",
       "</g>\n",
       "<!-- 20 -->\n",
       "<g id=\"node21\" class=\"node\"><title>20</title>\n",
       "<polygon fill=\"none\" stroke=\"black\" points=\"957.449,-520 827.088,-520 827.088,-442 957.449,-442 957.449,-520\"/>\n",
       "<text text-anchor=\"middle\" x=\"892.269\" y=\"-504.8\" font-family=\"Times,serif\" font-size=\"14.00\">d_1g_ppl &lt;= 22.146</text>\n",
       "<text text-anchor=\"middle\" x=\"892.269\" y=\"-490.8\" font-family=\"Times,serif\" font-size=\"14.00\">gini = 0.295</text>\n",
       "<text text-anchor=\"middle\" x=\"892.269\" y=\"-476.8\" font-family=\"Times,serif\" font-size=\"14.00\">samples = 472</text>\n",
       "<text text-anchor=\"middle\" x=\"892.269\" y=\"-462.8\" font-family=\"Times,serif\" font-size=\"14.00\">value = [387, 85]</text>\n",
       "<text text-anchor=\"middle\" x=\"892.269\" y=\"-448.8\" font-family=\"Times,serif\" font-size=\"14.00\">class = TD</text>\n",
       "</g>\n",
       "<!-- 0&#45;&gt;20 -->\n",
       "<g id=\"edge20\" class=\"edge\"><title>0&#45;&gt;20</title>\n",
       "<path fill=\"none\" stroke=\"black\" d=\"M821.134,-555.769C829.909,-546.669 839.359,-536.87 848.413,-527.48\"/>\n",
       "<polygon fill=\"black\" stroke=\"black\" points=\"851.147,-529.686 855.569,-520.058 846.108,-524.827 851.147,-529.686\"/>\n",
       "<text text-anchor=\"middle\" x=\"856.024\" y=\"-540.854\" font-family=\"Times,serif\" font-size=\"14.00\">False</text>\n",
       "</g>\n",
       "<!-- 2 -->\n",
       "<g id=\"node3\" class=\"node\"><title>2</title>\n",
       "<polygon fill=\"none\" stroke=\"black\" points=\"487.85,-406 352.687,-406 352.687,-328 487.85,-328 487.85,-406\"/>\n",
       "<text text-anchor=\"middle\" x=\"420.269\" y=\"-390.8\" font-family=\"Times,serif\" font-size=\"14.00\">age(years) &lt;= 10.292</text>\n",
       "<text text-anchor=\"middle\" x=\"420.269\" y=\"-376.8\" font-family=\"Times,serif\" font-size=\"14.00\">gini = 0.176</text>\n",
       "<text text-anchor=\"middle\" x=\"420.269\" y=\"-362.8\" font-family=\"Times,serif\" font-size=\"14.00\">samples = 144</text>\n",
       "<text text-anchor=\"middle\" x=\"420.269\" y=\"-348.8\" font-family=\"Times,serif\" font-size=\"14.00\">value = [14, 130]</text>\n",
       "<text text-anchor=\"middle\" x=\"420.269\" y=\"-334.8\" font-family=\"Times,serif\" font-size=\"14.00\">class = SLI</text>\n",
       "</g>\n",
       "<!-- 1&#45;&gt;2 -->\n",
       "<g id=\"edge2\" class=\"edge\"><title>1&#45;&gt;2</title>\n",
       "<path fill=\"none\" stroke=\"black\" d=\"M617.662,-454.023C581.984,-438.475 536.246,-418.543 497.782,-401.78\"/>\n",
       "<polygon fill=\"black\" stroke=\"black\" points=\"498.736,-398.378 488.171,-397.592 495.94,-404.795 498.736,-398.378\"/>\n",
       "</g>\n",
       "<!-- 9 -->\n",
       "<g id=\"node10\" class=\"node\"><title>9</title>\n",
       "<polygon fill=\"none\" stroke=\"black\" points=\"746.501,-406 608.036,-406 608.036,-328 746.501,-328 746.501,-406\"/>\n",
       "<text text-anchor=\"middle\" x=\"677.269\" y=\"-390.8\" font-family=\"Times,serif\" font-size=\"14.00\">z_ipsyn_sli &lt;= &#45;0.225</text>\n",
       "<text text-anchor=\"middle\" x=\"677.269\" y=\"-376.8\" font-family=\"Times,serif\" font-size=\"14.00\">gini = 0.434</text>\n",
       "<text text-anchor=\"middle\" x=\"677.269\" y=\"-362.8\" font-family=\"Times,serif\" font-size=\"14.00\">samples = 163</text>\n",
       "<text text-anchor=\"middle\" x=\"677.269\" y=\"-348.8\" font-family=\"Times,serif\" font-size=\"14.00\">value = [111, 52]</text>\n",
       "<text text-anchor=\"middle\" x=\"677.269\" y=\"-334.8\" font-family=\"Times,serif\" font-size=\"14.00\">class = TD</text>\n",
       "</g>\n",
       "<!-- 1&#45;&gt;9 -->\n",
       "<g id=\"edge9\" class=\"edge\"><title>1&#45;&gt;9</title>\n",
       "<path fill=\"none\" stroke=\"black\" d=\"M677.269,-441.769C677.269,-433.57 677.269,-424.803 677.269,-416.28\"/>\n",
       "<polygon fill=\"black\" stroke=\"black\" points=\"680.769,-416.058 677.269,-406.058 673.769,-416.059 680.769,-416.058\"/>\n",
       "</g>\n",
       "<!-- 3 -->\n",
       "<g id=\"node4\" class=\"node\"><title>3</title>\n",
       "<polygon fill=\"none\" stroke=\"black\" points=\"337.35,-292 209.187,-292 209.187,-214 337.35,-214 337.35,-292\"/>\n",
       "<text text-anchor=\"middle\" x=\"273.269\" y=\"-276.8\" font-family=\"Times,serif\" font-size=\"14.00\">age(years) &lt;= 5.958</text>\n",
       "<text text-anchor=\"middle\" x=\"273.269\" y=\"-262.8\" font-family=\"Times,serif\" font-size=\"14.00\">gini = 0.113</text>\n",
       "<text text-anchor=\"middle\" x=\"273.269\" y=\"-248.8\" font-family=\"Times,serif\" font-size=\"14.00\">samples = 133</text>\n",
       "<text text-anchor=\"middle\" x=\"273.269\" y=\"-234.8\" font-family=\"Times,serif\" font-size=\"14.00\">value = [8, 125]</text>\n",
       "<text text-anchor=\"middle\" x=\"273.269\" y=\"-220.8\" font-family=\"Times,serif\" font-size=\"14.00\">class = SLI</text>\n",
       "</g>\n",
       "<!-- 2&#45;&gt;3 -->\n",
       "<g id=\"edge3\" class=\"edge\"><title>2&#45;&gt;3</title>\n",
       "<path fill=\"none\" stroke=\"black\" d=\"M370.091,-327.769C357.673,-318.308 344.265,-308.092 331.499,-298.366\"/>\n",
       "<polygon fill=\"black\" stroke=\"black\" points=\"333.296,-295.335 323.22,-292.058 329.054,-300.903 333.296,-295.335\"/>\n",
       "</g>\n",
       "<!-- 8 -->\n",
       "<g id=\"node9\" class=\"node\"><title>8</title>\n",
       "<polygon fill=\"none\" stroke=\"black\" points=\"465.807,-285 374.73,-285 374.73,-221 465.807,-221 465.807,-285\"/>\n",
       "<text text-anchor=\"middle\" x=\"420.269\" y=\"-269.8\" font-family=\"Times,serif\" font-size=\"14.00\">gini = 0.496</text>\n",
       "<text text-anchor=\"middle\" x=\"420.269\" y=\"-255.8\" font-family=\"Times,serif\" font-size=\"14.00\">samples = 11</text>\n",
       "<text text-anchor=\"middle\" x=\"420.269\" y=\"-241.8\" font-family=\"Times,serif\" font-size=\"14.00\">value = [6, 5]</text>\n",
       "<text text-anchor=\"middle\" x=\"420.269\" y=\"-227.8\" font-family=\"Times,serif\" font-size=\"14.00\">class = TD</text>\n",
       "</g>\n",
       "<!-- 2&#45;&gt;8 -->\n",
       "<g id=\"edge8\" class=\"edge\"><title>2&#45;&gt;8</title>\n",
       "<path fill=\"none\" stroke=\"black\" d=\"M420.269,-327.769C420.269,-317.313 420.269,-305.935 420.269,-295.315\"/>\n",
       "<polygon fill=\"black\" stroke=\"black\" points=\"423.769,-295.01 420.269,-285.01 416.769,-295.01 423.769,-295.01\"/>\n",
       "</g>\n",
       "<!-- 4 -->\n",
       "<g id=\"node5\" class=\"node\"><title>4</title>\n",
       "<polygon fill=\"none\" stroke=\"black\" points=\"203.671,-178 94.8664,-178 94.8664,-100 203.671,-100 203.671,-178\"/>\n",
       "<text text-anchor=\"middle\" x=\"149.269\" y=\"-162.8\" font-family=\"Times,serif\" font-size=\"14.00\">pro_3s_v &lt;= 1.5</text>\n",
       "<text text-anchor=\"middle\" x=\"149.269\" y=\"-148.8\" font-family=\"Times,serif\" font-size=\"14.00\">gini = 0.463</text>\n",
       "<text text-anchor=\"middle\" x=\"149.269\" y=\"-134.8\" font-family=\"Times,serif\" font-size=\"14.00\">samples = 22</text>\n",
       "<text text-anchor=\"middle\" x=\"149.269\" y=\"-120.8\" font-family=\"Times,serif\" font-size=\"14.00\">value = [8, 14]</text>\n",
       "<text text-anchor=\"middle\" x=\"149.269\" y=\"-106.8\" font-family=\"Times,serif\" font-size=\"14.00\">class = SLI</text>\n",
       "</g>\n",
       "<!-- 3&#45;&gt;4 -->\n",
       "<g id=\"edge4\" class=\"edge\"><title>3&#45;&gt;4</title>\n",
       "<path fill=\"none\" stroke=\"black\" d=\"M230.942,-213.769C220.666,-204.488 209.587,-194.481 199.004,-184.923\"/>\n",
       "<polygon fill=\"black\" stroke=\"black\" points=\"201.172,-182.164 191.405,-178.058 196.48,-187.359 201.172,-182.164\"/>\n",
       "</g>\n",
       "<!-- 7 -->\n",
       "<g id=\"node8\" class=\"node\"><title>7</title>\n",
       "<polygon fill=\"none\" stroke=\"black\" points=\"325.281,-171 221.256,-171 221.256,-107 325.281,-107 325.281,-171\"/>\n",
       "<text text-anchor=\"middle\" x=\"273.269\" y=\"-155.8\" font-family=\"Times,serif\" font-size=\"14.00\">gini = 0.0</text>\n",
       "<text text-anchor=\"middle\" x=\"273.269\" y=\"-141.8\" font-family=\"Times,serif\" font-size=\"14.00\">samples = 111</text>\n",
       "<text text-anchor=\"middle\" x=\"273.269\" y=\"-127.8\" font-family=\"Times,serif\" font-size=\"14.00\">value = [0, 111]</text>\n",
       "<text text-anchor=\"middle\" x=\"273.269\" y=\"-113.8\" font-family=\"Times,serif\" font-size=\"14.00\">class = SLI</text>\n",
       "</g>\n",
       "<!-- 3&#45;&gt;7 -->\n",
       "<g id=\"edge7\" class=\"edge\"><title>3&#45;&gt;7</title>\n",
       "<path fill=\"none\" stroke=\"black\" d=\"M273.269,-213.769C273.269,-203.313 273.269,-191.935 273.269,-181.315\"/>\n",
       "<polygon fill=\"black\" stroke=\"black\" points=\"276.769,-181.01 273.269,-171.01 269.769,-181.01 276.769,-181.01\"/>\n",
       "</g>\n",
       "<!-- 5 -->\n",
       "<g id=\"node6\" class=\"node\"><title>5</title>\n",
       "<polygon fill=\"none\" stroke=\"black\" points=\"98.3067,-64 0.230363,-64 0.230363,-0 98.3067,-0 98.3067,-64\"/>\n",
       "<text text-anchor=\"middle\" x=\"49.2686\" y=\"-48.8\" font-family=\"Times,serif\" font-size=\"14.00\">gini = 0.291</text>\n",
       "<text text-anchor=\"middle\" x=\"49.2686\" y=\"-34.8\" font-family=\"Times,serif\" font-size=\"14.00\">samples = 17</text>\n",
       "<text text-anchor=\"middle\" x=\"49.2686\" y=\"-20.8\" font-family=\"Times,serif\" font-size=\"14.00\">value = [3, 14]</text>\n",
       "<text text-anchor=\"middle\" x=\"49.2686\" y=\"-6.8\" font-family=\"Times,serif\" font-size=\"14.00\">class = SLI</text>\n",
       "</g>\n",
       "<!-- 4&#45;&gt;5 -->\n",
       "<g id=\"edge5\" class=\"edge\"><title>4&#45;&gt;5</title>\n",
       "<path fill=\"none\" stroke=\"black\" d=\"M112.883,-99.7956C104.07,-90.5419 94.6465,-80.6469 85.8257,-71.385\"/>\n",
       "<polygon fill=\"black\" stroke=\"black\" points=\"88.335,-68.9448 78.904,-64.1172 83.266,-73.7724 88.335,-68.9448\"/>\n",
       "</g>\n",
       "<!-- 6 -->\n",
       "<g id=\"node7\" class=\"node\"><title>6</title>\n",
       "<polygon fill=\"none\" stroke=\"black\" points=\"207.807,-64 116.73,-64 116.73,-0 207.807,-0 207.807,-64\"/>\n",
       "<text text-anchor=\"middle\" x=\"162.269\" y=\"-48.8\" font-family=\"Times,serif\" font-size=\"14.00\">gini = 0.0</text>\n",
       "<text text-anchor=\"middle\" x=\"162.269\" y=\"-34.8\" font-family=\"Times,serif\" font-size=\"14.00\">samples = 5</text>\n",
       "<text text-anchor=\"middle\" x=\"162.269\" y=\"-20.8\" font-family=\"Times,serif\" font-size=\"14.00\">value = [5, 0]</text>\n",
       "<text text-anchor=\"middle\" x=\"162.269\" y=\"-6.8\" font-family=\"Times,serif\" font-size=\"14.00\">class = TD</text>\n",
       "</g>\n",
       "<!-- 4&#45;&gt;6 -->\n",
       "<g id=\"edge6\" class=\"edge\"><title>4&#45;&gt;6</title>\n",
       "<path fill=\"none\" stroke=\"black\" d=\"M153.999,-99.7956C155.031,-91.4581 156.128,-82.6 157.173,-74.1534\"/>\n",
       "<polygon fill=\"black\" stroke=\"black\" points=\"160.661,-74.4715 158.416,-64.1172 153.714,-73.6113 160.661,-74.4715\"/>\n",
       "</g>\n",
       "<!-- 10 -->\n",
       "<g id=\"node11\" class=\"node\"><title>10</title>\n",
       "<polygon fill=\"none\" stroke=\"black\" points=\"630.35,-292 502.187,-292 502.187,-214 630.35,-214 630.35,-292\"/>\n",
       "<text text-anchor=\"middle\" x=\"566.269\" y=\"-276.8\" font-family=\"Times,serif\" font-size=\"14.00\">age(years) &lt;= 8.542</text>\n",
       "<text text-anchor=\"middle\" x=\"566.269\" y=\"-262.8\" font-family=\"Times,serif\" font-size=\"14.00\">gini = 0.314</text>\n",
       "<text text-anchor=\"middle\" x=\"566.269\" y=\"-248.8\" font-family=\"Times,serif\" font-size=\"14.00\">samples = 123</text>\n",
       "<text text-anchor=\"middle\" x=\"566.269\" y=\"-234.8\" font-family=\"Times,serif\" font-size=\"14.00\">value = [99, 24]</text>\n",
       "<text text-anchor=\"middle\" x=\"566.269\" y=\"-220.8\" font-family=\"Times,serif\" font-size=\"14.00\">class = TD</text>\n",
       "</g>\n",
       "<!-- 9&#45;&gt;10 -->\n",
       "<g id=\"edge10\" class=\"edge\"><title>9&#45;&gt;10</title>\n",
       "<path fill=\"none\" stroke=\"black\" d=\"M639.379,-327.769C630.271,-318.579 620.456,-308.676 611.066,-299.201\"/>\n",
       "<polygon fill=\"black\" stroke=\"black\" points=\"613.513,-296.697 603.987,-292.058 608.541,-301.625 613.513,-296.697\"/>\n",
       "</g>\n",
       "<!-- 17 -->\n",
       "<g id=\"node18\" class=\"node\"><title>17</title>\n",
       "<polygon fill=\"none\" stroke=\"black\" points=\"779.35,-292 651.187,-292 651.187,-214 779.35,-214 779.35,-292\"/>\n",
       "<text text-anchor=\"middle\" x=\"715.269\" y=\"-276.8\" font-family=\"Times,serif\" font-size=\"14.00\">age(years) &lt;= 4.708</text>\n",
       "<text text-anchor=\"middle\" x=\"715.269\" y=\"-262.8\" font-family=\"Times,serif\" font-size=\"14.00\">gini = 0.42</text>\n",
       "<text text-anchor=\"middle\" x=\"715.269\" y=\"-248.8\" font-family=\"Times,serif\" font-size=\"14.00\">samples = 40</text>\n",
       "<text text-anchor=\"middle\" x=\"715.269\" y=\"-234.8\" font-family=\"Times,serif\" font-size=\"14.00\">value = [12, 28]</text>\n",
       "<text text-anchor=\"middle\" x=\"715.269\" y=\"-220.8\" font-family=\"Times,serif\" font-size=\"14.00\">class = SLI</text>\n",
       "</g>\n",
       "<!-- 9&#45;&gt;17 -->\n",
       "<g id=\"edge17\" class=\"edge\"><title>9&#45;&gt;17</title>\n",
       "<path fill=\"none\" stroke=\"black\" d=\"M690.24,-327.769C693.083,-319.389 696.127,-310.418 699.078,-301.718\"/>\n",
       "<polygon fill=\"black\" stroke=\"black\" points=\"702.457,-302.653 702.356,-292.058 695.828,-300.404 702.457,-302.653\"/>\n",
       "</g>\n",
       "<!-- 11 -->\n",
       "<g id=\"node12\" class=\"node\"><title>11</title>\n",
       "<polygon fill=\"none\" stroke=\"black\" points=\"460.715,-178 343.822,-178 343.822,-100 460.715,-100 460.715,-178\"/>\n",
       "<text text-anchor=\"middle\" x=\"402.269\" y=\"-162.8\" font-family=\"Times,serif\" font-size=\"14.00\">verb_utt &lt;= 1.021</text>\n",
       "<text text-anchor=\"middle\" x=\"402.269\" y=\"-148.8\" font-family=\"Times,serif\" font-size=\"14.00\">gini = 0.209</text>\n",
       "<text text-anchor=\"middle\" x=\"402.269\" y=\"-134.8\" font-family=\"Times,serif\" font-size=\"14.00\">samples = 101</text>\n",
       "<text text-anchor=\"middle\" x=\"402.269\" y=\"-120.8\" font-family=\"Times,serif\" font-size=\"14.00\">value = [89, 12]</text>\n",
       "<text text-anchor=\"middle\" x=\"402.269\" y=\"-106.8\" font-family=\"Times,serif\" font-size=\"14.00\">class = TD</text>\n",
       "</g>\n",
       "<!-- 10&#45;&gt;11 -->\n",
       "<g id=\"edge11\" class=\"edge\"><title>10&#45;&gt;11</title>\n",
       "<path fill=\"none\" stroke=\"black\" d=\"M510.288,-213.769C496.17,-204.128 480.905,-193.703 466.42,-183.811\"/>\n",
       "<polygon fill=\"black\" stroke=\"black\" points=\"468.229,-180.808 457.997,-178.058 464.281,-186.588 468.229,-180.808\"/>\n",
       "</g>\n",
       "<!-- 14 -->\n",
       "<g id=\"node15\" class=\"node\"><title>14</title>\n",
       "<polygon fill=\"none\" stroke=\"black\" points=\"653.74,-178 478.797,-178 478.797,-100 653.74,-100 653.74,-178\"/>\n",
       "<text text-anchor=\"middle\" x=\"566.269\" y=\"-162.8\" font-family=\"Times,serif\" font-size=\"14.00\">irregular_3rd_person &lt;= 1.5</text>\n",
       "<text text-anchor=\"middle\" x=\"566.269\" y=\"-148.8\" font-family=\"Times,serif\" font-size=\"14.00\">gini = 0.496</text>\n",
       "<text text-anchor=\"middle\" x=\"566.269\" y=\"-134.8\" font-family=\"Times,serif\" font-size=\"14.00\">samples = 22</text>\n",
       "<text text-anchor=\"middle\" x=\"566.269\" y=\"-120.8\" font-family=\"Times,serif\" font-size=\"14.00\">value = [10, 12]</text>\n",
       "<text text-anchor=\"middle\" x=\"566.269\" y=\"-106.8\" font-family=\"Times,serif\" font-size=\"14.00\">class = SLI</text>\n",
       "</g>\n",
       "<!-- 10&#45;&gt;14 -->\n",
       "<g id=\"edge14\" class=\"edge\"><title>10&#45;&gt;14</title>\n",
       "<path fill=\"none\" stroke=\"black\" d=\"M566.269,-213.769C566.269,-205.57 566.269,-196.803 566.269,-188.28\"/>\n",
       "<polygon fill=\"black\" stroke=\"black\" points=\"569.769,-188.058 566.269,-178.058 562.769,-188.059 569.769,-188.058\"/>\n",
       "</g>\n",
       "<!-- 12 -->\n",
       "<g id=\"node13\" class=\"node\"><title>12</title>\n",
       "<polygon fill=\"none\" stroke=\"black\" points=\"348.307,-64 250.23,-64 250.23,-0 348.307,-0 348.307,-64\"/>\n",
       "<text text-anchor=\"middle\" x=\"299.269\" y=\"-48.8\" font-family=\"Times,serif\" font-size=\"14.00\">gini = 0.499</text>\n",
       "<text text-anchor=\"middle\" x=\"299.269\" y=\"-34.8\" font-family=\"Times,serif\" font-size=\"14.00\">samples = 19</text>\n",
       "<text text-anchor=\"middle\" x=\"299.269\" y=\"-20.8\" font-family=\"Times,serif\" font-size=\"14.00\">value = [9, 10]</text>\n",
       "<text text-anchor=\"middle\" x=\"299.269\" y=\"-6.8\" font-family=\"Times,serif\" font-size=\"14.00\">class = SLI</text>\n",
       "</g>\n",
       "<!-- 11&#45;&gt;12 -->\n",
       "<g id=\"edge12\" class=\"edge\"><title>11&#45;&gt;12</title>\n",
       "<path fill=\"none\" stroke=\"black\" d=\"M364.792,-99.7956C355.714,-90.5419 346.008,-80.6469 336.922,-71.385\"/>\n",
       "<polygon fill=\"black\" stroke=\"black\" points=\"339.294,-68.805 329.793,-64.1172 334.297,-73.7069 339.294,-68.805\"/>\n",
       "</g>\n",
       "<!-- 13 -->\n",
       "<g id=\"node14\" class=\"node\"><title>13</title>\n",
       "<polygon fill=\"none\" stroke=\"black\" points=\"465.307,-64 367.23,-64 367.23,-0 465.307,-0 465.307,-64\"/>\n",
       "<text text-anchor=\"middle\" x=\"416.269\" y=\"-48.8\" font-family=\"Times,serif\" font-size=\"14.00\">gini = 0.048</text>\n",
       "<text text-anchor=\"middle\" x=\"416.269\" y=\"-34.8\" font-family=\"Times,serif\" font-size=\"14.00\">samples = 82</text>\n",
       "<text text-anchor=\"middle\" x=\"416.269\" y=\"-20.8\" font-family=\"Times,serif\" font-size=\"14.00\">value = [80, 2]</text>\n",
       "<text text-anchor=\"middle\" x=\"416.269\" y=\"-6.8\" font-family=\"Times,serif\" font-size=\"14.00\">class = TD</text>\n",
       "</g>\n",
       "<!-- 11&#45;&gt;13 -->\n",
       "<g id=\"edge13\" class=\"edge\"><title>11&#45;&gt;13</title>\n",
       "<path fill=\"none\" stroke=\"black\" d=\"M407.362,-99.7956C408.474,-91.4581 409.655,-82.6 410.781,-74.1534\"/>\n",
       "<polygon fill=\"black\" stroke=\"black\" points=\"414.267,-74.4921 412.12,-64.1172 407.329,-73.5668 414.267,-74.4921\"/>\n",
       "</g>\n",
       "<!-- 15 -->\n",
       "<g id=\"node16\" class=\"node\"><title>15</title>\n",
       "<polygon fill=\"none\" stroke=\"black\" points=\"599.807,-64 508.73,-64 508.73,-0 599.807,-0 599.807,-64\"/>\n",
       "<text text-anchor=\"middle\" x=\"554.269\" y=\"-48.8\" font-family=\"Times,serif\" font-size=\"14.00\">gini = 0.219</text>\n",
       "<text text-anchor=\"middle\" x=\"554.269\" y=\"-34.8\" font-family=\"Times,serif\" font-size=\"14.00\">samples = 8</text>\n",
       "<text text-anchor=\"middle\" x=\"554.269\" y=\"-20.8\" font-family=\"Times,serif\" font-size=\"14.00\">value = [7, 1]</text>\n",
       "<text text-anchor=\"middle\" x=\"554.269\" y=\"-6.8\" font-family=\"Times,serif\" font-size=\"14.00\">class = TD</text>\n",
       "</g>\n",
       "<!-- 14&#45;&gt;15 -->\n",
       "<g id=\"edge15\" class=\"edge\"><title>14&#45;&gt;15</title>\n",
       "<path fill=\"none\" stroke=\"black\" d=\"M561.902,-99.7956C560.949,-91.4581 559.937,-82.6 558.972,-74.1534\"/>\n",
       "<polygon fill=\"black\" stroke=\"black\" points=\"562.438,-73.6551 557.825,-64.1172 555.483,-74.4499 562.438,-73.6551\"/>\n",
       "</g>\n",
       "<!-- 16 -->\n",
       "<g id=\"node17\" class=\"node\"><title>16</title>\n",
       "<polygon fill=\"none\" stroke=\"black\" points=\"716.293,-64 618.244,-64 618.244,-0 716.293,-0 716.293,-64\"/>\n",
       "<text text-anchor=\"middle\" x=\"667.269\" y=\"-48.8\" font-family=\"Times,serif\" font-size=\"14.00\">gini = 0.337</text>\n",
       "<text text-anchor=\"middle\" x=\"667.269\" y=\"-34.8\" font-family=\"Times,serif\" font-size=\"14.00\">samples = 14</text>\n",
       "<text text-anchor=\"middle\" x=\"667.269\" y=\"-20.8\" font-family=\"Times,serif\" font-size=\"14.00\">value = [3, 11]</text>\n",
       "<text text-anchor=\"middle\" x=\"667.269\" y=\"-6.8\" font-family=\"Times,serif\" font-size=\"14.00\">class = SLI</text>\n",
       "</g>\n",
       "<!-- 14&#45;&gt;16 -->\n",
       "<g id=\"edge16\" class=\"edge\"><title>14&#45;&gt;16</title>\n",
       "<path fill=\"none\" stroke=\"black\" d=\"M603.018,-99.7956C611.919,-90.5419 621.437,-80.6469 630.346,-71.385\"/>\n",
       "<polygon fill=\"black\" stroke=\"black\" points=\"632.927,-73.7506 637.337,-64.1172 627.882,-68.8978 632.927,-73.7506\"/>\n",
       "</g>\n",
       "<!-- 18 -->\n",
       "<g id=\"node19\" class=\"node\"><title>18</title>\n",
       "<polygon fill=\"none\" stroke=\"black\" points=\"762.807,-171 671.73,-171 671.73,-107 762.807,-107 762.807,-171\"/>\n",
       "<text text-anchor=\"middle\" x=\"717.269\" y=\"-155.8\" font-family=\"Times,serif\" font-size=\"14.00\">gini = 0.346</text>\n",
       "<text text-anchor=\"middle\" x=\"717.269\" y=\"-141.8\" font-family=\"Times,serif\" font-size=\"14.00\">samples = 9</text>\n",
       "<text text-anchor=\"middle\" x=\"717.269\" y=\"-127.8\" font-family=\"Times,serif\" font-size=\"14.00\">value = [7, 2]</text>\n",
       "<text text-anchor=\"middle\" x=\"717.269\" y=\"-113.8\" font-family=\"Times,serif\" font-size=\"14.00\">class = TD</text>\n",
       "</g>\n",
       "<!-- 17&#45;&gt;18 -->\n",
       "<g id=\"edge18\" class=\"edge\"><title>17&#45;&gt;18</title>\n",
       "<path fill=\"none\" stroke=\"black\" d=\"M715.951,-213.769C716.138,-203.313 716.341,-191.935 716.531,-181.315\"/>\n",
       "<polygon fill=\"black\" stroke=\"black\" points=\"720.036,-181.071 716.715,-171.01 713.037,-180.946 720.036,-181.071\"/>\n",
       "</g>\n",
       "<!-- 19 -->\n",
       "<g id=\"node20\" class=\"node\"><title>19</title>\n",
       "<polygon fill=\"none\" stroke=\"black\" points=\"879.307,-171 781.23,-171 781.23,-107 879.307,-107 879.307,-171\"/>\n",
       "<text text-anchor=\"middle\" x=\"830.269\" y=\"-155.8\" font-family=\"Times,serif\" font-size=\"14.00\">gini = 0.271</text>\n",
       "<text text-anchor=\"middle\" x=\"830.269\" y=\"-141.8\" font-family=\"Times,serif\" font-size=\"14.00\">samples = 31</text>\n",
       "<text text-anchor=\"middle\" x=\"830.269\" y=\"-127.8\" font-family=\"Times,serif\" font-size=\"14.00\">value = [5, 26]</text>\n",
       "<text text-anchor=\"middle\" x=\"830.269\" y=\"-113.8\" font-family=\"Times,serif\" font-size=\"14.00\">class = SLI</text>\n",
       "</g>\n",
       "<!-- 17&#45;&gt;19 -->\n",
       "<g id=\"edge19\" class=\"edge\"><title>17&#45;&gt;19</title>\n",
       "<path fill=\"none\" stroke=\"black\" d=\"M754.523,-213.769C766.378,-202.224 779.387,-189.555 791.227,-178.023\"/>\n",
       "<polygon fill=\"black\" stroke=\"black\" points=\"793.706,-180.494 798.428,-171.01 788.822,-175.48 793.706,-180.494\"/>\n",
       "</g>\n",
       "<!-- 21 -->\n",
       "<g id=\"node22\" class=\"node\"><title>21</title>\n",
       "<polygon fill=\"none\" stroke=\"black\" points=\"956.111,-406 828.426,-406 828.426,-328 956.111,-328 956.111,-406\"/>\n",
       "<text text-anchor=\"middle\" x=\"892.269\" y=\"-390.8\" font-family=\"Times,serif\" font-size=\"14.00\">z_ndw_sli &lt;= 2.518</text>\n",
       "<text text-anchor=\"middle\" x=\"892.269\" y=\"-376.8\" font-family=\"Times,serif\" font-size=\"14.00\">gini = 0.181</text>\n",
       "<text text-anchor=\"middle\" x=\"892.269\" y=\"-362.8\" font-family=\"Times,serif\" font-size=\"14.00\">samples = 299</text>\n",
       "<text text-anchor=\"middle\" x=\"892.269\" y=\"-348.8\" font-family=\"Times,serif\" font-size=\"14.00\">value = [269, 30]</text>\n",
       "<text text-anchor=\"middle\" x=\"892.269\" y=\"-334.8\" font-family=\"Times,serif\" font-size=\"14.00\">class = TD</text>\n",
       "</g>\n",
       "<!-- 20&#45;&gt;21 -->\n",
       "<g id=\"edge21\" class=\"edge\"><title>20&#45;&gt;21</title>\n",
       "<path fill=\"none\" stroke=\"black\" d=\"M892.269,-441.769C892.269,-433.57 892.269,-424.803 892.269,-416.28\"/>\n",
       "<polygon fill=\"black\" stroke=\"black\" points=\"895.769,-416.058 892.269,-406.058 888.769,-416.059 895.769,-416.058\"/>\n",
       "</g>\n",
       "<!-- 24 -->\n",
       "<g id=\"node25\" class=\"node\"><title>24</title>\n",
       "<polygon fill=\"none\" stroke=\"black\" points=\"1173.07,-406 1039.47,-406 1039.47,-328 1173.07,-328 1173.07,-406\"/>\n",
       "<text text-anchor=\"middle\" x=\"1106.27\" y=\"-390.8\" font-family=\"Times,serif\" font-size=\"14.00\">mlu100_utts &lt;= 47.0</text>\n",
       "<text text-anchor=\"middle\" x=\"1106.27\" y=\"-376.8\" font-family=\"Times,serif\" font-size=\"14.00\">gini = 0.434</text>\n",
       "<text text-anchor=\"middle\" x=\"1106.27\" y=\"-362.8\" font-family=\"Times,serif\" font-size=\"14.00\">samples = 173</text>\n",
       "<text text-anchor=\"middle\" x=\"1106.27\" y=\"-348.8\" font-family=\"Times,serif\" font-size=\"14.00\">value = [118, 55]</text>\n",
       "<text text-anchor=\"middle\" x=\"1106.27\" y=\"-334.8\" font-family=\"Times,serif\" font-size=\"14.00\">class = TD</text>\n",
       "</g>\n",
       "<!-- 20&#45;&gt;24 -->\n",
       "<g id=\"edge24\" class=\"edge\"><title>20&#45;&gt;24</title>\n",
       "<path fill=\"none\" stroke=\"black\" d=\"M957.638,-445.788C980.636,-433.752 1006.67,-420.125 1030.46,-407.677\"/>\n",
       "<polygon fill=\"black\" stroke=\"black\" points=\"1032.21,-410.708 1039.45,-402.97 1028.97,-404.506 1032.21,-410.708\"/>\n",
       "</g>\n",
       "<!-- 22 -->\n",
       "<g id=\"node23\" class=\"node\"><title>22</title>\n",
       "<polygon fill=\"none\" stroke=\"black\" points=\"910.307,-285 798.23,-285 798.23,-221 910.307,-221 910.307,-285\"/>\n",
       "<text text-anchor=\"middle\" x=\"854.269\" y=\"-269.8\" font-family=\"Times,serif\" font-size=\"14.00\">gini = 0.15</text>\n",
       "<text text-anchor=\"middle\" x=\"854.269\" y=\"-255.8\" font-family=\"Times,serif\" font-size=\"14.00\">samples = 293</text>\n",
       "<text text-anchor=\"middle\" x=\"854.269\" y=\"-241.8\" font-family=\"Times,serif\" font-size=\"14.00\">value = [269, 24]</text>\n",
       "<text text-anchor=\"middle\" x=\"854.269\" y=\"-227.8\" font-family=\"Times,serif\" font-size=\"14.00\">class = TD</text>\n",
       "</g>\n",
       "<!-- 21&#45;&gt;22 -->\n",
       "<g id=\"edge22\" class=\"edge\"><title>21&#45;&gt;22</title>\n",
       "<path fill=\"none\" stroke=\"black\" d=\"M879.297,-327.769C875.676,-317.095 871.728,-305.461 868.061,-294.652\"/>\n",
       "<polygon fill=\"black\" stroke=\"black\" points=\"871.317,-293.355 864.79,-285.01 864.688,-295.604 871.317,-293.355\"/>\n",
       "</g>\n",
       "<!-- 23 -->\n",
       "<g id=\"node24\" class=\"node\"><title>23</title>\n",
       "<polygon fill=\"none\" stroke=\"black\" points=\"1019.81,-285 928.73,-285 928.73,-221 1019.81,-221 1019.81,-285\"/>\n",
       "<text text-anchor=\"middle\" x=\"974.269\" y=\"-269.8\" font-family=\"Times,serif\" font-size=\"14.00\">gini = 0.0</text>\n",
       "<text text-anchor=\"middle\" x=\"974.269\" y=\"-255.8\" font-family=\"Times,serif\" font-size=\"14.00\">samples = 6</text>\n",
       "<text text-anchor=\"middle\" x=\"974.269\" y=\"-241.8\" font-family=\"Times,serif\" font-size=\"14.00\">value = [0, 6]</text>\n",
       "<text text-anchor=\"middle\" x=\"974.269\" y=\"-227.8\" font-family=\"Times,serif\" font-size=\"14.00\">class = SLI</text>\n",
       "</g>\n",
       "<!-- 21&#45;&gt;23 -->\n",
       "<g id=\"edge23\" class=\"edge\"><title>21&#45;&gt;23</title>\n",
       "<path fill=\"none\" stroke=\"black\" d=\"M920.259,-327.769C928.393,-316.66 937.289,-304.509 945.471,-293.333\"/>\n",
       "<polygon fill=\"black\" stroke=\"black\" points=\"948.481,-295.146 951.565,-285.01 942.833,-291.011 948.481,-295.146\"/>\n",
       "</g>\n",
       "<!-- 25 -->\n",
       "<g id=\"node26\" class=\"node\"><title>25</title>\n",
       "<polygon fill=\"none\" stroke=\"black\" points=\"1173.85,-292 1038.69,-292 1038.69,-214 1173.85,-214 1173.85,-292\"/>\n",
       "<text text-anchor=\"middle\" x=\"1106.27\" y=\"-276.8\" font-family=\"Times,serif\" font-size=\"14.00\">age(years) &lt;= 10.875</text>\n",
       "<text text-anchor=\"middle\" x=\"1106.27\" y=\"-262.8\" font-family=\"Times,serif\" font-size=\"14.00\">gini = 0.496</text>\n",
       "<text text-anchor=\"middle\" x=\"1106.27\" y=\"-248.8\" font-family=\"Times,serif\" font-size=\"14.00\">samples = 75</text>\n",
       "<text text-anchor=\"middle\" x=\"1106.27\" y=\"-234.8\" font-family=\"Times,serif\" font-size=\"14.00\">value = [34, 41]</text>\n",
       "<text text-anchor=\"middle\" x=\"1106.27\" y=\"-220.8\" font-family=\"Times,serif\" font-size=\"14.00\">class = SLI</text>\n",
       "</g>\n",
       "<!-- 24&#45;&gt;25 -->\n",
       "<g id=\"edge25\" class=\"edge\"><title>24&#45;&gt;25</title>\n",
       "<path fill=\"none\" stroke=\"black\" d=\"M1106.27,-327.769C1106.27,-319.57 1106.27,-310.803 1106.27,-302.28\"/>\n",
       "<polygon fill=\"black\" stroke=\"black\" points=\"1109.77,-302.058 1106.27,-292.058 1102.77,-302.059 1109.77,-302.058\"/>\n",
       "</g>\n",
       "<!-- 30 -->\n",
       "<g id=\"node31\" class=\"node\"><title>30</title>\n",
       "<polygon fill=\"none\" stroke=\"black\" points=\"1297.81,-285 1192.73,-285 1192.73,-221 1297.81,-221 1297.81,-285\"/>\n",
       "<text text-anchor=\"middle\" x=\"1245.27\" y=\"-269.8\" font-family=\"Times,serif\" font-size=\"14.00\">gini = 0.245</text>\n",
       "<text text-anchor=\"middle\" x=\"1245.27\" y=\"-255.8\" font-family=\"Times,serif\" font-size=\"14.00\">samples = 98</text>\n",
       "<text text-anchor=\"middle\" x=\"1245.27\" y=\"-241.8\" font-family=\"Times,serif\" font-size=\"14.00\">value = [84, 14]</text>\n",
       "<text text-anchor=\"middle\" x=\"1245.27\" y=\"-227.8\" font-family=\"Times,serif\" font-size=\"14.00\">class = TD</text>\n",
       "</g>\n",
       "<!-- 24&#45;&gt;30 -->\n",
       "<g id=\"edge30\" class=\"edge\"><title>24&#45;&gt;30</title>\n",
       "<path fill=\"none\" stroke=\"black\" d=\"M1153.72,-327.769C1168.31,-316.006 1184.36,-303.076 1198.89,-291.371\"/>\n",
       "<polygon fill=\"black\" stroke=\"black\" points=\"1201.19,-294.01 1206.78,-285.01 1196.8,-288.559 1201.19,-294.01\"/>\n",
       "</g>\n",
       "<!-- 26 -->\n",
       "<g id=\"node27\" class=\"node\"><title>26</title>\n",
       "<polygon fill=\"none\" stroke=\"black\" points=\"1088.31,-171 990.23,-171 990.23,-107 1088.31,-107 1088.31,-171\"/>\n",
       "<text text-anchor=\"middle\" x=\"1039.27\" y=\"-155.8\" font-family=\"Times,serif\" font-size=\"14.00\">gini = 0.145</text>\n",
       "<text text-anchor=\"middle\" x=\"1039.27\" y=\"-141.8\" font-family=\"Times,serif\" font-size=\"14.00\">samples = 38</text>\n",
       "<text text-anchor=\"middle\" x=\"1039.27\" y=\"-127.8\" font-family=\"Times,serif\" font-size=\"14.00\">value = [3, 35]</text>\n",
       "<text text-anchor=\"middle\" x=\"1039.27\" y=\"-113.8\" font-family=\"Times,serif\" font-size=\"14.00\">class = SLI</text>\n",
       "</g>\n",
       "<!-- 25&#45;&gt;26 -->\n",
       "<g id=\"edge26\" class=\"edge\"><title>25&#45;&gt;26</title>\n",
       "<path fill=\"none\" stroke=\"black\" d=\"M1083.4,-213.769C1076.82,-202.769 1069.63,-190.747 1062.99,-179.662\"/>\n",
       "<polygon fill=\"black\" stroke=\"black\" points=\"1065.96,-177.795 1057.82,-171.01 1059.95,-181.389 1065.96,-177.795\"/>\n",
       "</g>\n",
       "<!-- 27 -->\n",
       "<g id=\"node28\" class=\"node\"><title>27</title>\n",
       "<polygon fill=\"none\" stroke=\"black\" points=\"1242.66,-178 1105.87,-178 1105.87,-100 1242.66,-100 1242.66,-178\"/>\n",
       "<text text-anchor=\"middle\" x=\"1174.27\" y=\"-162.8\" font-family=\"Times,serif\" font-size=\"14.00\">z_ipsyn_td &lt;= &#45;1.394</text>\n",
       "<text text-anchor=\"middle\" x=\"1174.27\" y=\"-148.8\" font-family=\"Times,serif\" font-size=\"14.00\">gini = 0.272</text>\n",
       "<text text-anchor=\"middle\" x=\"1174.27\" y=\"-134.8\" font-family=\"Times,serif\" font-size=\"14.00\">samples = 37</text>\n",
       "<text text-anchor=\"middle\" x=\"1174.27\" y=\"-120.8\" font-family=\"Times,serif\" font-size=\"14.00\">value = [31, 6]</text>\n",
       "<text text-anchor=\"middle\" x=\"1174.27\" y=\"-106.8\" font-family=\"Times,serif\" font-size=\"14.00\">class = TD</text>\n",
       "</g>\n",
       "<!-- 25&#45;&gt;27 -->\n",
       "<g id=\"edge27\" class=\"edge\"><title>25&#45;&gt;27</title>\n",
       "<path fill=\"none\" stroke=\"black\" d=\"M1129.48,-213.769C1134.73,-205.119 1140.37,-195.838 1145.81,-186.877\"/>\n",
       "<polygon fill=\"black\" stroke=\"black\" points=\"1148.96,-188.423 1151.16,-178.058 1142.98,-184.79 1148.96,-188.423\"/>\n",
       "</g>\n",
       "<!-- 28 -->\n",
       "<g id=\"node29\" class=\"node\"><title>28</title>\n",
       "<polygon fill=\"none\" stroke=\"black\" points=\"1162.81,-64 1071.73,-64 1071.73,-0 1162.81,-0 1162.81,-64\"/>\n",
       "<text text-anchor=\"middle\" x=\"1117.27\" y=\"-48.8\" font-family=\"Times,serif\" font-size=\"14.00\">gini = 0.0</text>\n",
       "<text text-anchor=\"middle\" x=\"1117.27\" y=\"-34.8\" font-family=\"Times,serif\" font-size=\"14.00\">samples = 3</text>\n",
       "<text text-anchor=\"middle\" x=\"1117.27\" y=\"-20.8\" font-family=\"Times,serif\" font-size=\"14.00\">value = [0, 3]</text>\n",
       "<text text-anchor=\"middle\" x=\"1117.27\" y=\"-6.8\" font-family=\"Times,serif\" font-size=\"14.00\">class = SLI</text>\n",
       "</g>\n",
       "<!-- 27&#45;&gt;28 -->\n",
       "<g id=\"edge28\" class=\"edge\"><title>27&#45;&gt;28</title>\n",
       "<path fill=\"none\" stroke=\"black\" d=\"M1153.53,-99.7956C1148.8,-91.0916 1143.77,-81.8203 1139.01,-73.042\"/>\n",
       "<polygon fill=\"black\" stroke=\"black\" points=\"1142.01,-71.2359 1134.16,-64.1172 1135.86,-74.5756 1142.01,-71.2359\"/>\n",
       "</g>\n",
       "<!-- 29 -->\n",
       "<g id=\"node30\" class=\"node\"><title>29</title>\n",
       "<polygon fill=\"none\" stroke=\"black\" points=\"1279.31,-64 1181.23,-64 1181.23,-0 1279.31,-0 1279.31,-64\"/>\n",
       "<text text-anchor=\"middle\" x=\"1230.27\" y=\"-48.8\" font-family=\"Times,serif\" font-size=\"14.00\">gini = 0.161</text>\n",
       "<text text-anchor=\"middle\" x=\"1230.27\" y=\"-34.8\" font-family=\"Times,serif\" font-size=\"14.00\">samples = 34</text>\n",
       "<text text-anchor=\"middle\" x=\"1230.27\" y=\"-20.8\" font-family=\"Times,serif\" font-size=\"14.00\">value = [31, 3]</text>\n",
       "<text text-anchor=\"middle\" x=\"1230.27\" y=\"-6.8\" font-family=\"Times,serif\" font-size=\"14.00\">class = TD</text>\n",
       "</g>\n",
       "<!-- 27&#45;&gt;29 -->\n",
       "<g id=\"edge29\" class=\"edge\"><title>27&#45;&gt;29</title>\n",
       "<path fill=\"none\" stroke=\"black\" d=\"M1194.64,-99.7956C1199.29,-91.0916 1204.23,-81.8203 1208.91,-73.042\"/>\n",
       "<polygon fill=\"black\" stroke=\"black\" points=\"1212.06,-74.5878 1213.67,-64.1172 1205.88,-71.2936 1212.06,-74.5878\"/>\n",
       "</g>\n",
       "</g>\n",
       "</svg>\n"
      ],
      "text/plain": [
       "<graphviz.files.Source at 0x110e9de48>"
      ]
     },
     "execution_count": 17,
     "metadata": {},
     "output_type": "execute_result"
    }
   ],
   "source": [
    "clfd = tree.DecisionTreeClassifier(max_depth=6, min_impurity_decrease=0.005)\n",
    "clfd = clfd.fit(train_x,train_y)\n",
    "Source(tree.export_graphviz(clfd, out_file=None,feature_names =list(df), class_names=[\"TD\",\"SLI\"]))"
   ]
  },
  {
   "cell_type": "markdown",
   "metadata": {},
   "source": [
    "### Results Part 1\n",
    "Of the features selected in the decision tree, only 3 features, (verb_utt, z_mlu_sli, and z_ipsyn_td) appear in either of the top 10 weighted features found with LR using L1/L2 Regularization. The most commonly used feature in the decision tree, 'age' (used in 5 nodes in the tree) did not appear in either LR feature list. \n",
    "The results of the decision tree show that the specified depth of the may be causing overfitting, as many of the leaves contain a very refinied distriction between each class. "
   ]
  },
  {
   "cell_type": "code",
   "execution_count": 18,
   "metadata": {
    "collapsed": true
   },
   "outputs": [],
   "source": [
    "z_scaler = StandardScaler()\n",
    "train_x_z = z_scaler.fit_transform(train_x)\n",
    "test_x_z = z_scaler.fit_transform(test_x)"
   ]
  },
  {
   "cell_type": "code",
   "execution_count": 19,
   "metadata": {
    "collapsed": true
   },
   "outputs": [],
   "source": [
    "clf2_z = clf2.fit(train_x_z,train_y)"
   ]
  },
  {
   "cell_type": "code",
   "execution_count": 20,
   "metadata": {},
   "outputs": [
    {
     "name": "stdout",
     "output_type": "stream",
     "text": [
      "Top 10 Features w/ L2:\n",
      "1 s_1g_ppl\n",
      "2 z_mlu_sli\n",
      "3 n_3s_v\n",
      "4 child_TNW\n",
      "5 uncontractible_copula\n",
      "6 mlu_words\n",
      "7 f_k\n",
      "8 d_1g_ppl\n",
      "9 z_mlu_td\n",
      "10 d_2g_ppl\n"
     ]
    }
   ],
   "source": [
    "sort = [None]*10\n",
    "for i, value in enumerate(np.argsort(abs(clf2.coef_[0]))):\n",
    "    if (value <= 9):\n",
    "        sort[value] = i\n",
    "\n",
    "print(\"Top 10 Features w/ L2:\")\n",
    "n = 1\n",
    "for i in sort:\n",
    "    print(n, list(df)[i])\n",
    "    n += 1"
   ]
  },
  {
   "cell_type": "code",
   "execution_count": 21,
   "metadata": {
    "collapsed": true
   },
   "outputs": [],
   "source": [
    "clf1_z = clf1.fit(train_x_z,train_y)"
   ]
  },
  {
   "cell_type": "code",
   "execution_count": 22,
   "metadata": {},
   "outputs": [
    {
     "name": "stdout",
     "output_type": "stream",
     "text": [
      "Top 10 Features w/ L1:\n",
      "1 z_ndw_sli\n",
      "2 mlu100_utts\n",
      "3 det_pl_n\n",
      "4 retracing\n",
      "5 regular_3rd_person_s\n",
      "6 dss\n",
      "7 pro_aux\n",
      "8 n_dos\n",
      "9 z_ipsyn_sli\n",
      "10 z_utts_td\n"
     ]
    }
   ],
   "source": [
    "sort = [None]*10\n",
    "for i, value in enumerate(np.argsort(abs(clf1.coef_)[0])):\n",
    "    if value <= 9:\n",
    "        sort[value] = i\n",
    "\n",
    "print(\"Top 10 Features w/ L1:\")\n",
    "n = 1\n",
    "for i in sort:\n",
    "    print(n, list(df)[i])\n",
    "    n += 1"
   ]
  },
  {
   "cell_type": "code",
   "execution_count": 23,
   "metadata": {},
   "outputs": [
    {
     "data": {
      "image/svg+xml": [
       "<?xml version=\"1.0\" encoding=\"UTF-8\" standalone=\"no\"?>\n",
       "<!DOCTYPE svg PUBLIC \"-//W3C//DTD SVG 1.1//EN\"\n",
       " \"http://www.w3.org/Graphics/SVG/1.1/DTD/svg11.dtd\">\n",
       "<!-- Generated by graphviz version 2.38.0 (20140413.2041)\n",
       " -->\n",
       "<!-- Title: Tree Pages: 1 -->\n",
       "<svg width=\"1273pt\" height=\"642pt\"\n",
       " viewBox=\"0.00 0.00 1273.04 642.00\" xmlns=\"http://www.w3.org/2000/svg\" xmlns:xlink=\"http://www.w3.org/1999/xlink\">\n",
       "<g id=\"graph0\" class=\"graph\" transform=\"scale(1 1) rotate(0) translate(4 638)\">\n",
       "<title>Tree</title>\n",
       "<polygon fill=\"white\" stroke=\"none\" points=\"-4,4 -4,-638 1269.04,-638 1269.04,4 -4,4\"/>\n",
       "<!-- 0 -->\n",
       "<g id=\"node1\" class=\"node\"><title>0</title>\n",
       "<polygon fill=\"none\" stroke=\"black\" points=\"823.442,-634 693.095,-634 693.095,-556 823.442,-556 823.442,-634\"/>\n",
       "<text text-anchor=\"middle\" x=\"758.269\" y=\"-618.8\" font-family=\"Times,serif\" font-size=\"14.00\">z_mlu_sli &lt;= &#45;0.296</text>\n",
       "<text text-anchor=\"middle\" x=\"758.269\" y=\"-604.8\" font-family=\"Times,serif\" font-size=\"14.00\">gini = 0.451</text>\n",
       "<text text-anchor=\"middle\" x=\"758.269\" y=\"-590.8\" font-family=\"Times,serif\" font-size=\"14.00\">samples = 779</text>\n",
       "<text text-anchor=\"middle\" x=\"758.269\" y=\"-576.8\" font-family=\"Times,serif\" font-size=\"14.00\">value = [512, 267]</text>\n",
       "<text text-anchor=\"middle\" x=\"758.269\" y=\"-562.8\" font-family=\"Times,serif\" font-size=\"14.00\">class = TD</text>\n",
       "</g>\n",
       "<!-- 1 -->\n",
       "<g id=\"node2\" class=\"node\"><title>1</title>\n",
       "<polygon fill=\"none\" stroke=\"black\" points=\"711.807,-520 592.731,-520 592.731,-442 711.807,-442 711.807,-520\"/>\n",
       "<text text-anchor=\"middle\" x=\"652.269\" y=\"-504.8\" font-family=\"Times,serif\" font-size=\"14.00\">articles &lt;= &#45;0.397</text>\n",
       "<text text-anchor=\"middle\" x=\"652.269\" y=\"-490.8\" font-family=\"Times,serif\" font-size=\"14.00\">gini = 0.483</text>\n",
       "<text text-anchor=\"middle\" x=\"652.269\" y=\"-476.8\" font-family=\"Times,serif\" font-size=\"14.00\">samples = 307</text>\n",
       "<text text-anchor=\"middle\" x=\"652.269\" y=\"-462.8\" font-family=\"Times,serif\" font-size=\"14.00\">value = [125, 182]</text>\n",
       "<text text-anchor=\"middle\" x=\"652.269\" y=\"-448.8\" font-family=\"Times,serif\" font-size=\"14.00\">class = SLI</text>\n",
       "</g>\n",
       "<!-- 0&#45;&gt;1 -->\n",
       "<g id=\"edge1\" class=\"edge\"><title>0&#45;&gt;1</title>\n",
       "<path fill=\"none\" stroke=\"black\" d=\"M722.086,-555.769C713.473,-546.669 704.199,-536.87 695.312,-527.48\"/>\n",
       "<polygon fill=\"black\" stroke=\"black\" points=\"697.704,-524.916 688.288,-520.058 692.62,-529.727 697.704,-524.916\"/>\n",
       "<text text-anchor=\"middle\" x=\"687.6\" y=\"-540.849\" font-family=\"Times,serif\" font-size=\"14.00\">True</text>\n",
       "</g>\n",
       "<!-- 20 -->\n",
       "<g id=\"node21\" class=\"node\"><title>20</title>\n",
       "<polygon fill=\"none\" stroke=\"black\" points=\"925.949,-520 802.588,-520 802.588,-442 925.949,-442 925.949,-520\"/>\n",
       "<text text-anchor=\"middle\" x=\"864.269\" y=\"-504.8\" font-family=\"Times,serif\" font-size=\"14.00\">d_1g_ppl &lt;= 0.227</text>\n",
       "<text text-anchor=\"middle\" x=\"864.269\" y=\"-490.8\" font-family=\"Times,serif\" font-size=\"14.00\">gini = 0.295</text>\n",
       "<text text-anchor=\"middle\" x=\"864.269\" y=\"-476.8\" font-family=\"Times,serif\" font-size=\"14.00\">samples = 472</text>\n",
       "<text text-anchor=\"middle\" x=\"864.269\" y=\"-462.8\" font-family=\"Times,serif\" font-size=\"14.00\">value = [387, 85]</text>\n",
       "<text text-anchor=\"middle\" x=\"864.269\" y=\"-448.8\" font-family=\"Times,serif\" font-size=\"14.00\">class = TD</text>\n",
       "</g>\n",
       "<!-- 0&#45;&gt;20 -->\n",
       "<g id=\"edge20\" class=\"edge\"><title>0&#45;&gt;20</title>\n",
       "<path fill=\"none\" stroke=\"black\" d=\"M794.451,-555.769C803.064,-546.669 812.338,-536.87 821.225,-527.48\"/>\n",
       "<polygon fill=\"black\" stroke=\"black\" points=\"823.917,-529.727 828.249,-520.058 818.833,-524.916 823.917,-529.727\"/>\n",
       "<text text-anchor=\"middle\" x=\"828.937\" y=\"-540.849\" font-family=\"Times,serif\" font-size=\"14.00\">False</text>\n",
       "</g>\n",
       "<!-- 2 -->\n",
       "<g id=\"node3\" class=\"node\"><title>2</title>\n",
       "<polygon fill=\"none\" stroke=\"black\" points=\"471.35,-406 343.187,-406 343.187,-328 471.35,-328 471.35,-406\"/>\n",
       "<text text-anchor=\"middle\" x=\"407.269\" y=\"-390.8\" font-family=\"Times,serif\" font-size=\"14.00\">age(years) &lt;= 0.461</text>\n",
       "<text text-anchor=\"middle\" x=\"407.269\" y=\"-376.8\" font-family=\"Times,serif\" font-size=\"14.00\">gini = 0.176</text>\n",
       "<text text-anchor=\"middle\" x=\"407.269\" y=\"-362.8\" font-family=\"Times,serif\" font-size=\"14.00\">samples = 144</text>\n",
       "<text text-anchor=\"middle\" x=\"407.269\" y=\"-348.8\" font-family=\"Times,serif\" font-size=\"14.00\">value = [14, 130]</text>\n",
       "<text text-anchor=\"middle\" x=\"407.269\" y=\"-334.8\" font-family=\"Times,serif\" font-size=\"14.00\">class = SLI</text>\n",
       "</g>\n",
       "<!-- 1&#45;&gt;2 -->\n",
       "<g id=\"edge2\" class=\"edge\"><title>1&#45;&gt;2</title>\n",
       "<path fill=\"none\" stroke=\"black\" d=\"M592.648,-452.745C558.972,-437.35 516.598,-417.979 480.866,-401.644\"/>\n",
       "<polygon fill=\"black\" stroke=\"black\" points=\"482.006,-398.317 471.456,-397.343 479.096,-404.684 482.006,-398.317\"/>\n",
       "</g>\n",
       "<!-- 9 -->\n",
       "<g id=\"node10\" class=\"node\"><title>9</title>\n",
       "<polygon fill=\"none\" stroke=\"black\" points=\"719.339,-406 585.198,-406 585.198,-328 719.339,-328 719.339,-406\"/>\n",
       "<text text-anchor=\"middle\" x=\"652.269\" y=\"-390.8\" font-family=\"Times,serif\" font-size=\"14.00\">z_ipsyn_sli &lt;= 0.018</text>\n",
       "<text text-anchor=\"middle\" x=\"652.269\" y=\"-376.8\" font-family=\"Times,serif\" font-size=\"14.00\">gini = 0.434</text>\n",
       "<text text-anchor=\"middle\" x=\"652.269\" y=\"-362.8\" font-family=\"Times,serif\" font-size=\"14.00\">samples = 163</text>\n",
       "<text text-anchor=\"middle\" x=\"652.269\" y=\"-348.8\" font-family=\"Times,serif\" font-size=\"14.00\">value = [111, 52]</text>\n",
       "<text text-anchor=\"middle\" x=\"652.269\" y=\"-334.8\" font-family=\"Times,serif\" font-size=\"14.00\">class = TD</text>\n",
       "</g>\n",
       "<!-- 1&#45;&gt;9 -->\n",
       "<g id=\"edge9\" class=\"edge\"><title>1&#45;&gt;9</title>\n",
       "<path fill=\"none\" stroke=\"black\" d=\"M652.269,-441.769C652.269,-433.57 652.269,-424.803 652.269,-416.28\"/>\n",
       "<polygon fill=\"black\" stroke=\"black\" points=\"655.769,-416.058 652.269,-406.058 648.769,-416.059 655.769,-416.058\"/>\n",
       "</g>\n",
       "<!-- 3 -->\n",
       "<g id=\"node4\" class=\"node\"><title>3</title>\n",
       "<polygon fill=\"none\" stroke=\"black\" points=\"344.012,-292 210.525,-292 210.525,-214 344.012,-214 344.012,-292\"/>\n",
       "<text text-anchor=\"middle\" x=\"277.269\" y=\"-276.8\" font-family=\"Times,serif\" font-size=\"14.00\">age(years) &lt;= &#45;0.963</text>\n",
       "<text text-anchor=\"middle\" x=\"277.269\" y=\"-262.8\" font-family=\"Times,serif\" font-size=\"14.00\">gini = 0.113</text>\n",
       "<text text-anchor=\"middle\" x=\"277.269\" y=\"-248.8\" font-family=\"Times,serif\" font-size=\"14.00\">samples = 133</text>\n",
       "<text text-anchor=\"middle\" x=\"277.269\" y=\"-234.8\" font-family=\"Times,serif\" font-size=\"14.00\">value = [8, 125]</text>\n",
       "<text text-anchor=\"middle\" x=\"277.269\" y=\"-220.8\" font-family=\"Times,serif\" font-size=\"14.00\">class = SLI</text>\n",
       "</g>\n",
       "<!-- 2&#45;&gt;3 -->\n",
       "<g id=\"edge3\" class=\"edge\"><title>2&#45;&gt;3</title>\n",
       "<path fill=\"none\" stroke=\"black\" d=\"M362.894,-327.769C352.017,-318.398 340.28,-308.287 329.088,-298.644\"/>\n",
       "<polygon fill=\"black\" stroke=\"black\" points=\"331.304,-295.934 321.444,-292.058 326.735,-301.237 331.304,-295.934\"/>\n",
       "</g>\n",
       "<!-- 8 -->\n",
       "<g id=\"node9\" class=\"node\"><title>8</title>\n",
       "<polygon fill=\"none\" stroke=\"black\" points=\"452.807,-285 361.73,-285 361.73,-221 452.807,-221 452.807,-285\"/>\n",
       "<text text-anchor=\"middle\" x=\"407.269\" y=\"-269.8\" font-family=\"Times,serif\" font-size=\"14.00\">gini = 0.496</text>\n",
       "<text text-anchor=\"middle\" x=\"407.269\" y=\"-255.8\" font-family=\"Times,serif\" font-size=\"14.00\">samples = 11</text>\n",
       "<text text-anchor=\"middle\" x=\"407.269\" y=\"-241.8\" font-family=\"Times,serif\" font-size=\"14.00\">value = [6, 5]</text>\n",
       "<text text-anchor=\"middle\" x=\"407.269\" y=\"-227.8\" font-family=\"Times,serif\" font-size=\"14.00\">class = TD</text>\n",
       "</g>\n",
       "<!-- 2&#45;&gt;8 -->\n",
       "<g id=\"edge8\" class=\"edge\"><title>2&#45;&gt;8</title>\n",
       "<path fill=\"none\" stroke=\"black\" d=\"M407.269,-327.769C407.269,-317.313 407.269,-305.935 407.269,-295.315\"/>\n",
       "<polygon fill=\"black\" stroke=\"black\" points=\"410.769,-295.01 407.269,-285.01 403.769,-295.01 410.769,-295.01\"/>\n",
       "</g>\n",
       "<!-- 4 -->\n",
       "<g id=\"node5\" class=\"node\"><title>4</title>\n",
       "<polygon fill=\"none\" stroke=\"black\" points=\"207.832,-178 80.7051,-178 80.7051,-100 207.832,-100 207.832,-178\"/>\n",
       "<text text-anchor=\"middle\" x=\"144.269\" y=\"-162.8\" font-family=\"Times,serif\" font-size=\"14.00\">pro_3s_v &lt;= &#45;0.428</text>\n",
       "<text text-anchor=\"middle\" x=\"144.269\" y=\"-148.8\" font-family=\"Times,serif\" font-size=\"14.00\">gini = 0.463</text>\n",
       "<text text-anchor=\"middle\" x=\"144.269\" y=\"-134.8\" font-family=\"Times,serif\" font-size=\"14.00\">samples = 22</text>\n",
       "<text text-anchor=\"middle\" x=\"144.269\" y=\"-120.8\" font-family=\"Times,serif\" font-size=\"14.00\">value = [8, 14]</text>\n",
       "<text text-anchor=\"middle\" x=\"144.269\" y=\"-106.8\" font-family=\"Times,serif\" font-size=\"14.00\">class = SLI</text>\n",
       "</g>\n",
       "<!-- 3&#45;&gt;4 -->\n",
       "<g id=\"edge4\" class=\"edge\"><title>3&#45;&gt;4</title>\n",
       "<path fill=\"none\" stroke=\"black\" d=\"M231.869,-213.769C220.742,-204.398 208.734,-194.287 197.284,-184.644\"/>\n",
       "<polygon fill=\"black\" stroke=\"black\" points=\"199.367,-181.823 189.463,-178.058 194.858,-187.177 199.367,-181.823\"/>\n",
       "</g>\n",
       "<!-- 7 -->\n",
       "<g id=\"node8\" class=\"node\"><title>7</title>\n",
       "<polygon fill=\"none\" stroke=\"black\" points=\"330.281,-171 226.256,-171 226.256,-107 330.281,-107 330.281,-171\"/>\n",
       "<text text-anchor=\"middle\" x=\"278.269\" y=\"-155.8\" font-family=\"Times,serif\" font-size=\"14.00\">gini = 0.0</text>\n",
       "<text text-anchor=\"middle\" x=\"278.269\" y=\"-141.8\" font-family=\"Times,serif\" font-size=\"14.00\">samples = 111</text>\n",
       "<text text-anchor=\"middle\" x=\"278.269\" y=\"-127.8\" font-family=\"Times,serif\" font-size=\"14.00\">value = [0, 111]</text>\n",
       "<text text-anchor=\"middle\" x=\"278.269\" y=\"-113.8\" font-family=\"Times,serif\" font-size=\"14.00\">class = SLI</text>\n",
       "</g>\n",
       "<!-- 3&#45;&gt;7 -->\n",
       "<g id=\"edge7\" class=\"edge\"><title>3&#45;&gt;7</title>\n",
       "<path fill=\"none\" stroke=\"black\" d=\"M277.61,-213.769C277.703,-203.313 277.805,-191.935 277.9,-181.315\"/>\n",
       "<polygon fill=\"black\" stroke=\"black\" points=\"281.402,-181.041 277.992,-171.01 274.402,-180.978 281.402,-181.041\"/>\n",
       "</g>\n",
       "<!-- 5 -->\n",
       "<g id=\"node6\" class=\"node\"><title>5</title>\n",
       "<polygon fill=\"none\" stroke=\"black\" points=\"98.3067,-64 0.230363,-64 0.230363,-0 98.3067,-0 98.3067,-64\"/>\n",
       "<text text-anchor=\"middle\" x=\"49.2686\" y=\"-48.8\" font-family=\"Times,serif\" font-size=\"14.00\">gini = 0.291</text>\n",
       "<text text-anchor=\"middle\" x=\"49.2686\" y=\"-34.8\" font-family=\"Times,serif\" font-size=\"14.00\">samples = 17</text>\n",
       "<text text-anchor=\"middle\" x=\"49.2686\" y=\"-20.8\" font-family=\"Times,serif\" font-size=\"14.00\">value = [3, 14]</text>\n",
       "<text text-anchor=\"middle\" x=\"49.2686\" y=\"-6.8\" font-family=\"Times,serif\" font-size=\"14.00\">class = SLI</text>\n",
       "</g>\n",
       "<!-- 4&#45;&gt;5 -->\n",
       "<g id=\"edge5\" class=\"edge\"><title>4&#45;&gt;5</title>\n",
       "<path fill=\"none\" stroke=\"black\" d=\"M109.703,-99.7956C101.413,-90.6335 92.5549,-80.8428 84.2469,-71.6603\"/>\n",
       "<polygon fill=\"black\" stroke=\"black\" points=\"86.7267,-69.1843 77.4222,-64.1172 81.536,-73.8808 86.7267,-69.1843\"/>\n",
       "</g>\n",
       "<!-- 6 -->\n",
       "<g id=\"node7\" class=\"node\"><title>6</title>\n",
       "<polygon fill=\"none\" stroke=\"black\" points=\"207.807,-64 116.73,-64 116.73,-0 207.807,-0 207.807,-64\"/>\n",
       "<text text-anchor=\"middle\" x=\"162.269\" y=\"-48.8\" font-family=\"Times,serif\" font-size=\"14.00\">gini = 0.0</text>\n",
       "<text text-anchor=\"middle\" x=\"162.269\" y=\"-34.8\" font-family=\"Times,serif\" font-size=\"14.00\">samples = 5</text>\n",
       "<text text-anchor=\"middle\" x=\"162.269\" y=\"-20.8\" font-family=\"Times,serif\" font-size=\"14.00\">value = [5, 0]</text>\n",
       "<text text-anchor=\"middle\" x=\"162.269\" y=\"-6.8\" font-family=\"Times,serif\" font-size=\"14.00\">class = TD</text>\n",
       "</g>\n",
       "<!-- 4&#45;&gt;6 -->\n",
       "<g id=\"edge6\" class=\"edge\"><title>4&#45;&gt;6</title>\n",
       "<path fill=\"none\" stroke=\"black\" d=\"M150.818,-99.7956C152.247,-91.4581 153.766,-82.6 155.214,-74.1534\"/>\n",
       "<polygon fill=\"black\" stroke=\"black\" points=\"158.694,-74.5648 156.934,-64.1172 151.795,-73.382 158.694,-74.5648\"/>\n",
       "</g>\n",
       "<!-- 10 -->\n",
       "<g id=\"node11\" class=\"node\"><title>10</title>\n",
       "<polygon fill=\"none\" stroke=\"black\" points=\"603.499,-292 471.038,-292 471.038,-214 603.499,-214 603.499,-292\"/>\n",
       "<text text-anchor=\"middle\" x=\"537.269\" y=\"-276.8\" font-family=\"Times,serif\" font-size=\"14.00\">age(years) &lt;= &#45;0.114</text>\n",
       "<text text-anchor=\"middle\" x=\"537.269\" y=\"-262.8\" font-family=\"Times,serif\" font-size=\"14.00\">gini = 0.314</text>\n",
       "<text text-anchor=\"middle\" x=\"537.269\" y=\"-248.8\" font-family=\"Times,serif\" font-size=\"14.00\">samples = 123</text>\n",
       "<text text-anchor=\"middle\" x=\"537.269\" y=\"-234.8\" font-family=\"Times,serif\" font-size=\"14.00\">value = [99, 24]</text>\n",
       "<text text-anchor=\"middle\" x=\"537.269\" y=\"-220.8\" font-family=\"Times,serif\" font-size=\"14.00\">class = TD</text>\n",
       "</g>\n",
       "<!-- 9&#45;&gt;10 -->\n",
       "<g id=\"edge10\" class=\"edge\"><title>9&#45;&gt;10</title>\n",
       "<path fill=\"none\" stroke=\"black\" d=\"M613.014,-327.769C603.577,-318.579 593.409,-308.676 583.68,-299.201\"/>\n",
       "<polygon fill=\"black\" stroke=\"black\" points=\"585.952,-296.528 576.346,-292.058 581.068,-301.543 585.952,-296.528\"/>\n",
       "</g>\n",
       "<!-- 17 -->\n",
       "<g id=\"node18\" class=\"node\"><title>17</title>\n",
       "<polygon fill=\"none\" stroke=\"black\" points=\"755.012,-292 621.525,-292 621.525,-214 755.012,-214 755.012,-292\"/>\n",
       "<text text-anchor=\"middle\" x=\"688.269\" y=\"-276.8\" font-family=\"Times,serif\" font-size=\"14.00\">age(years) &lt;= &#45;1.374</text>\n",
       "<text text-anchor=\"middle\" x=\"688.269\" y=\"-262.8\" font-family=\"Times,serif\" font-size=\"14.00\">gini = 0.42</text>\n",
       "<text text-anchor=\"middle\" x=\"688.269\" y=\"-248.8\" font-family=\"Times,serif\" font-size=\"14.00\">samples = 40</text>\n",
       "<text text-anchor=\"middle\" x=\"688.269\" y=\"-234.8\" font-family=\"Times,serif\" font-size=\"14.00\">value = [12, 28]</text>\n",
       "<text text-anchor=\"middle\" x=\"688.269\" y=\"-220.8\" font-family=\"Times,serif\" font-size=\"14.00\">class = SLI</text>\n",
       "</g>\n",
       "<!-- 9&#45;&gt;17 -->\n",
       "<g id=\"edge17\" class=\"edge\"><title>9&#45;&gt;17</title>\n",
       "<path fill=\"none\" stroke=\"black\" d=\"M664.557,-327.769C667.251,-319.389 670.134,-310.418 672.931,-301.718\"/>\n",
       "<polygon fill=\"black\" stroke=\"black\" points=\"676.307,-302.65 676.035,-292.058 669.643,-300.508 676.307,-302.65\"/>\n",
       "</g>\n",
       "<!-- 11 -->\n",
       "<g id=\"node12\" class=\"node\"><title>11</title>\n",
       "<polygon fill=\"none\" stroke=\"black\" points=\"469.878,-178 348.66,-178 348.66,-100 469.878,-100 469.878,-178\"/>\n",
       "<text text-anchor=\"middle\" x=\"409.269\" y=\"-162.8\" font-family=\"Times,serif\" font-size=\"14.00\">verb_utt &lt;= &#45;1.065</text>\n",
       "<text text-anchor=\"middle\" x=\"409.269\" y=\"-148.8\" font-family=\"Times,serif\" font-size=\"14.00\">gini = 0.209</text>\n",
       "<text text-anchor=\"middle\" x=\"409.269\" y=\"-134.8\" font-family=\"Times,serif\" font-size=\"14.00\">samples = 101</text>\n",
       "<text text-anchor=\"middle\" x=\"409.269\" y=\"-120.8\" font-family=\"Times,serif\" font-size=\"14.00\">value = [89, 12]</text>\n",
       "<text text-anchor=\"middle\" x=\"409.269\" y=\"-106.8\" font-family=\"Times,serif\" font-size=\"14.00\">class = TD</text>\n",
       "</g>\n",
       "<!-- 10&#45;&gt;11 -->\n",
       "<g id=\"edge11\" class=\"edge\"><title>10&#45;&gt;11</title>\n",
       "<path fill=\"none\" stroke=\"black\" d=\"M493.576,-213.769C482.867,-204.398 471.311,-194.287 460.291,-184.644\"/>\n",
       "<polygon fill=\"black\" stroke=\"black\" points=\"462.595,-182.01 452.764,-178.058 457.985,-187.278 462.595,-182.01\"/>\n",
       "</g>\n",
       "<!-- 14 -->\n",
       "<g id=\"node15\" class=\"node\"><title>14</title>\n",
       "<polygon fill=\"none\" stroke=\"black\" points=\"624.915,-178 487.622,-178 487.622,-100 624.915,-100 624.915,-178\"/>\n",
       "<text text-anchor=\"middle\" x=\"556.269\" y=\"-162.8\" font-family=\"Times,serif\" font-size=\"14.00\">average_syl &lt;= 0.654</text>\n",
       "<text text-anchor=\"middle\" x=\"556.269\" y=\"-148.8\" font-family=\"Times,serif\" font-size=\"14.00\">gini = 0.496</text>\n",
       "<text text-anchor=\"middle\" x=\"556.269\" y=\"-134.8\" font-family=\"Times,serif\" font-size=\"14.00\">samples = 22</text>\n",
       "<text text-anchor=\"middle\" x=\"556.269\" y=\"-120.8\" font-family=\"Times,serif\" font-size=\"14.00\">value = [10, 12]</text>\n",
       "<text text-anchor=\"middle\" x=\"556.269\" y=\"-106.8\" font-family=\"Times,serif\" font-size=\"14.00\">class = SLI</text>\n",
       "</g>\n",
       "<!-- 10&#45;&gt;14 -->\n",
       "<g id=\"edge14\" class=\"edge\"><title>10&#45;&gt;14</title>\n",
       "<path fill=\"none\" stroke=\"black\" d=\"M543.754,-213.769C545.16,-205.48 546.665,-196.61 548.126,-187.999\"/>\n",
       "<polygon fill=\"black\" stroke=\"black\" points=\"551.59,-188.503 549.812,-178.058 544.689,-187.332 551.59,-188.503\"/>\n",
       "</g>\n",
       "<!-- 12 -->\n",
       "<g id=\"node13\" class=\"node\"><title>12</title>\n",
       "<polygon fill=\"none\" stroke=\"black\" points=\"349.307,-64 251.23,-64 251.23,-0 349.307,-0 349.307,-64\"/>\n",
       "<text text-anchor=\"middle\" x=\"300.269\" y=\"-48.8\" font-family=\"Times,serif\" font-size=\"14.00\">gini = 0.499</text>\n",
       "<text text-anchor=\"middle\" x=\"300.269\" y=\"-34.8\" font-family=\"Times,serif\" font-size=\"14.00\">samples = 19</text>\n",
       "<text text-anchor=\"middle\" x=\"300.269\" y=\"-20.8\" font-family=\"Times,serif\" font-size=\"14.00\">value = [9, 10]</text>\n",
       "<text text-anchor=\"middle\" x=\"300.269\" y=\"-6.8\" font-family=\"Times,serif\" font-size=\"14.00\">class = SLI</text>\n",
       "</g>\n",
       "<!-- 11&#45;&gt;12 -->\n",
       "<g id=\"edge12\" class=\"edge\"><title>11&#45;&gt;12</title>\n",
       "<path fill=\"none\" stroke=\"black\" d=\"M369.609,-99.7956C359.907,-90.4503 349.527,-80.4509 339.83,-71.11\"/>\n",
       "<polygon fill=\"black\" stroke=\"black\" points=\"342.201,-68.5342 332.571,-64.1172 337.345,-73.5756 342.201,-68.5342\"/>\n",
       "</g>\n",
       "<!-- 13 -->\n",
       "<g id=\"node14\" class=\"node\"><title>13</title>\n",
       "<polygon fill=\"none\" stroke=\"black\" points=\"466.307,-64 368.23,-64 368.23,-0 466.307,-0 466.307,-64\"/>\n",
       "<text text-anchor=\"middle\" x=\"417.269\" y=\"-48.8\" font-family=\"Times,serif\" font-size=\"14.00\">gini = 0.048</text>\n",
       "<text text-anchor=\"middle\" x=\"417.269\" y=\"-34.8\" font-family=\"Times,serif\" font-size=\"14.00\">samples = 82</text>\n",
       "<text text-anchor=\"middle\" x=\"417.269\" y=\"-20.8\" font-family=\"Times,serif\" font-size=\"14.00\">value = [80, 2]</text>\n",
       "<text text-anchor=\"middle\" x=\"417.269\" y=\"-6.8\" font-family=\"Times,serif\" font-size=\"14.00\">class = TD</text>\n",
       "</g>\n",
       "<!-- 11&#45;&gt;13 -->\n",
       "<g id=\"edge13\" class=\"edge\"><title>11&#45;&gt;13</title>\n",
       "<path fill=\"none\" stroke=\"black\" d=\"M412.179,-99.7956C412.815,-91.4581 413.49,-82.6 414.133,-74.1534\"/>\n",
       "<polygon fill=\"black\" stroke=\"black\" points=\"417.628,-74.3542 414.898,-64.1172 410.648,-73.8223 417.628,-74.3542\"/>\n",
       "</g>\n",
       "<!-- 15 -->\n",
       "<g id=\"node16\" class=\"node\"><title>15</title>\n",
       "<polygon fill=\"none\" stroke=\"black\" points=\"597.293,-64 499.244,-64 499.244,-0 597.293,-0 597.293,-64\"/>\n",
       "<text text-anchor=\"middle\" x=\"548.269\" y=\"-48.8\" font-family=\"Times,serif\" font-size=\"14.00\">gini = 0.337</text>\n",
       "<text text-anchor=\"middle\" x=\"548.269\" y=\"-34.8\" font-family=\"Times,serif\" font-size=\"14.00\">samples = 14</text>\n",
       "<text text-anchor=\"middle\" x=\"548.269\" y=\"-20.8\" font-family=\"Times,serif\" font-size=\"14.00\">value = [3, 11]</text>\n",
       "<text text-anchor=\"middle\" x=\"548.269\" y=\"-6.8\" font-family=\"Times,serif\" font-size=\"14.00\">class = SLI</text>\n",
       "</g>\n",
       "<!-- 14&#45;&gt;15 -->\n",
       "<g id=\"edge15\" class=\"edge\"><title>14&#45;&gt;15</title>\n",
       "<path fill=\"none\" stroke=\"black\" d=\"M553.358,-99.7956C552.723,-91.4581 552.048,-82.6 551.404,-74.1534\"/>\n",
       "<polygon fill=\"black\" stroke=\"black\" points=\"554.889,-73.8223 550.639,-64.1172 547.909,-74.3542 554.889,-73.8223\"/>\n",
       "</g>\n",
       "<!-- 16 -->\n",
       "<g id=\"node17\" class=\"node\"><title>16</title>\n",
       "<polygon fill=\"none\" stroke=\"black\" points=\"706.807,-64 615.73,-64 615.73,-0 706.807,-0 706.807,-64\"/>\n",
       "<text text-anchor=\"middle\" x=\"661.269\" y=\"-48.8\" font-family=\"Times,serif\" font-size=\"14.00\">gini = 0.219</text>\n",
       "<text text-anchor=\"middle\" x=\"661.269\" y=\"-34.8\" font-family=\"Times,serif\" font-size=\"14.00\">samples = 8</text>\n",
       "<text text-anchor=\"middle\" x=\"661.269\" y=\"-20.8\" font-family=\"Times,serif\" font-size=\"14.00\">value = [7, 1]</text>\n",
       "<text text-anchor=\"middle\" x=\"661.269\" y=\"-6.8\" font-family=\"Times,serif\" font-size=\"14.00\">class = TD</text>\n",
       "</g>\n",
       "<!-- 14&#45;&gt;16 -->\n",
       "<g id=\"edge16\" class=\"edge\"><title>14&#45;&gt;16</title>\n",
       "<path fill=\"none\" stroke=\"black\" d=\"M594.473,-99.7956C603.727,-90.5419 613.622,-80.6469 622.884,-71.385\"/>\n",
       "<polygon fill=\"black\" stroke=\"black\" points=\"625.555,-73.6632 630.151,-64.1172 620.605,-68.7134 625.555,-73.6632\"/>\n",
       "</g>\n",
       "<!-- 18 -->\n",
       "<g id=\"node19\" class=\"node\"><title>18</title>\n",
       "<polygon fill=\"none\" stroke=\"black\" points=\"733.807,-171 642.73,-171 642.73,-107 733.807,-107 733.807,-171\"/>\n",
       "<text text-anchor=\"middle\" x=\"688.269\" y=\"-155.8\" font-family=\"Times,serif\" font-size=\"14.00\">gini = 0.346</text>\n",
       "<text text-anchor=\"middle\" x=\"688.269\" y=\"-141.8\" font-family=\"Times,serif\" font-size=\"14.00\">samples = 9</text>\n",
       "<text text-anchor=\"middle\" x=\"688.269\" y=\"-127.8\" font-family=\"Times,serif\" font-size=\"14.00\">value = [7, 2]</text>\n",
       "<text text-anchor=\"middle\" x=\"688.269\" y=\"-113.8\" font-family=\"Times,serif\" font-size=\"14.00\">class = TD</text>\n",
       "</g>\n",
       "<!-- 17&#45;&gt;18 -->\n",
       "<g id=\"edge18\" class=\"edge\"><title>17&#45;&gt;18</title>\n",
       "<path fill=\"none\" stroke=\"black\" d=\"M688.269,-213.769C688.269,-203.313 688.269,-191.935 688.269,-181.315\"/>\n",
       "<polygon fill=\"black\" stroke=\"black\" points=\"691.769,-181.01 688.269,-171.01 684.769,-181.01 691.769,-181.01\"/>\n",
       "</g>\n",
       "<!-- 19 -->\n",
       "<g id=\"node20\" class=\"node\"><title>19</title>\n",
       "<polygon fill=\"none\" stroke=\"black\" points=\"850.307,-171 752.23,-171 752.23,-107 850.307,-107 850.307,-171\"/>\n",
       "<text text-anchor=\"middle\" x=\"801.269\" y=\"-155.8\" font-family=\"Times,serif\" font-size=\"14.00\">gini = 0.271</text>\n",
       "<text text-anchor=\"middle\" x=\"801.269\" y=\"-141.8\" font-family=\"Times,serif\" font-size=\"14.00\">samples = 31</text>\n",
       "<text text-anchor=\"middle\" x=\"801.269\" y=\"-127.8\" font-family=\"Times,serif\" font-size=\"14.00\">value = [5, 26]</text>\n",
       "<text text-anchor=\"middle\" x=\"801.269\" y=\"-113.8\" font-family=\"Times,serif\" font-size=\"14.00\">class = SLI</text>\n",
       "</g>\n",
       "<!-- 17&#45;&gt;19 -->\n",
       "<g id=\"edge19\" class=\"edge\"><title>17&#45;&gt;19</title>\n",
       "<path fill=\"none\" stroke=\"black\" d=\"M726.841,-213.769C738.379,-202.333 751.03,-189.794 762.577,-178.35\"/>\n",
       "<polygon fill=\"black\" stroke=\"black\" points=\"765.343,-180.535 769.982,-171.01 760.415,-175.564 765.343,-180.535\"/>\n",
       "</g>\n",
       "<!-- 21 -->\n",
       "<g id=\"node22\" class=\"node\"><title>21</title>\n",
       "<polygon fill=\"none\" stroke=\"black\" points=\"929.981,-406 798.556,-406 798.556,-328 929.981,-328 929.981,-406\"/>\n",
       "<text text-anchor=\"middle\" x=\"864.269\" y=\"-390.8\" font-family=\"Times,serif\" font-size=\"14.00\">word_errors &lt;= 3.95</text>\n",
       "<text text-anchor=\"middle\" x=\"864.269\" y=\"-376.8\" font-family=\"Times,serif\" font-size=\"14.00\">gini = 0.181</text>\n",
       "<text text-anchor=\"middle\" x=\"864.269\" y=\"-362.8\" font-family=\"Times,serif\" font-size=\"14.00\">samples = 299</text>\n",
       "<text text-anchor=\"middle\" x=\"864.269\" y=\"-348.8\" font-family=\"Times,serif\" font-size=\"14.00\">value = [269, 30]</text>\n",
       "<text text-anchor=\"middle\" x=\"864.269\" y=\"-334.8\" font-family=\"Times,serif\" font-size=\"14.00\">class = TD</text>\n",
       "</g>\n",
       "<!-- 20&#45;&gt;21 -->\n",
       "<g id=\"edge21\" class=\"edge\"><title>20&#45;&gt;21</title>\n",
       "<path fill=\"none\" stroke=\"black\" d=\"M864.269,-441.769C864.269,-433.57 864.269,-424.803 864.269,-416.28\"/>\n",
       "<polygon fill=\"black\" stroke=\"black\" points=\"867.769,-416.058 864.269,-406.058 860.769,-416.059 867.769,-416.058\"/>\n",
       "</g>\n",
       "<!-- 24 -->\n",
       "<g id=\"node25\" class=\"node\"><title>24</title>\n",
       "<polygon fill=\"none\" stroke=\"black\" points=\"1149.73,-406 1004.81,-406 1004.81,-328 1149.73,-328 1149.73,-406\"/>\n",
       "<text text-anchor=\"middle\" x=\"1077.27\" y=\"-390.8\" font-family=\"Times,serif\" font-size=\"14.00\">mlu100_utts &lt;= &#45;0.273</text>\n",
       "<text text-anchor=\"middle\" x=\"1077.27\" y=\"-376.8\" font-family=\"Times,serif\" font-size=\"14.00\">gini = 0.434</text>\n",
       "<text text-anchor=\"middle\" x=\"1077.27\" y=\"-362.8\" font-family=\"Times,serif\" font-size=\"14.00\">samples = 173</text>\n",
       "<text text-anchor=\"middle\" x=\"1077.27\" y=\"-348.8\" font-family=\"Times,serif\" font-size=\"14.00\">value = [118, 55]</text>\n",
       "<text text-anchor=\"middle\" x=\"1077.27\" y=\"-334.8\" font-family=\"Times,serif\" font-size=\"14.00\">class = TD</text>\n",
       "</g>\n",
       "<!-- 20&#45;&gt;24 -->\n",
       "<g id=\"edge24\" class=\"edge\"><title>20&#45;&gt;24</title>\n",
       "<path fill=\"none\" stroke=\"black\" d=\"M925.877,-447.605C947.679,-436.141 972.553,-423.062 995.751,-410.864\"/>\n",
       "<polygon fill=\"black\" stroke=\"black\" points=\"997.667,-413.81 1004.89,-406.058 994.41,-407.615 997.667,-413.81\"/>\n",
       "</g>\n",
       "<!-- 22 -->\n",
       "<g id=\"node23\" class=\"node\"><title>22</title>\n",
       "<polygon fill=\"none\" stroke=\"black\" points=\"885.307,-285 773.23,-285 773.23,-221 885.307,-221 885.307,-285\"/>\n",
       "<text text-anchor=\"middle\" x=\"829.269\" y=\"-269.8\" font-family=\"Times,serif\" font-size=\"14.00\">gini = 0.15</text>\n",
       "<text text-anchor=\"middle\" x=\"829.269\" y=\"-255.8\" font-family=\"Times,serif\" font-size=\"14.00\">samples = 293</text>\n",
       "<text text-anchor=\"middle\" x=\"829.269\" y=\"-241.8\" font-family=\"Times,serif\" font-size=\"14.00\">value = [269, 24]</text>\n",
       "<text text-anchor=\"middle\" x=\"829.269\" y=\"-227.8\" font-family=\"Times,serif\" font-size=\"14.00\">class = TD</text>\n",
       "</g>\n",
       "<!-- 21&#45;&gt;22 -->\n",
       "<g id=\"edge22\" class=\"edge\"><title>21&#45;&gt;22</title>\n",
       "<path fill=\"none\" stroke=\"black\" d=\"M852.321,-327.769C848.986,-317.095 845.35,-305.461 841.972,-294.652\"/>\n",
       "<polygon fill=\"black\" stroke=\"black\" points=\"845.283,-293.511 838.959,-285.01 838.601,-295.599 845.283,-293.511\"/>\n",
       "</g>\n",
       "<!-- 23 -->\n",
       "<g id=\"node24\" class=\"node\"><title>23</title>\n",
       "<polygon fill=\"none\" stroke=\"black\" points=\"994.807,-285 903.73,-285 903.73,-221 994.807,-221 994.807,-285\"/>\n",
       "<text text-anchor=\"middle\" x=\"949.269\" y=\"-269.8\" font-family=\"Times,serif\" font-size=\"14.00\">gini = 0.0</text>\n",
       "<text text-anchor=\"middle\" x=\"949.269\" y=\"-255.8\" font-family=\"Times,serif\" font-size=\"14.00\">samples = 6</text>\n",
       "<text text-anchor=\"middle\" x=\"949.269\" y=\"-241.8\" font-family=\"Times,serif\" font-size=\"14.00\">value = [0, 6]</text>\n",
       "<text text-anchor=\"middle\" x=\"949.269\" y=\"-227.8\" font-family=\"Times,serif\" font-size=\"14.00\">class = SLI</text>\n",
       "</g>\n",
       "<!-- 21&#45;&gt;23 -->\n",
       "<g id=\"edge23\" class=\"edge\"><title>21&#45;&gt;23</title>\n",
       "<path fill=\"none\" stroke=\"black\" d=\"M893.283,-327.769C901.797,-316.551 911.117,-304.271 919.667,-293.005\"/>\n",
       "<polygon fill=\"black\" stroke=\"black\" points=\"922.477,-295.092 925.734,-285.01 916.901,-290.86 922.477,-295.092\"/>\n",
       "</g>\n",
       "<!-- 25 -->\n",
       "<g id=\"node26\" class=\"node\"><title>25</title>\n",
       "<polygon fill=\"none\" stroke=\"black\" points=\"1141.35,-292 1013.19,-292 1013.19,-214 1141.35,-214 1141.35,-292\"/>\n",
       "<text text-anchor=\"middle\" x=\"1077.27\" y=\"-276.8\" font-family=\"Times,serif\" font-size=\"14.00\">age(years) &lt;= 0.653</text>\n",
       "<text text-anchor=\"middle\" x=\"1077.27\" y=\"-262.8\" font-family=\"Times,serif\" font-size=\"14.00\">gini = 0.496</text>\n",
       "<text text-anchor=\"middle\" x=\"1077.27\" y=\"-248.8\" font-family=\"Times,serif\" font-size=\"14.00\">samples = 75</text>\n",
       "<text text-anchor=\"middle\" x=\"1077.27\" y=\"-234.8\" font-family=\"Times,serif\" font-size=\"14.00\">value = [34, 41]</text>\n",
       "<text text-anchor=\"middle\" x=\"1077.27\" y=\"-220.8\" font-family=\"Times,serif\" font-size=\"14.00\">class = SLI</text>\n",
       "</g>\n",
       "<!-- 24&#45;&gt;25 -->\n",
       "<g id=\"edge25\" class=\"edge\"><title>24&#45;&gt;25</title>\n",
       "<path fill=\"none\" stroke=\"black\" d=\"M1077.27,-327.769C1077.27,-319.57 1077.27,-310.803 1077.27,-302.28\"/>\n",
       "<polygon fill=\"black\" stroke=\"black\" points=\"1080.77,-302.058 1077.27,-292.058 1073.77,-302.059 1080.77,-302.058\"/>\n",
       "</g>\n",
       "<!-- 30 -->\n",
       "<g id=\"node31\" class=\"node\"><title>30</title>\n",
       "<polygon fill=\"none\" stroke=\"black\" points=\"1264.81,-285 1159.73,-285 1159.73,-221 1264.81,-221 1264.81,-285\"/>\n",
       "<text text-anchor=\"middle\" x=\"1212.27\" y=\"-269.8\" font-family=\"Times,serif\" font-size=\"14.00\">gini = 0.245</text>\n",
       "<text text-anchor=\"middle\" x=\"1212.27\" y=\"-255.8\" font-family=\"Times,serif\" font-size=\"14.00\">samples = 98</text>\n",
       "<text text-anchor=\"middle\" x=\"1212.27\" y=\"-241.8\" font-family=\"Times,serif\" font-size=\"14.00\">value = [84, 14]</text>\n",
       "<text text-anchor=\"middle\" x=\"1212.27\" y=\"-227.8\" font-family=\"Times,serif\" font-size=\"14.00\">class = TD</text>\n",
       "</g>\n",
       "<!-- 24&#45;&gt;30 -->\n",
       "<g id=\"edge30\" class=\"edge\"><title>24&#45;&gt;30</title>\n",
       "<path fill=\"none\" stroke=\"black\" d=\"M1123.35,-327.769C1137.4,-316.115 1152.83,-303.315 1166.83,-291.697\"/>\n",
       "<polygon fill=\"black\" stroke=\"black\" points=\"1169.43,-294.089 1174.89,-285.01 1164.96,-288.701 1169.43,-294.089\"/>\n",
       "</g>\n",
       "<!-- 26 -->\n",
       "<g id=\"node27\" class=\"node\"><title>26</title>\n",
       "<polygon fill=\"none\" stroke=\"black\" points=\"1058.31,-171 960.23,-171 960.23,-107 1058.31,-107 1058.31,-171\"/>\n",
       "<text text-anchor=\"middle\" x=\"1009.27\" y=\"-155.8\" font-family=\"Times,serif\" font-size=\"14.00\">gini = 0.145</text>\n",
       "<text text-anchor=\"middle\" x=\"1009.27\" y=\"-141.8\" font-family=\"Times,serif\" font-size=\"14.00\">samples = 38</text>\n",
       "<text text-anchor=\"middle\" x=\"1009.27\" y=\"-127.8\" font-family=\"Times,serif\" font-size=\"14.00\">value = [3, 35]</text>\n",
       "<text text-anchor=\"middle\" x=\"1009.27\" y=\"-113.8\" font-family=\"Times,serif\" font-size=\"14.00\">class = SLI</text>\n",
       "</g>\n",
       "<!-- 25&#45;&gt;26 -->\n",
       "<g id=\"edge26\" class=\"edge\"><title>25&#45;&gt;26</title>\n",
       "<path fill=\"none\" stroke=\"black\" d=\"M1054.06,-213.769C1047.38,-202.769 1040.08,-190.747 1033.35,-179.662\"/>\n",
       "<polygon fill=\"black\" stroke=\"black\" points=\"1036.28,-177.741 1028.1,-171.01 1030.29,-181.374 1036.28,-177.741\"/>\n",
       "</g>\n",
       "<!-- 27 -->\n",
       "<g id=\"node28\" class=\"node\"><title>27</title>\n",
       "<polygon fill=\"none\" stroke=\"black\" points=\"1212.66,-178 1075.87,-178 1075.87,-100 1212.66,-100 1212.66,-178\"/>\n",
       "<text text-anchor=\"middle\" x=\"1144.27\" y=\"-162.8\" font-family=\"Times,serif\" font-size=\"14.00\">z_ipsyn_td &lt;= &#45;0.564</text>\n",
       "<text text-anchor=\"middle\" x=\"1144.27\" y=\"-148.8\" font-family=\"Times,serif\" font-size=\"14.00\">gini = 0.272</text>\n",
       "<text text-anchor=\"middle\" x=\"1144.27\" y=\"-134.8\" font-family=\"Times,serif\" font-size=\"14.00\">samples = 37</text>\n",
       "<text text-anchor=\"middle\" x=\"1144.27\" y=\"-120.8\" font-family=\"Times,serif\" font-size=\"14.00\">value = [31, 6]</text>\n",
       "<text text-anchor=\"middle\" x=\"1144.27\" y=\"-106.8\" font-family=\"Times,serif\" font-size=\"14.00\">class = TD</text>\n",
       "</g>\n",
       "<!-- 25&#45;&gt;27 -->\n",
       "<g id=\"edge27\" class=\"edge\"><title>25&#45;&gt;27</title>\n",
       "<path fill=\"none\" stroke=\"black\" d=\"M1100.14,-213.769C1105.31,-205.119 1110.87,-195.838 1116.23,-186.877\"/>\n",
       "<polygon fill=\"black\" stroke=\"black\" points=\"1119.37,-188.437 1121.5,-178.058 1113.36,-184.843 1119.37,-188.437\"/>\n",
       "</g>\n",
       "<!-- 28 -->\n",
       "<g id=\"node29\" class=\"node\"><title>28</title>\n",
       "<polygon fill=\"none\" stroke=\"black\" points=\"1132.81,-64 1041.73,-64 1041.73,-0 1132.81,-0 1132.81,-64\"/>\n",
       "<text text-anchor=\"middle\" x=\"1087.27\" y=\"-48.8\" font-family=\"Times,serif\" font-size=\"14.00\">gini = 0.0</text>\n",
       "<text text-anchor=\"middle\" x=\"1087.27\" y=\"-34.8\" font-family=\"Times,serif\" font-size=\"14.00\">samples = 3</text>\n",
       "<text text-anchor=\"middle\" x=\"1087.27\" y=\"-20.8\" font-family=\"Times,serif\" font-size=\"14.00\">value = [0, 3]</text>\n",
       "<text text-anchor=\"middle\" x=\"1087.27\" y=\"-6.8\" font-family=\"Times,serif\" font-size=\"14.00\">class = SLI</text>\n",
       "</g>\n",
       "<!-- 27&#45;&gt;28 -->\n",
       "<g id=\"edge28\" class=\"edge\"><title>27&#45;&gt;28</title>\n",
       "<path fill=\"none\" stroke=\"black\" d=\"M1123.53,-99.7956C1118.8,-91.0916 1113.77,-81.8203 1109.01,-73.042\"/>\n",
       "<polygon fill=\"black\" stroke=\"black\" points=\"1112.01,-71.2359 1104.16,-64.1172 1105.86,-74.5756 1112.01,-71.2359\"/>\n",
       "</g>\n",
       "<!-- 29 -->\n",
       "<g id=\"node30\" class=\"node\"><title>29</title>\n",
       "<polygon fill=\"none\" stroke=\"black\" points=\"1249.31,-64 1151.23,-64 1151.23,-0 1249.31,-0 1249.31,-64\"/>\n",
       "<text text-anchor=\"middle\" x=\"1200.27\" y=\"-48.8\" font-family=\"Times,serif\" font-size=\"14.00\">gini = 0.161</text>\n",
       "<text text-anchor=\"middle\" x=\"1200.27\" y=\"-34.8\" font-family=\"Times,serif\" font-size=\"14.00\">samples = 34</text>\n",
       "<text text-anchor=\"middle\" x=\"1200.27\" y=\"-20.8\" font-family=\"Times,serif\" font-size=\"14.00\">value = [31, 3]</text>\n",
       "<text text-anchor=\"middle\" x=\"1200.27\" y=\"-6.8\" font-family=\"Times,serif\" font-size=\"14.00\">class = TD</text>\n",
       "</g>\n",
       "<!-- 27&#45;&gt;29 -->\n",
       "<g id=\"edge29\" class=\"edge\"><title>27&#45;&gt;29</title>\n",
       "<path fill=\"none\" stroke=\"black\" d=\"M1164.64,-99.7956C1169.29,-91.0916 1174.23,-81.8203 1178.91,-73.042\"/>\n",
       "<polygon fill=\"black\" stroke=\"black\" points=\"1182.06,-74.5878 1183.67,-64.1172 1175.88,-71.2936 1182.06,-74.5878\"/>\n",
       "</g>\n",
       "</g>\n",
       "</svg>\n"
      ],
      "text/plain": [
       "<graphviz.files.Source at 0x110ea60b8>"
      ]
     },
     "execution_count": 23,
     "metadata": {},
     "output_type": "execute_result"
    }
   ],
   "source": [
    "clfd_z = clfd.fit(train_x_z,train_y)\n",
    "Source(tree.export_graphviz(clfd_z, out_file=None,feature_names =list(df), class_names=[\"TD\",\"SLI\"]))"
   ]
  },
  {
   "cell_type": "markdown",
   "metadata": {},
   "source": [
    "### Results Part 2\n",
    "With the standarization of the feature values, the top ten weighted features found with LR changed dramatically. This was contrasted by the effect the z-score had on the decision tree results where the classifier used almost all the same features as in Part 1. The same features appear in the top levels of the tree. Again, most of the decision tree features were not present in the top LR feature lists, and the most used feature by the decision tree, 'age', did not appear in the lists. \n",
    "\n",
    "Again, the results of the decision tree show that the specified depth of the may be causing overfitting, as many of the leaves contain a very refinied distriction between each class. "
   ]
  },
  {
   "cell_type": "code",
   "execution_count": 24,
   "metadata": {
    "collapsed": true
   },
   "outputs": [],
   "source": [
    "mostPosNeg2 = clf2_z.predict_proba(test_x_z)"
   ]
  },
  {
   "cell_type": "code",
   "execution_count": 25,
   "metadata": {
    "scrolled": true
   },
   "outputs": [
    {
     "name": "stdout",
     "output_type": "stream",
     "text": [
      "The most positive object is  334\n",
      "The most negative object is  345\n"
     ]
    }
   ],
   "source": [
    "mostPos2 = 0\n",
    "mostPosIndx2 = 0 \n",
    "mostNeg2 = 0\n",
    "mostNegIndx2 = 0\n",
    "for i in range(len(mostPosNeg2)):\n",
    "    if mostPosNeg2[i][1] > mostPos2:\n",
    "        mostPos2 = mostPosNeg2[i][1]\n",
    "        mostPosIndx2 = i        \n",
    "    elif mostPosNeg2[i][0] > mostNeg2:\n",
    "        mostNeg2 = mostPosNeg2[i][0]\n",
    "        mostNegIndx2 = i \n",
    "\n",
    "print(\"The most positive object is \",mostPosIndx2)\n",
    "print(\"The most negative object is \",mostNegIndx2)"
   ]
  },
  {
   "cell_type": "markdown",
   "metadata": {},
   "source": [
    "## 1. The most positive object with respect to the probabilities."
   ]
  },
  {
   "cell_type": "code",
   "execution_count": 26,
   "metadata": {
    "collapsed": true
   },
   "outputs": [],
   "source": [
    "totPosEvi_2p = 0\n",
    "totNegEvi_2p = 0\n",
    "p_evidence_1 = []\n",
    "n_evidence_1 = []\n",
    "for i, objFeatureValue in enumerate(test_x_z[mostPosIndx2]):\n",
    "    evidenceComp = clf2_z.coef_[0][i]*objFeatureValue\n",
    "    if evidenceComp >= 0:\n",
    "        totPosEvi_2p += evidenceComp\n",
    "        p_evidence_1.append((i,evidenceComp))\n",
    "    else:\n",
    "        totNegEvi_2p += evidenceComp\n",
    "        n_evidence_1.append((i,evidenceComp))"
   ]
  },
  {
   "cell_type": "code",
   "execution_count": 27,
   "metadata": {},
   "outputs": [
    {
     "name": "stdout",
     "output_type": "stream",
     "text": [
      "The total positive evdence is  52.3018984531\n",
      "The total negative evidence is  -6.0116872577\n"
     ]
    }
   ],
   "source": [
    "print(\"The total positive evdence is \",totPosEvi_2p)\n",
    "print(\"The total negative evidence is \",totNegEvi_2p)"
   ]
  },
  {
   "cell_type": "code",
   "execution_count": 28,
   "metadata": {},
   "outputs": [
    {
     "name": "stdout",
     "output_type": "stream",
     "text": [
      "Probability distribution is [ 0.  1.]\n"
     ]
    }
   ],
   "source": [
    "print(\"Probability distribution is\", mostPosNeg2[mostPosIndx2])"
   ]
  },
  {
   "cell_type": "code",
   "execution_count": 29,
   "metadata": {},
   "outputs": [
    {
     "name": "stdout",
     "output_type": "stream",
     "text": [
      "First top feature for positive evidence: s_3g_ppl\n",
      "Second top feature for positive evidence: s_2g_ppl\n",
      "Third top feature for positive evidence: f_k\n"
     ]
    }
   ],
   "source": [
    "indx1 = 0\n",
    "indx2 = 0\n",
    "indx3 = 0\n",
    "first = 0\n",
    "second = 0\n",
    "third = 0\n",
    "\n",
    "for i in range(len(p_evidence_1)):\n",
    "    if (p_evidence_1[i][1] > third and p_evidence_1[i][1] > second and p_evidence_1[i][1] > first):\n",
    "        third = second \n",
    "        indx3 = indx2\n",
    "        second = first\n",
    "        indx2 = indx1\n",
    "        first = p_evidence_1[i][1]\n",
    "        indx1 = p_evidence_1[i][0]\n",
    "    elif (p_evidence_1[i][1] > third and p_evidence_1[i][1] > second):\n",
    "        third = second \n",
    "        indx3 = indx2\n",
    "        second = p_evidence_1[i][1]\n",
    "        indx2 = p_evidence_1[i][0]\n",
    "    elif(p_evidence_1[i][1] > third):\n",
    "        third = p_evidence_1[i][1]\n",
    "        indx3 = p_evidence_1[i][0]\n",
    "        \n",
    "print(\"First top feature for positive evidence:\" ,list(df)[indx1])\n",
    "print(\"Second top feature for positive evidence:\" ,list(df)[indx2])\n",
    "print(\"Third top feature for positive evidence:\" ,list(df)[indx3])"
   ]
  },
  {
   "cell_type": "code",
   "execution_count": 30,
   "metadata": {},
   "outputs": [
    {
     "name": "stdout",
     "output_type": "stream",
     "text": [
      "First top feature for negative evidence: total_error\n",
      "Second top feature for negative evidence: pro_3s_v\n",
      "Third top feature for negative evidence: pro_aux\n"
     ]
    }
   ],
   "source": [
    "indx1 = 0\n",
    "indx2 = 0\n",
    "indx3 = 0\n",
    "first = 0\n",
    "second = 0\n",
    "third = 0\n",
    "\n",
    "for i in range(len(n_evidence_1)):\n",
    "    if (abs(n_evidence_1[i][1]) > third and abs(n_evidence_1[i][1]) > second and abs(n_evidence_1[i][1]) > first):\n",
    "        third = second \n",
    "        indx3 = indx2\n",
    "        second = first\n",
    "        indx2 = indx1\n",
    "        first = n_evidence_1[i][1]\n",
    "        indx1 = n_evidence_1[i][0]\n",
    "    elif (abs(n_evidence_1[i][1]) > third and abs(n_evidence_1[i][1]) > second):\n",
    "        third = second \n",
    "        indx3 = indx2\n",
    "        second = n_evidence_1[i][1]\n",
    "        indx2 = n_evidence_1[i][0]\n",
    "    elif(abs(n_evidence_1[i][1]) > third):\n",
    "        third = n_evidence_1[i][1]\n",
    "        indx3 = n_evidence_1[i][0]\n",
    "\n",
    "print(\"First top feature for negative evidence:\" ,list(df)[indx1])\n",
    "print(\"Second top feature for negative evidence:\" ,list(df)[indx2])\n",
    "print(\"Third top feature for negative evidence:\" ,list(df)[indx3])"
   ]
  },
  {
   "cell_type": "markdown",
   "metadata": {},
   "source": [
    "## 2. The most negative object with respect to the probabilities."
   ]
  },
  {
   "cell_type": "code",
   "execution_count": 31,
   "metadata": {
    "collapsed": true
   },
   "outputs": [],
   "source": [
    "totPosEvi_2n = 0\n",
    "totNegEvi_2n = 0\n",
    "p_evidence_2 = []\n",
    "n_evidence_2 = []\n",
    "\n",
    "for i, objFeatureValue in enumerate(test_x_z[mostNegIndx2]):\n",
    "    evidenceComp = clf2_z.coef_[0][i]*objFeatureValue\n",
    "    if evidenceComp >= 0:\n",
    "        totPosEvi_2n += evidenceComp\n",
    "        p_evidence_2.append((i,evidenceComp))\n",
    "    else:\n",
    "        totNegEvi_2n += evidenceComp\n",
    "        n_evidence_2.append((i,evidenceComp))"
   ]
  },
  {
   "cell_type": "code",
   "execution_count": 32,
   "metadata": {},
   "outputs": [
    {
     "name": "stdout",
     "output_type": "stream",
     "text": [
      "The total positive evdence is  6.44279537885\n",
      "The total negative evidence is  -14.465906878\n"
     ]
    }
   ],
   "source": [
    "print(\"The total positive evdence is \",totPosEvi_2n)\n",
    "print(\"The total negative evidence is \",totNegEvi_2n)"
   ]
  },
  {
   "cell_type": "code",
   "execution_count": 33,
   "metadata": {},
   "outputs": [
    {
     "name": "stdout",
     "output_type": "stream",
     "text": [
      "Probability distribution is [  9.99672309e-01   3.27691073e-04]\n"
     ]
    }
   ],
   "source": [
    "print(\"Probability distribution is\", mostPosNeg2[mostNegIndx2])"
   ]
  },
  {
   "cell_type": "code",
   "execution_count": 34,
   "metadata": {},
   "outputs": [
    {
     "name": "stdout",
     "output_type": "stream",
     "text": [
      "First top feature for positive evidence: regular_3rd_person_s\n",
      "Second top feature for positive evidence: f_k\n",
      "Third top feature for positive evidence: mlu100_utts\n"
     ]
    }
   ],
   "source": [
    "indx1 = 0\n",
    "indx2 = 0\n",
    "indx3 = 0\n",
    "first = 0\n",
    "second = 0\n",
    "third = 0\n",
    "\n",
    "for i in range(len(p_evidence_2)):\n",
    "    if (p_evidence_2[i][1] > third and p_evidence_2[i][1] > second and p_evidence_2[i][1] > first):\n",
    "        third = second \n",
    "        indx3 = indx2\n",
    "        second = first\n",
    "        indx2 = indx1\n",
    "        first = p_evidence_2[i][1]\n",
    "        indx1 = p_evidence_2[i][0]\n",
    "    elif (p_evidence_2[i][1] > third and p_evidence_2[i][1] > second):\n",
    "        third = second \n",
    "        indx3 = indx2\n",
    "        second = p_evidence_2[i][1]\n",
    "        indx2 = p_evidence_2[i][0]\n",
    "    elif(p_evidence_2[i][1] > third):\n",
    "        third = p_evidence_2[i][1]\n",
    "        indx3 = p_evidence_2[i][0]\n",
    "        \n",
    "print(\"First top feature for positive evidence:\" ,list(df)[indx1])\n",
    "print(\"Second top feature for positive evidence:\" ,list(df)[indx2])\n",
    "print(\"Third top feature for positive evidence:\" ,list(df)[indx3])"
   ]
  },
  {
   "cell_type": "code",
   "execution_count": 35,
   "metadata": {},
   "outputs": [
    {
     "name": "stdout",
     "output_type": "stream",
     "text": [
      "First top feature for negative evidence: total_error\n",
      "Second top feature for negative evidence: pro_aux\n",
      "Third top feature for negative evidence: det_n_pl\n"
     ]
    }
   ],
   "source": [
    "indx1 = 0\n",
    "indx2 = 0\n",
    "indx3 = 0\n",
    "first = 0\n",
    "second = 0\n",
    "third = 0\n",
    "\n",
    "for i in range(len(n_evidence_2)):\n",
    "    if (abs(n_evidence_2[i][1]) > third and abs(n_evidence_2[i][1]) > second and abs(n_evidence_2[i][1]) > first):\n",
    "        third = second \n",
    "        indx3 = indx2\n",
    "        second = first\n",
    "        indx2 = indx1\n",
    "        first = n_evidence_2[i][1]\n",
    "        indx1 = n_evidence_2[i][0]\n",
    "    elif (abs(n_evidence_2[i][1]) > third and abs(n_evidence_2[i][1]) > second):\n",
    "        third = second \n",
    "        indx3 = indx2\n",
    "        second = n_evidence_2[i][1]\n",
    "        indx2 = n_evidence_2[i][0]\n",
    "    elif(abs(n_evidence_2[i][1]) > third):\n",
    "        third = n_evidence_2[i][1]\n",
    "        indx3 = n_evidence_2[i][0]\n",
    "\n",
    "print(\"First top feature for negative evidence:\" ,list(df)[indx1])\n",
    "print(\"Second top feature for negative evidence:\" ,list(df)[indx2])\n",
    "print(\"Third top feature for negative evidence:\" ,list(df)[indx3])"
   ]
  },
  {
   "cell_type": "markdown",
   "metadata": {},
   "source": [
    "# Finding most +/- evidence objects"
   ]
  },
  {
   "cell_type": "code",
   "execution_count": 36,
   "metadata": {
    "collapsed": true
   },
   "outputs": [],
   "source": [
    "p_evidence_tot = []\n",
    "n_evidence_tot = []\n",
    "p_evidence_val = 0\n",
    "n_evidence_val = 0\n",
    "\n",
    "index = 0\n",
    "for obj in test_x_z:\n",
    "    for i, objFeatureValue in enumerate(obj):\n",
    "        evidenceComp = clf2_z.coef_[0][i]*objFeatureValue\n",
    "        if evidenceComp >= 0:\n",
    "            p_evidence_val += evidenceComp\n",
    "        else:\n",
    "            n_evidence_val += evidenceComp\n",
    "    p_evidence_tot.append((obj,p_evidence_val,index))\n",
    "    n_evidence_tot.append((obj,n_evidence_val,index))\n",
    "    p_evidence_val = 0\n",
    "    n_evidence_val = 0\n",
    "    index += 1"
   ]
  },
  {
   "cell_type": "code",
   "execution_count": 37,
   "metadata": {},
   "outputs": [
    {
     "name": "stdout",
     "output_type": "stream",
     "text": [
      "Object with most positive log evidence is  334\n",
      "Object with most negative log evidence is  324\n"
     ]
    }
   ],
   "source": [
    "most_pos_evidence = 0\n",
    "most_pos_evidence_indx = 0\n",
    "most_neg_evidence = 0\n",
    "most_neg_evidence_indx = 0\n",
    "\n",
    "for i in p_evidence_tot:\n",
    "    if i[1] > most_pos_evidence:\n",
    "        most_pos_evidence_indx = i[2]\n",
    "        most_pos_evidence = i[1]\n",
    "\n",
    "\n",
    "for i in n_evidence_tot:\n",
    "    if i[1] < most_neg_evidence:\n",
    "        most_neg_evidence_indx = i[2]\n",
    "        most_neg_evidence = i[1]\n",
    "\n",
    "print(\"Object with most positive log evidence is \",most_pos_evidence_indx)\n",
    "print(\"Object with most negative log evidence is \",most_neg_evidence_indx)"
   ]
  },
  {
   "cell_type": "markdown",
   "metadata": {},
   "source": [
    "## 3. The object that has the largest positive evidence."
   ]
  },
  {
   "cell_type": "code",
   "execution_count": 38,
   "metadata": {
    "collapsed": true
   },
   "outputs": [],
   "source": [
    "eviPosEvi_2p = 0\n",
    "eviNegEvi_2p = 0\n",
    "p_evidence_3 = []\n",
    "n_evidence_3 = []\n",
    "\n",
    "for i, objFeatureValue in enumerate(test_x_z[most_pos_evidence_indx]):\n",
    "    evidenceComp = clf2_z.coef_[0][i]*objFeatureValue\n",
    "    if evidenceComp >= 0:\n",
    "        eviPosEvi_2p += evidenceComp\n",
    "        p_evidence_3.append((i,evidenceComp))\n",
    "    else:\n",
    "        eviNegEvi_2p += evidenceComp\n",
    "        n_evidence_3.append((i,evidenceComp))"
   ]
  },
  {
   "cell_type": "code",
   "execution_count": 39,
   "metadata": {},
   "outputs": [
    {
     "name": "stdout",
     "output_type": "stream",
     "text": [
      "The total positive evdence is  52.3018984531\n",
      "The total negative evidence is  -6.0116872577\n"
     ]
    }
   ],
   "source": [
    "print(\"The total positive evdence is \",eviPosEvi_2p)\n",
    "print(\"The total negative evidence is \", eviNegEvi_2p)"
   ]
  },
  {
   "cell_type": "code",
   "execution_count": 40,
   "metadata": {},
   "outputs": [
    {
     "name": "stdout",
     "output_type": "stream",
     "text": [
      "Probability distribution is [ 0.  1.]\n"
     ]
    }
   ],
   "source": [
    "print(\"Probability distribution is\", mostPosNeg2[most_pos_evidence_indx])"
   ]
  },
  {
   "cell_type": "code",
   "execution_count": 41,
   "metadata": {},
   "outputs": [
    {
     "name": "stdout",
     "output_type": "stream",
     "text": [
      "First top feature for positive evidence: s_3g_ppl\n",
      "Second top feature for positive evidence: s_2g_ppl\n",
      "Third top feature for positive evidence: f_k\n"
     ]
    }
   ],
   "source": [
    "indx1 = 0\n",
    "indx2 = 0\n",
    "indx3 = 0\n",
    "first = 0\n",
    "second = 0\n",
    "third = 0\n",
    "\n",
    "for i in range(len(p_evidence_3)):\n",
    "    if (p_evidence_3[i][1] > third and p_evidence_3[i][1] > second and p_evidence_3[i][1] > first):\n",
    "        third = second \n",
    "        indx3 = indx2\n",
    "        second = first\n",
    "        indx2 = indx1\n",
    "        first = p_evidence_3[i][1]\n",
    "        indx1 = p_evidence_3[i][0]\n",
    "    elif (p_evidence_3[i][1] > third and p_evidence_3[i][1] > second):\n",
    "        third = second \n",
    "        indx3 = indx2\n",
    "        second = p_evidence_3[i][1]\n",
    "        indx2 = p_evidence_3[i][0]\n",
    "    elif(p_evidence_3[i][1] > third):\n",
    "        third = p_evidence_3[i][1]\n",
    "        indx3 = p_evidence_3[i][0]\n",
    "        \n",
    "print(\"First top feature for positive evidence:\" ,list(df)[indx1])\n",
    "print(\"Second top feature for positive evidence:\" ,list(df)[indx2])\n",
    "print(\"Third top feature for positive evidence:\" ,list(df)[indx3])"
   ]
  },
  {
   "cell_type": "code",
   "execution_count": 42,
   "metadata": {},
   "outputs": [
    {
     "name": "stdout",
     "output_type": "stream",
     "text": [
      "First top feature for negative evidence: total_error\n",
      "Second top feature for negative evidence: pro_3s_v\n",
      "Third top feature for negative evidence: pro_aux\n"
     ]
    }
   ],
   "source": [
    "indx1 = 0\n",
    "indx2 = 0\n",
    "indx3 = 0\n",
    "first = 0\n",
    "second = 0\n",
    "third = 0\n",
    "\n",
    "for i in range(len(n_evidence_3)):\n",
    "    if (abs(n_evidence_3[i][1]) > third and abs(n_evidence_3[i][1]) > second and abs(n_evidence_3[i][1]) > first):\n",
    "        third = second \n",
    "        indx3 = indx2\n",
    "        second = first\n",
    "        indx2 = indx1\n",
    "        first = n_evidence_3[i][1]\n",
    "        indx1 = n_evidence_3[i][0]\n",
    "    elif (abs(n_evidence_3[i][1]) > third and abs(n_evidence_3[i][1]) > second):\n",
    "        third = second \n",
    "        indx3 = indx2\n",
    "        second = n_evidence_3[i][1]\n",
    "        indx2 = n_evidence_3[i][0]\n",
    "    elif(abs(n_evidence_3[i][1]) > third):\n",
    "        third = n_evidence_3[i][1]\n",
    "        indx3 = n_evidence_3[i][0]\n",
    "\n",
    "print(\"First top feature for negative evidence:\" ,list(df)[indx1])\n",
    "print(\"Second top feature for negative evidence:\" ,list(df)[indx2])\n",
    "print(\"Third top feature for negative evidence:\" ,list(df)[indx3])"
   ]
  },
  {
   "cell_type": "markdown",
   "metadata": {},
   "source": [
    "## The object that has the largest (in magnitude) negative evidence."
   ]
  },
  {
   "cell_type": "code",
   "execution_count": 43,
   "metadata": {
    "collapsed": true
   },
   "outputs": [],
   "source": [
    "eviPosEvi_2n = 0\n",
    "eviNegEvi_2n = 0\n",
    "p_evidence_4 = []\n",
    "n_evidence_4 = []\n",
    "\n",
    "for i, objFeatureValue in enumerate(test_x_z[most_neg_evidence_indx]):\n",
    "    evidenceComp = clf2_z.coef_[0][i]*objFeatureValue\n",
    "    if evidenceComp >= 0:\n",
    "        eviPosEvi_2n += evidenceComp\n",
    "        p_evidence_4.append((i,evidenceComp))\n",
    "    else:\n",
    "        eviNegEvi_2n += evidenceComp\n",
    "        n_evidence_4.append((i,evidenceComp))"
   ]
  },
  {
   "cell_type": "code",
   "execution_count": 44,
   "metadata": {},
   "outputs": [
    {
     "name": "stdout",
     "output_type": "stream",
     "text": [
      "The total positive evdence is  20.7628121949\n",
      "The total negative evidence is  -22.4658669574\n"
     ]
    }
   ],
   "source": [
    "print(\"The total positive evdence is \",eviPosEvi_2n)\n",
    "print(\"The total negative evidence is \", eviNegEvi_2n)"
   ]
  },
  {
   "cell_type": "code",
   "execution_count": 45,
   "metadata": {},
   "outputs": [
    {
     "name": "stdout",
     "output_type": "stream",
     "text": [
      "Probability distribution is [ 0.84593328  0.15406672]\n"
     ]
    }
   ],
   "source": [
    "print(\"Probability distribution is\", mostPosNeg2[most_neg_evidence_indx])"
   ]
  },
  {
   "cell_type": "code",
   "execution_count": 46,
   "metadata": {},
   "outputs": [
    {
     "name": "stdout",
     "output_type": "stream",
     "text": [
      "First top feature for positive evidence: child_TNW\n",
      "Second top feature for positive evidence: total_syl\n",
      "Third top feature for positive evidence: n_aux\n"
     ]
    }
   ],
   "source": [
    "indx1 = 0\n",
    "indx2 = 0\n",
    "indx3 = 0\n",
    "first = 0\n",
    "second = 0\n",
    "third = 0\n",
    "\n",
    "for i in range(len(p_evidence_4)):\n",
    "    if (p_evidence_4[i][1] > third and p_evidence_4[i][1] > second and p_evidence_4[i][1] > first):\n",
    "        third = second \n",
    "        indx3 = indx2\n",
    "        second = first\n",
    "        indx2 = indx1\n",
    "        first = p_evidence_4[i][1]\n",
    "        indx1 = p_evidence_4[i][0]\n",
    "    elif (p_evidence_4[i][1] > third and p_evidence_4[i][1] > second):\n",
    "        third = second \n",
    "        indx3 = indx2\n",
    "        second = p_evidence_4[i][1]\n",
    "        indx2 = p_evidence_4[i][0]\n",
    "    elif(p_evidence_4[i][1] > third):\n",
    "        third = p_evidence_4[i][1]\n",
    "        indx3 = p_evidence_4[i][0]\n",
    "        \n",
    "print(\"First top feature for positive evidence:\" ,list(df)[indx1])\n",
    "print(\"Second top feature for positive evidence:\" ,list(df)[indx2])\n",
    "print(\"Third top feature for positive evidence:\" ,list(df)[indx3])"
   ]
  },
  {
   "cell_type": "code",
   "execution_count": 47,
   "metadata": {},
   "outputs": [
    {
     "name": "stdout",
     "output_type": "stream",
     "text": [
      "First top feature for negative evidence: total_error\n",
      "Second top feature for negative evidence: pro_3s_v\n",
      "Third top feature for negative evidence: pro_aux\n"
     ]
    }
   ],
   "source": [
    "indx1 = 0\n",
    "indx2 = 0\n",
    "indx3 = 0\n",
    "first = 0\n",
    "second = 0\n",
    "third = 0\n",
    "\n",
    "for i in range(len(n_evidence_4)):\n",
    "    if (abs(n_evidence_4[i][1]) > third and abs(n_evidence_4[i][1]) > second and abs(n_evidence_4[i][1]) > first):\n",
    "        third = second \n",
    "        indx3 = indx2\n",
    "        second = first\n",
    "        indx2 = indx1\n",
    "        first = n_evidence_4[i][1]\n",
    "        indx1 = n_evidence_4[i][0]\n",
    "    elif (abs(n_evidence_4[i][1]) > third and abs(n_evidence_4[i][1]) > second):\n",
    "        third = second \n",
    "        indx3 = indx2\n",
    "        second = n_evidence_4[i][1]\n",
    "        indx2 = n_evidence_4[i][0]\n",
    "    elif(abs(n_evidence_4[i][1]) > third):\n",
    "        third = n_evidence_4[i][1]\n",
    "        indx3 = n_evidence_4[i][0]\n",
    "\n",
    "print(\"First top feature for negative evidence:\" ,list(df)[indx1])\n",
    "print(\"Second top feature for negative evidence:\" ,list(df)[indx2])\n",
    "print(\"Third top feature for negative evidence:\" ,list(df)[indx3])"
   ]
  },
  {
   "cell_type": "markdown",
   "metadata": {},
   "source": [
    "## 5. The most uncertain object (the probabilities are closest to 0.5)"
   ]
  },
  {
   "cell_type": "code",
   "execution_count": 48,
   "metadata": {},
   "outputs": [
    {
     "name": "stdout",
     "output_type": "stream",
     "text": [
      "The most uncertain object is  333\n"
     ]
    }
   ],
   "source": [
    "mostUncertain = 1\n",
    "mostUncertainIndx = 0 \n",
    "for i in range(len(mostPosNeg2)):\n",
    "    if abs(mostPosNeg2[i][1] - mostPosNeg2[i][0]) < abs(mostUncertain):\n",
    "        mostUncertain = mostPosNeg2[i][1] - mostPosNeg2[i][0]\n",
    "        mostUncertainIndx = i        \n",
    "\n",
    "print(\"The most uncertain object is \",mostUncertainIndx)"
   ]
  },
  {
   "cell_type": "code",
   "execution_count": 50,
   "metadata": {
    "collapsed": true
   },
   "outputs": [],
   "source": [
    "unPosEvi_2 = 0\n",
    "unNegEvi_2 = 0\n",
    "p_evidence_5 = []\n",
    "n_evidence_5 = []\n",
    "\n",
    "for i, objFeatureValue in enumerate(test_x_z[mostUncertainIndx]):\n",
    "    evidenceComp = clf2_z.coef_[0][i]*objFeatureValue\n",
    "    if evidenceComp >= 0:\n",
    "        unPosEvi_2 += evidenceComp\n",
    "        p_evidence_5.append((i,evidenceComp))\n",
    "    else:\n",
    "        unNegEvi_2 += evidenceComp\n",
    "        n_evidence_5.append((i,evidenceComp))"
   ]
  },
  {
   "cell_type": "code",
   "execution_count": 51,
   "metadata": {},
   "outputs": [
    {
     "name": "stdout",
     "output_type": "stream",
     "text": [
      "The total positive evdence is  4.18792244862\n",
      "The total negative evidence is  -3.98721163786\n"
     ]
    }
   ],
   "source": [
    "print(\"The total positive evdence is \",unPosEvi_2)\n",
    "print(\"The total negative evidence is \",  unNegEvi_2)"
   ]
  },
  {
   "cell_type": "code",
   "execution_count": 52,
   "metadata": {},
   "outputs": [
    {
     "name": "stdout",
     "output_type": "stream",
     "text": [
      "Probability distribution is [ 0.44999007  0.55000993]\n"
     ]
    }
   ],
   "source": [
    "print(\"Probability distribution is\", mostPosNeg2[mostUncertainIndx])"
   ]
  },
  {
   "cell_type": "code",
   "execution_count": 53,
   "metadata": {},
   "outputs": [
    {
     "name": "stdout",
     "output_type": "stream",
     "text": [
      "First top feature for positive evidence: mlu100_utts\n",
      "Second top feature for positive evidence: examiner_TNW\n",
      "Third top feature for positive evidence: z_ndw_td\n"
     ]
    }
   ],
   "source": [
    "indx1 = 0\n",
    "indx2 = 0\n",
    "indx3 = 0\n",
    "first = 0\n",
    "second = 0\n",
    "third = 0\n",
    "\n",
    "for i in range(len(p_evidence_5)):\n",
    "    if (p_evidence_5[i][1] > third and p_evidence_5[i][1] > second and p_evidence_5[i][1] > first):\n",
    "        third = second \n",
    "        indx3 = indx2\n",
    "        second = first\n",
    "        indx2 = indx1\n",
    "        first = p_evidence_5[i][1]\n",
    "        indx1 = p_evidence_5[i][0]\n",
    "    elif (p_evidence_5[i][1] > third and p_evidence_5[i][1] > second):\n",
    "        third = second \n",
    "        indx3 = indx2\n",
    "        second = p_evidence_5[i][1]\n",
    "        indx2 = p_evidence_5[i][0]\n",
    "    elif(p_evidence_5[i][1] > third):\n",
    "        third = p_evidence_5[i][1]\n",
    "        indx3 = p_evidence_5[i][0]\n",
    "        \n",
    "print(\"First top feature for positive evidence:\" ,list(df)[indx1])\n",
    "print(\"Second top feature for positive evidence:\" ,list(df)[indx2])\n",
    "print(\"Third top feature for positive evidence:\" ,list(df)[indx3])"
   ]
  },
  {
   "cell_type": "code",
   "execution_count": 54,
   "metadata": {},
   "outputs": [
    {
     "name": "stdout",
     "output_type": "stream",
     "text": [
      "First top feature for negative evidence: pro_aux\n",
      "Second top feature for negative evidence: n_aux\n",
      "Third top feature for negative evidence: n_v\n"
     ]
    }
   ],
   "source": [
    "indx1 = 0\n",
    "indx2 = 0\n",
    "indx3 = 0\n",
    "first = 0\n",
    "second = 0\n",
    "third = 0\n",
    "\n",
    "for i in range(len(n_evidence_5)):\n",
    "    if (abs(n_evidence_5[i][1]) > third and abs(n_evidence_5[i][1]) > second and abs(n_evidence_5[i][1]) > first):\n",
    "        third = second \n",
    "        indx3 = indx2\n",
    "        second = first\n",
    "        indx2 = indx1\n",
    "        first = n_evidence_5[i][1]\n",
    "        indx1 = n_evidence_5[i][0]\n",
    "    elif (abs(n_evidence_5[i][1]) > third and abs(n_evidence_5[i][1]) > second):\n",
    "        third = second \n",
    "        indx3 = indx2\n",
    "        second = n_evidence_5[i][1]\n",
    "        indx2 = n_evidence_5[i][0]\n",
    "    elif(abs(n_evidence_5[i][1]) > third):\n",
    "        third = n_evidence_5[i][1]\n",
    "        indx3 = n_evidence_5[i][0]\n",
    "\n",
    "print(\"First top feature for negative evidence:\" ,list(df)[indx1])\n",
    "print(\"Second top feature for negative evidence:\" ,list(df)[indx2])\n",
    "print(\"Third top feature for negative evidence:\" ,list(df)[indx3])"
   ]
  },
  {
   "cell_type": "code",
   "execution_count": null,
   "metadata": {
    "collapsed": true
   },
   "outputs": [],
   "source": []
  }
 ],
 "metadata": {
  "kernelspec": {
   "display_name": "Python 3",
   "language": "python",
   "name": "python3"
  },
  "language_info": {
   "codemirror_mode": {
    "name": "ipython",
    "version": 3
   },
   "file_extension": ".py",
   "mimetype": "text/x-python",
   "name": "python",
   "nbconvert_exporter": "python",
   "pygments_lexer": "ipython3",
   "version": "3.6.1"
  }
 },
 "nbformat": 4,
 "nbformat_minor": 2
}
